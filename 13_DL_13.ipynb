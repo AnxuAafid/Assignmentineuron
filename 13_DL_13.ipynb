{
  "cells": [
    {
      "cell_type": "markdown",
      "id": "4a248256",
      "metadata": {
        "id": "4a248256"
      },
      "source": [
        "#### 1.\tWhy is it generally preferable to use a Logistic Regression classifier rather than a classical Perceptron (i.e., a single layer of linear threshold units trained using the Perceptron training algorithm)? How can you tweak a Perceptron to make it equivalent to a Logistic Regression classifier?"
      ]
    },
    {
      "cell_type": "markdown",
      "id": "15ab0282",
      "metadata": {
        "id": "15ab0282"
      },
      "source": [
        "There are several reasons why logistic regression is generally preferred over a classical perceptron:\n",
        "\n",
        "1. Output: Logistic regression produces a probabilistic output, which is more suitable for classification tasks compared to a perceptron that only produces binary outputs. Probabilistic output allows for easier interpretation of the model's output and provides a measure of uncertainty.\n",
        "\n",
        "2. Linearity: Logistic regression can model non-linear decision boundaries through the use of polynomial features or interaction terms. In contrast, a single-layer perceptron can only model linear decision boundaries.\n",
        "\n",
        "3. Convergence: Logistic regression converges faster and is less sensitive to outliers compared to a perceptron. Perceptron training can diverge if the data is not linearly separable.\n",
        "\n",
        "To tweak a perceptron to make it equivalent to a logistic regression classifier, you can:\n",
        "\n",
        "1. Replace the step function in the perceptron with a logistic function to produce probabilistic outputs.\n",
        "\n",
        "2. Modify the loss function used in the perceptron training algorithm. Instead of using the perceptron loss function, which only considers misclassified examples, you can use a log-loss function, which takes into account the predicted probabilities.\n",
        "\n",
        "3. Use a multilayer perceptron (MLP) architecture, which allows for the modeling of non-linear decision boundaries through the use of hidden layers and activation functions. The MLP can be trained using backpropagation with a log-loss function, making it equivalent to logistic regression."
      ]
    },
    {
      "cell_type": "markdown",
      "id": "f5c5f184",
      "metadata": {
        "id": "f5c5f184"
      },
      "source": [
        "#### 2.\tWhy was the logistic activation function a key ingredient in training the first MLPs?"
      ]
    },
    {
      "cell_type": "markdown",
      "id": "1df49fc4",
      "metadata": {
        "id": "1df49fc4"
      },
      "source": [
        "the logistic activation function, also known as the sigmoid function, was a key ingredient in training the first Multi-Layer Perceptrons (MLPs) for these main reasons:\n",
        "\n",
        "1) Non-linearity, 2) Gradient calculation, 3) Output range and 4) Smoothness"
      ]
    },
    {
      "cell_type": "markdown",
      "id": "edf7aaa4",
      "metadata": {
        "id": "edf7aaa4"
      },
      "source": [
        "#### 3.\tName three popular activation functions. Can you draw them?"
      ]
    },
    {
      "cell_type": "markdown",
      "id": "a8b4e4a6",
      "metadata": {
        "id": "a8b4e4a6"
      },
      "source": [
        "the three popular activation Functions are:\n",
        "1) Sigmoid\n",
        "2) ReLu\n",
        "3) Hyperbolic Tangent"
      ]
    },
    {
      "cell_type": "code",
      "execution_count": null,
      "id": "d9ffcfa2",
      "metadata": {
        "id": "d9ffcfa2",
        "outputId": "34d71647-9ced-4043-e1ec-30f0d231b5b0"
      },
      "outputs": [
        {
          "data": {
            "image/png": "[encoded data removed]",
            "text/plain": [
              "<Figure size 576x432 with 1 Axes>"
            ]
          },
          "metadata": {
            "needs_background": "light"
          },
          "output_type": "display_data"
        }
      ],
      "source": [
        "import numpy as np\n",
        "import matplotlib.pyplot as plt\n",
        "\n",
        "# Define the activation functions\n",
        "def sigmoid(x):\n",
        "    return 1 / (1 + np.exp(-x))\n",
        "\n",
        "def relu(x):\n",
        "    return np.maximum(0, x)\n",
        "\n",
        "def tanh(x):\n",
        "    return np.tanh(x)\n",
        "\n",
        "# Create an array of x values\n",
        "x = np.linspace(-6, 6, 100)\n",
        "\n",
        "# Compute the y values for each activation function\n",
        "y_sigmoid = sigmoid(x)\n",
        "y_relu = relu(x)\n",
        "y_tanh = tanh(x)\n",
        "\n",
        "# Plot the activation functions\n",
        "plt.figure(figsize=(8, 6))\n",
        "plt.plot(x, y_sigmoid, label='Sigmoid')\n",
        "plt.plot(x, y_relu, label='ReLU')\n",
        "plt.plot(x, y_tanh, label='Tanh')\n",
        "plt.xlabel('x')\n",
        "plt.ylabel('f(x)')\n",
        "plt.title('Activation Functions')\n",
        "plt.legend()\n",
        "plt.grid(True)\n",
        "plt.show()\n"
      ]
    },
    {
      "cell_type": "code",
      "execution_count": null,
      "id": "f3735837",
      "metadata": {
        "id": "f3735837"
      },
      "outputs": [],
      "source": []
    },
    {
      "cell_type": "code",
      "execution_count": null,
      "id": "0ebb65ba",
      "metadata": {
        "id": "0ebb65ba"
      },
      "outputs": [],
      "source": []
    },
    {
      "cell_type": "markdown",
      "id": "746cb7cc",
      "metadata": {
        "id": "746cb7cc"
      },
      "source": [
        "#### 4.\tSuppose you have an MLP composed of one input layer with 10 passthrough neurons, followed by one hidden layer with 50 artificial neurons, and finally one output layer with 3 artificial neurons. All artificial neurons use the ReLU activation function.\n",
        "- What is the shape of the input matrix X?\n",
        "- What about the shape of the hidden layer’s weight vector Wh, and the shape of its bias vector bh?\n",
        "- What is the shape of the output layer’s weight vector Wo, and its bias vector bo?\n",
        "- What is the shape of the network’s output matrix Y?\n",
        "- Write the equation that computes the network’s output matrix Y as a function of X, Wh, bh, Wo and bo."
      ]
    },
    {
      "cell_type": "markdown",
      "id": "94944322",
      "metadata": {
        "id": "94944322"
      },
      "source": [
        "The MLP has:\n",
        "\n",
        "Input layer with 10 passthrough neurons\n",
        "Hidden layer with 50 artificial neurons using the ReLU activation function\n",
        "Output layer with 3 artificial neurons using the ReLU activation function\n",
        "Based on this architecture, we can answer the following questions:\n",
        "\n",
        "The shape of the input matrix X would be (m, 10), where m is the number of instances in the input data. Each instance has 10 features corresponding to the 10 passthrough neurons.\n",
        "\n",
        "The shape of the hidden layer's weight matrix Wh would be (10, 50), where 10 is the number of passthrough neurons in the input layer, and 50 is the number of artificial neurons in the hidden layer. The shape of the bias vector bh would be (50,), which has one bias term for each artificial neuron in the hidden layer.\n",
        "\n",
        "The shape of the output layer's weight matrix Wo would be (50, 3), where 50 is the number of artificial neurons in the hidden layer, and 3 is the number of artificial neurons in the output layer. The shape of the bias vector bo would be (3,), which has one bias term for each artificial neuron in the output layer.\n",
        "\n",
        "The shape of the network's output matrix Y would be (m, 3), where m is the number of instances in the input data, and 3 is the number of artificial neurons in the output layer.\n",
        "\n",
        "The equation that computes the network's output matrix Y as a function of X, Wh, bh, Wo, and bo is:\n",
        "\n",
        "where dot() is the dot product operation, np.maximum() is the ReLU activation function, and Y is the output matrix."
      ]
    },
    {
      "cell_type": "markdown",
      "id": "332cbd41",
      "metadata": {
        "id": "332cbd41"
      },
      "source": [
        "#### 5.\tHow many neurons do you need in the output layer if you want to classify email into spam or ham? What activation function should you use in the output layer? If instead you want to tackle MNIST, how many neurons do you need in the output layer, using what activation function?"
      ]
    },
    {
      "cell_type": "markdown",
      "id": "b6dbb704",
      "metadata": {
        "id": "b6dbb704"
      },
      "source": [
        "To classify emails as spam or ham, a single neuron in the output layer is sufficient. The output of this neuron can be interpreted as the probability of the email being spam. By applying a threshold to this probability, such as 0.5, the email can be classified as spam if the probability exceeds the threshold, and as ham otherwise. In this binary classification scenario, the sigmoid function is commonly used as the activation function in the output layer. The sigmoid function outputs a value between 0 and 1, representing the probability of the email belonging to the positive class.\n",
        "\n",
        "On the other hand, for the MNIST dataset, which involves the classification of handwritten digits from 0 to 9, the output layer requires 10 neurons, one for each possible digit. In multi-class classification problems like this, the activation function employed in the output layer is the softmax function. The softmax function generates a probability distribution across the 10 classes, where the output of each neuron corresponds to the probability of the input belonging to a specific class."
      ]
    },
    {
      "cell_type": "markdown",
      "id": "4e479268",
      "metadata": {
        "id": "4e479268"
      },
      "source": [
        "#### 6.\tWhat is backpropagation and how does it work? What is the difference between backpropagation and reverse-mode autodiff?"
      ]
    },
    {
      "cell_type": "markdown",
      "id": "37671014",
      "metadata": {
        "id": "37671014"
      },
      "source": [
        "Backpropagation is a supervised learning algorithm used for training neural networks through gradient descent optimization. It aims to minimize the discrepancy between the network's predicted output and the actual output by adjusting the network's weights and biases. Backpropagation involves two main phases: the forward pass and the backward pass.\n",
        "\n",
        "During the forward pass, the input is fed through the network layer by layer, computing the output at each layer. This is done by taking the weighted sum of the inputs and applying a non-linear activation function. The output of the final layer is then compared to the true output, resulting in a loss value.\n",
        "\n",
        "In the backward pass, the gradient of the loss function with respect to each weight and bias is computed using the chain rule of differentiation. This process starts from the final layer and moves backward through the network. The gradients are used to update the weights and biases in the opposite direction of the gradient, with the learning rate determining the step size of the update. This iterative process is repeated until the network's performance reaches a satisfactory level.\n",
        "\n",
        "Reverse-mode autodiff, or backpropagation through time, is a more general algorithm used to compute gradients in computational graphs. While backpropagation is a specific implementation of reverse-mode autodiff for neural networks, the underlying principles are the same. Reverse-mode autodiff decomposes the computation graph of a function into elementary operations and recursively applies the chain rule of differentiation from the output to the inputs. This algorithm is efficient for functions with numerous inputs and few outputs, making it suitable for neural networks. In contrast, numerical methods like finite differences become computationally impractical when dealing with a large number of inputs."
      ]
    },
    {
      "cell_type": "markdown",
      "id": "f71bd58a",
      "metadata": {
        "id": "f71bd58a"
      },
      "source": [
        "#### 7.\tCan you list all the hyperparameters you can tweak in an MLP? If the MLP overfits the training data, how could you tweak these hyperparameters to try to solve the problem?"
      ]
    },
    {
      "cell_type": "markdown",
      "id": "7b5e5d56",
      "metadata": {
        "id": "7b5e5d56"
      },
      "source": [
        "In a Multi-Layer Perceptron (MLP), several hyperparameters can be adjusted to influence the model's performance. Here are some key hyperparameters that can be tweaked in an MLP:\n",
        "\n",
        "1. Number of Hidden Layers: The number of hidden layers determines the depth of the network and its ability to capture complex patterns in the data.\n",
        "\n",
        "2. Number of Neurons per Hidden Layer: The number of neurons in each hidden layer controls the capacity and representational power of the network. Increasing the number of neurons can allow the model to learn more intricate relationships but may also lead to overfitting.\n",
        "\n",
        "3. Activation Functions: The choice of activation function for each layer affects the non-linearity and expressive power of the network. Common choices include sigmoid, ReLU, and tanh.\n",
        "\n",
        "4. Learning Rate: The learning rate determines the step size during weight updates in gradient descent. A high learning rate may cause the model to overshoot the optimal solution, while a low learning rate may slow down convergence.\n",
        "\n",
        "5. Regularization: Regularization techniques, such as L1 or L2 regularization, can be applied to prevent overfitting by adding a penalty term to the loss function.\n",
        "\n",
        "6. Dropout: Dropout is a regularization technique that randomly sets a fraction of the neurons to zero during training, reducing interdependencies and preventing overfitting.\n",
        "\n",
        "7. Batch Size: The batch size determines the number of samples processed before weight updates. A larger batch size may provide a more stable estimate of the gradient but can lead to slower convergence.\n",
        "\n",
        "8. Number of Training Iterations: The number of iterations or epochs controls the number of times the entire training dataset is processed during training. Increasing the number of iterations allows the model to learn more from the data, but excessive iterations can lead to overfitting.\n",
        "\n",
        "If the MLP overfits the training data, meaning it performs well on the training data but poorly on new, unseen data, several adjustments can be made to mitigate the issue:\n",
        "\n",
        "1. Reduce Model Complexity: Decrease the number of hidden layers or neurons in each layer to reduce the model's capacity and prevent overfitting.\n",
        "\n",
        "2. Increase Regularization: Strengthen regularization techniques such as L1 or L2 regularization to penalize large weights and encourage simpler models.\n",
        "\n",
        "3. Apply Dropout: Introduce dropout layers to randomly deactivate neurons during training, which can prevent the model from relying too heavily on specific features.\n",
        "\n",
        "4. Augment Training Data: Increase the size and diversity of the training data by applying techniques such as data augmentation, which can help the model generalize better.\n",
        "\n",
        "5. Early Stopping: Monitor the model's performance on a validation set during training and stop training when the validation error starts to increase, indicating overfitting.\n",
        "\n",
        "6. Adjust Learning Rate: Decrease the learning rate to slow down weight updates and allow the model to converge more gradually.\n",
        ""
      ]
    },
    {
      "cell_type": "markdown",
      "id": "0d16db75",
      "metadata": {
        "id": "0d16db75"
      },
      "source": [
        "#### 8.\tTrain a deep MLP on the MNIST dataset and see if you can get over 98% precision. Try adding all the bells and whistles (i.e., save checkpoints, restore the last checkpoint in case of an interruption, add summaries, plot learning curves using TensorBoard, and so on)."
      ]
    },
    {
      "cell_type": "code",
      "execution_count": 1,
      "id": "600e9098",
      "metadata": {
        "id": "600e9098"
      },
      "outputs": [],
      "source": [
        "import tensorflow as tf\n",
        "from tensorflow import keras"
      ]
    },
    {
      "cell_type": "code",
      "execution_count": 2,
      "id": "0e7f8390",
      "metadata": {
        "colab": {
          "base_uri": "https://localhost:8080/"
        },
        "id": "0e7f8390",
        "outputId": "dffd336c-50a3-4bff-aab6-ed6d1a194995"
      },
      "outputs": [
        {
          "output_type": "stream",
          "name": "stdout",
          "text": [
            "Downloading data from https://storage.googleapis.com/tensorflow/tf-keras-datasets/mnist.npz\n",
            "11490434/11490434 [==============================] - 0s 0us/step\n"
          ]
        }
      ],
      "source": [
        "# Load the MNIST dataset\n",
        "mnist = keras.datasets.mnist\n",
        "(train_images, train_labels), (test_images, test_labels) = mnist.load_data()"
      ]
    },
    {
      "cell_type": "code",
      "execution_count": 3,
      "id": "230652a2",
      "metadata": {
        "id": "230652a2"
      },
      "outputs": [],
      "source": [
        "# Pre-processing the data\n",
        "train_images = train_images / 255.0\n",
        "test_images = test_images / 255.0\n",
        "train_labels = keras.utils.to_categorical(train_labels)\n",
        "test_labels = keras.utils.to_categorical(test_labels)"
      ]
    },
    {
      "cell_type": "code",
      "execution_count": 4,
      "id": "f9b1c855",
      "metadata": {
        "id": "f9b1c855"
      },
      "outputs": [],
      "source": [
        "model = keras.Sequential([\n",
        "    keras.layers.Flatten(input_shape=(28, 28)),\n",
        "    keras.layers.Dense(64, activation='relu'),\n",
        "    keras.layers.Dropout(0.2),\n",
        "    keras.layers.Dense(10, activation='softmax')\n",
        "])"
      ]
    },
    {
      "cell_type": "code",
      "execution_count": 5,
      "id": "5e0be519",
      "metadata": {
        "colab": {
          "base_uri": "https://localhost:8080/"
        },
        "id": "5e0be519",
        "outputId": "1a8e56e4-4180-4e14-8e6a-f0ff02486f12"
      },
      "outputs": [
        {
          "output_type": "stream",
          "name": "stdout",
          "text": [
            "Epoch 1/10\n",
            "1875/1875 [==============================] - 15s 4ms/step - loss: 0.3603 - accuracy: 0.8951 - val_loss: 0.1670 - val_accuracy: 0.9513\n",
            "Epoch 2/10\n",
            "1875/1875 [==============================] - 5s 3ms/step - loss: 0.1904 - accuracy: 0.9431 - val_loss: 0.1230 - val_accuracy: 0.9630\n",
            "Epoch 3/10\n",
            "1875/1875 [==============================] - 6s 3ms/step - loss: 0.1528 - accuracy: 0.9535 - val_loss: 0.1103 - val_accuracy: 0.9649\n",
            "Epoch 4/10\n",
            "1875/1875 [==============================] - 6s 3ms/step - loss: 0.1334 - accuracy: 0.9604 - val_loss: 0.0986 - val_accuracy: 0.9705\n",
            "Epoch 5/10\n",
            "1875/1875 [==============================] - 6s 3ms/step - loss: 0.1168 - accuracy: 0.9636 - val_loss: 0.0908 - val_accuracy: 0.9713\n",
            "Epoch 6/10\n",
            "1875/1875 [==============================] - 5s 3ms/step - loss: 0.1083 - accuracy: 0.9664 - val_loss: 0.0877 - val_accuracy: 0.9727\n",
            "Epoch 7/10\n",
            "1875/1875 [==============================] - 6s 3ms/step - loss: 0.0991 - accuracy: 0.9693 - val_loss: 0.0884 - val_accuracy: 0.9728\n",
            "Epoch 8/10\n",
            "1875/1875 [==============================] - 6s 3ms/step - loss: 0.0929 - accuracy: 0.9706 - val_loss: 0.0845 - val_accuracy: 0.9741\n",
            "Epoch 9/10\n",
            "1875/1875 [==============================] - 6s 3ms/step - loss: 0.0886 - accuracy: 0.9715 - val_loss: 0.0848 - val_accuracy: 0.9752\n",
            "Epoch 10/10\n",
            "1875/1875 [==============================] - 6s 3ms/step - loss: 0.0825 - accuracy: 0.9741 - val_loss: 0.0819 - val_accuracy: 0.9754\n"
          ]
        },
        {
          "output_type": "execute_result",
          "data": {
            "text/plain": [
              "<keras.callbacks.History at 0x7fee5c06ee60>"
            ]
          },
          "metadata": {},
          "execution_count": 5
        }
      ],
      "source": [
        "model.compile(optimizer='adam',\n",
        "              loss='categorical_crossentropy',\n",
        "              metrics=['accuracy'])\n",
        "\n",
        "model.fit(train_images, train_labels, epochs=10, batch_size=32, validation_data=(test_images, test_labels))"
      ]
    },
    {
      "cell_type": "code",
      "execution_count": 6,
      "id": "245206e5",
      "metadata": {
        "id": "245206e5"
      },
      "outputs": [],
      "source": [
        "# Save checkpoints\n",
        "checkpoint_path = \"model_checkpoint/cp.ckpt\"\n",
        "cp_callback = tf.keras.callbacks.ModelCheckpoint(filepath=checkpoint_path, save_weights_only=True, verbose=1)"
      ]
    },
    {
      "cell_type": "code",
      "execution_count": 7,
      "id": "031c4178",
      "metadata": {
        "colab": {
          "base_uri": "https://localhost:8080/"
        },
        "id": "031c4178",
        "outputId": "b72e23fd-6fe8-4977-c28c-c076b007baa8"
      },
      "outputs": [
        {
          "output_type": "stream",
          "name": "stdout",
          "text": [
            "Epoch 1/10\n",
            "1867/1875 [============================>.] - ETA: 0s - loss: 0.0825 - accuracy: 0.9732\n",
            "Epoch 1: saving model to model_checkpoint/cp.ckpt\n",
            "1875/1875 [==============================] - 6s 3ms/step - loss: 0.0827 - accuracy: 0.9732 - val_loss: 0.0813 - val_accuracy: 0.9762\n",
            "Epoch 2/10\n",
            "1858/1875 [============================>.] - ETA: 0s - loss: 0.0746 - accuracy: 0.9766\n",
            "Epoch 2: saving model to model_checkpoint/cp.ckpt\n",
            "1875/1875 [==============================] - 6s 3ms/step - loss: 0.0747 - accuracy: 0.9765 - val_loss: 0.0835 - val_accuracy: 0.9749\n",
            "Epoch 3/10\n",
            "1870/1875 [============================>.] - ETA: 0s - loss: 0.0729 - accuracy: 0.9764\n",
            "Epoch 3: saving model to model_checkpoint/cp.ckpt\n",
            "1875/1875 [==============================] - 6s 3ms/step - loss: 0.0729 - accuracy: 0.9764 - val_loss: 0.0845 - val_accuracy: 0.9758\n",
            "Epoch 4/10\n",
            "1861/1875 [============================>.] - ETA: 0s - loss: 0.0710 - accuracy: 0.9770\n",
            "Epoch 4: saving model to model_checkpoint/cp.ckpt\n",
            "1875/1875 [==============================] - 6s 3ms/step - loss: 0.0709 - accuracy: 0.9770 - val_loss: 0.0873 - val_accuracy: 0.9751\n",
            "Epoch 5/10\n",
            "1867/1875 [============================>.] - ETA: 0s - loss: 0.0683 - accuracy: 0.9777\n",
            "Epoch 5: saving model to model_checkpoint/cp.ckpt\n",
            "1875/1875 [==============================] - 5s 3ms/step - loss: 0.0683 - accuracy: 0.9776 - val_loss: 0.0864 - val_accuracy: 0.9749\n",
            "Epoch 6/10\n",
            "1858/1875 [============================>.] - ETA: 0s - loss: 0.0664 - accuracy: 0.9780\n",
            "Epoch 6: saving model to model_checkpoint/cp.ckpt\n",
            "1875/1875 [==============================] - 6s 3ms/step - loss: 0.0663 - accuracy: 0.9781 - val_loss: 0.0851 - val_accuracy: 0.9750\n",
            "Epoch 7/10\n",
            "1865/1875 [============================>.] - ETA: 0s - loss: 0.0635 - accuracy: 0.9787\n",
            "Epoch 7: saving model to model_checkpoint/cp.ckpt\n",
            "1875/1875 [==============================] - 5s 3ms/step - loss: 0.0636 - accuracy: 0.9786 - val_loss: 0.0867 - val_accuracy: 0.9754\n",
            "Epoch 8/10\n",
            "1864/1875 [============================>.] - ETA: 0s - loss: 0.0629 - accuracy: 0.9787\n",
            "Epoch 8: saving model to model_checkpoint/cp.ckpt\n",
            "1875/1875 [==============================] - 6s 3ms/step - loss: 0.0630 - accuracy: 0.9787 - val_loss: 0.0816 - val_accuracy: 0.9767\n",
            "Epoch 9/10\n",
            "1863/1875 [============================>.] - ETA: 0s - loss: 0.0614 - accuracy: 0.9791\n",
            "Epoch 9: saving model to model_checkpoint/cp.ckpt\n",
            "1875/1875 [==============================] - 6s 3ms/step - loss: 0.0617 - accuracy: 0.9790 - val_loss: 0.0906 - val_accuracy: 0.9759\n",
            "Epoch 10/10\n",
            "1861/1875 [============================>.] - ETA: 0s - loss: 0.0597 - accuracy: 0.9802\n",
            "Epoch 10: saving model to model_checkpoint/cp.ckpt\n",
            "1875/1875 [==============================] - 6s 3ms/step - loss: 0.0595 - accuracy: 0.9803 - val_loss: 0.0921 - val_accuracy: 0.9745\n"
          ]
        },
        {
          "output_type": "execute_result",
          "data": {
            "text/plain": [
              "<keras.callbacks.History at 0x7fee5bf469b0>"
            ]
          },
          "metadata": {},
          "execution_count": 7
        }
      ],
      "source": [
        "# Train the model with checkpointing\n",
        "model.fit(train_images, train_labels, epochs=10, batch_size=32, validation_data=(test_images, test_labels), callbacks=[cp_callback])"
      ]
    },
    {
      "cell_type": "code",
      "execution_count": 8,
      "id": "ebea0a8d",
      "metadata": {
        "colab": {
          "base_uri": "https://localhost:8080/"
        },
        "id": "ebea0a8d",
        "outputId": "c9a55b00-2d51-4cb2-923c-162e9a867fae"
      },
      "outputs": [
        {
          "output_type": "execute_result",
          "data": {
            "text/plain": [
              "<tensorflow.python.checkpoint.checkpoint.CheckpointLoadStatus at 0x7fee5bda0700>"
            ]
          },
          "metadata": {},
          "execution_count": 8
        }
      ],
      "source": [
        "# Restore the last checkpoint\n",
        "latest_checkpoint = tf.train.latest_checkpoint(\"model_checkpoint/\")\n",
        "model.load_weights(latest_checkpoint)"
      ]
    },
    {
      "cell_type": "code",
      "execution_count": 9,
      "id": "2aba133d",
      "metadata": {
        "id": "2aba133d"
      },
      "outputs": [],
      "source": [
        "# Add summaries\n",
        "log_dir = \"logs/fit/\"\n",
        "tensorboard_callback = tf.keras.callbacks.TensorBoard(log_dir=log_dir, histogram_freq=1)"
      ]
    },
    {
      "cell_type": "code",
      "execution_count": 10,
      "id": "b436e22d",
      "metadata": {
        "colab": {
          "base_uri": "https://localhost:8080/"
        },
        "id": "b436e22d",
        "outputId": "231c9d02-537c-47f4-aa4a-c2d7db4c0809"
      },
      "outputs": [
        {
          "output_type": "stream",
          "name": "stdout",
          "text": [
            "Epoch 1/10\n",
            "1875/1875 [==============================] - 6s 3ms/step - loss: 0.0582 - accuracy: 0.9808 - val_loss: 0.0888 - val_accuracy: 0.9760\n",
            "Epoch 2/10\n",
            "1875/1875 [==============================] - 7s 4ms/step - loss: 0.0559 - accuracy: 0.9811 - val_loss: 0.0909 - val_accuracy: 0.9759\n",
            "Epoch 3/10\n",
            "1875/1875 [==============================] - 6s 3ms/step - loss: 0.0549 - accuracy: 0.9813 - val_loss: 0.0972 - val_accuracy: 0.9749\n",
            "Epoch 4/10\n",
            "1875/1875 [==============================] - 7s 4ms/step - loss: 0.0544 - accuracy: 0.9816 - val_loss: 0.0966 - val_accuracy: 0.9747\n",
            "Epoch 5/10\n",
            "1875/1875 [==============================] - 6s 3ms/step - loss: 0.0511 - accuracy: 0.9825 - val_loss: 0.0967 - val_accuracy: 0.9737\n",
            "Epoch 6/10\n",
            "1875/1875 [==============================] - 7s 4ms/step - loss: 0.0521 - accuracy: 0.9825 - val_loss: 0.0984 - val_accuracy: 0.9735\n",
            "Epoch 7/10\n",
            "1875/1875 [==============================] - 6s 3ms/step - loss: 0.0510 - accuracy: 0.9826 - val_loss: 0.0934 - val_accuracy: 0.9757\n",
            "Epoch 8/10\n",
            "1875/1875 [==============================] - 7s 3ms/step - loss: 0.0507 - accuracy: 0.9821 - val_loss: 0.0957 - val_accuracy: 0.9762\n",
            "Epoch 9/10\n",
            "1875/1875 [==============================] - 6s 3ms/step - loss: 0.0489 - accuracy: 0.9833 - val_loss: 0.0949 - val_accuracy: 0.9761\n",
            "Epoch 10/10\n",
            "1875/1875 [==============================] - 7s 3ms/step - loss: 0.0470 - accuracy: 0.9837 - val_loss: 0.1048 - val_accuracy: 0.9751\n"
          ]
        },
        {
          "output_type": "execute_result",
          "data": {
            "text/plain": [
              "<keras.callbacks.History at 0x7fee5bdbe5c0>"
            ]
          },
          "metadata": {},
          "execution_count": 10
        }
      ],
      "source": [
        "model.fit(train_images, train_labels, epochs=10, batch_size=32, validation_data=(test_images, test_labels), callbacks=[tensorboard_callback])"
      ]
    },
    {
      "cell_type": "code",
      "source": [],
      "metadata": {
        "id": "kusqTuDx3W8e"
      },
      "id": "kusqTuDx3W8e",
      "execution_count": 10,
      "outputs": []
    }
  ],
  "metadata": {
    "kernelspec": {
      "display_name": "Python 3",
      "name": "python3"
    },
    "language_info": {
      "codemirror_mode": {
        "name": "ipython",
        "version": 3
      },
      "file_extension": ".py",
      "mimetype": "text/x-python",
      "name": "python",
      "nbconvert_exporter": "python",
      "pygments_lexer": "ipython3",
      "version": "3.8.8"
    },
    "colab": {
      "provenance": [],
      "gpuType": "T4"
    },
    "accelerator": "GPU"
  },
  "nbformat": 4,
  "nbformat_minor": 5
}