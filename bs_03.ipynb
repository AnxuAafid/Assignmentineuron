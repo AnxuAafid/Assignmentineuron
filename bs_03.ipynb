{
 "cells": [
  {
   "cell_type": "markdown",
   "metadata": {},
   "source": [
    "#### 1. Why are functions advantageous to have in your programs?\n",
    "**Ans:**  functions are a powerful tool for organizing, reusing, and abstracting away complex code in your programs. They can make your code more modular, maintainable, and easier to use, while also simplifying the debugging process."
   ]
  },
  {
   "cell_type": "markdown",
   "metadata": {},
   "source": [
    "#### 2. When does the code in a function run: when it's specified or when it's called?\n",
    "**Ans:** The code in a function runs when the function is called, not when it is specified.\n",
    "When you define a function in Python, you are essentially creating a block of code that can be executed later by calling the function. The code inside the function definition is not executed until the function is actually called in your program.\n",
    "\n",
    "In other words we can say the code in a function only runs when the function is called. Until that point, the code inside the function definition is simply stored in memory, waiting to be executed."
   ]
  },
  {
   "cell_type": "markdown",
   "metadata": {},
   "source": [
    "#### 3. What statement creates a function?\n",
    "**Ans:** TThe def statement is used to create a function in Python.\n",
    "The def keyword is followed by the function name, a pair of parentheses (), and a colon :. The body of the function is indented below the def statement, and can contain one or more Python statements.  \n",
    "**Syntax of Function:**  \n",
    "` def function_name(parameters):\n",
    "    \"\"\"doc string\"\"\"          \n",
    "    -----function body-----\n",
    "    -----function body-----\n",
    "    return value\n",
    "`"
   ]
  },
  {
   "cell_type": "markdown",
   "metadata": {},
   "source": [
    "#### 4. What is the difference between a function and a function call?\n",
    "**Ans:** A function is procedure or piece of code that is used to achieve a particular task or result. while function call is code which is used to call this function to achive that task. \n"
   ]
  },
  {
   "cell_type": "code",
   "execution_count": 1,
   "metadata": {},
   "outputs": [
    {
     "name": "stdout",
     "output_type": "stream",
     "text": [
      "5\n"
     ]
    }
   ],
   "source": [
    "# Define a function named 'add'\n",
    "def add(a, b):\n",
    "    return a + b\n",
    "\n",
    "# Call the 'add' function with arguments 2 and 3\n",
    "result = add(2, 3)\n",
    "\n",
    "# Print the result\n",
    "print(result)"
   ]
  },
  {
   "cell_type": "markdown",
   "metadata": {},
   "source": [
    "#### 5. How many global scopes are there in a Python program? How many local scopes?\n",
    "**Ans:** there is only one global scope, which is created when the program starts running. This global scope contains all the variables, functions, and other objects that are defined outside of any function or class definition.\n",
    "\n",
    "Every time a function is called, a new local scope is created for that function. Local scopes are temporary, and they only exist for the duration of the function call. Any variables or objects created inside a function are only accessible within the local scope of that function, and they are destroyed when the function completes."
   ]
  },
  {
   "cell_type": "code",
   "execution_count": 2,
   "metadata": {},
   "outputs": [
    {
     "name": "stdout",
     "output_type": "stream",
     "text": [
      "Before calling any function: x =  10\n",
      "Inside my_function: x =  10\n",
      "Inside my_function: y =  20\n",
      "After calling my_function: x =  10\n",
      "Inside modify_global: x =  15\n",
      "After calling modify_global: x =  15\n"
     ]
    }
   ],
   "source": [
    "# Global variable\n",
    "x = 10\n",
    "\n",
    "# Function that defines a local variable 'y'\n",
    "def my_function():\n",
    "    y = 20\n",
    "    print(\"Inside my_function: x = \", x)\n",
    "    print(\"Inside my_function: y = \", y)\n",
    "\n",
    "# Function that modifies the global variable 'x'\n",
    "def modify_global():\n",
    "    global x\n",
    "    x = x + 5\n",
    "    print(\"Inside modify_global: x = \", x)\n",
    "\n",
    "# Main program\n",
    "print(\"Before calling any function: x = \", x)\n",
    "\n",
    "my_function()\n",
    "\n",
    "print(\"After calling my_function: x = \", x)\n",
    "\n",
    "modify_global()\n",
    "\n",
    "print(\"After calling modify_global: x = \", x)\n"
   ]
  },
  {
   "cell_type": "markdown",
   "metadata": {},
   "source": [
    "#### 6. What happens to variables in a local scope when the function call returns?\n",
    "**Ans:** When a function call returns, any variables defined within its local scope are destroyed and their values are lost. This is because local variables only exist within the context of the function call, and they are created anew each time the function is called."
   ]
  },
  {
   "cell_type": "code",
   "execution_count": 4,
   "metadata": {},
   "outputs": [
    {
     "name": "stdout",
     "output_type": "stream",
     "text": [
      "Inside my_function: z = 10\n"
     ]
    },
    {
     "ename": "NameError",
     "evalue": "name 'z' is not defined",
     "output_type": "error",
     "traceback": [
      "\u001b[1;31m---------------------------------------------------------------------------\u001b[0m",
      "\u001b[1;31mNameError\u001b[0m                                 Traceback (most recent call last)",
      "\u001b[1;32m<ipython-input-4-9d2c0a92c480>\u001b[0m in \u001b[0;36m<module>\u001b[1;34m\u001b[0m\n\u001b[0;32m      4\u001b[0m \u001b[1;33m\u001b[0m\u001b[0m\n\u001b[0;32m      5\u001b[0m \u001b[0mmy_function\u001b[0m\u001b[1;33m(\u001b[0m\u001b[1;33m)\u001b[0m\u001b[1;33m\u001b[0m\u001b[1;33m\u001b[0m\u001b[0m\n\u001b[1;32m----> 6\u001b[1;33m \u001b[0mprint\u001b[0m\u001b[1;33m(\u001b[0m\u001b[1;34m\"Outside my_function: z =\"\u001b[0m\u001b[1;33m,\u001b[0m \u001b[0mz\u001b[0m\u001b[1;33m)\u001b[0m\u001b[1;33m\u001b[0m\u001b[1;33m\u001b[0m\u001b[0m\n\u001b[0m",
      "\u001b[1;31mNameError\u001b[0m: name 'z' is not defined"
     ]
    }
   ],
   "source": [
    "def my_function():\n",
    "    z = 10\n",
    "    print(\"Inside my_function: z =\", z)\n",
    "\n",
    "my_function()\n",
    "print(\"Outside my_function: z =\", z)\n"
   ]
  },
  {
   "cell_type": "markdown",
   "metadata": {},
   "source": [
    "#### 7. What is the concept of a return value? Is it possible to have a return value in an expression?\n",
    "**Ans**:  The concept of a return value is an important one in programming. When a function is called, it may perform some operations and then return a value back to the calling code. This return value can then be used by the calling code for further processing. Like any value, a return value can be used as part of an expression."
   ]
  },
  {
   "cell_type": "markdown",
   "metadata": {},
   "source": [
    "#### 8. If a function does not have a return statement, what is the return value of a call to that function?\n",
    "**Ans:** If there is no return statement for a function, its return value is `None`."
   ]
  },
  {
   "cell_type": "code",
   "execution_count": 5,
   "metadata": {},
   "outputs": [
    {
     "name": "stdout",
     "output_type": "stream",
     "text": [
      "Hello, world!\n",
      "Result: None\n"
     ]
    }
   ],
   "source": [
    "def print_hello():\n",
    "    print(\"Hello, world!\")\n",
    "\n",
    "result = print_hello()\n",
    "print(\"Result:\", result)"
   ]
  },
  {
   "cell_type": "markdown",
   "metadata": {},
   "source": [
    "#### 9. How do you make a function variable refer to the global variable?\n",
    "**Ans:** A global statement will force a variable in a function to refer to the global variable.\n",
    "If you want to refer to a global variable in a function, you can use the `global` keyword to declare which variables are  global."
   ]
  },
  {
   "cell_type": "code",
   "execution_count": 6,
   "metadata": {},
   "outputs": [
    {
     "name": "stdout",
     "output_type": "stream",
     "text": [
      "Before function: x = 10\n",
      "Inside function: x = 20\n",
      "After function: x = 20\n"
     ]
    }
   ],
   "source": [
    "x = 10\n",
    "\n",
    "def print_x():\n",
    "    global x\n",
    "    x = 20\n",
    "    print(\"Inside function: x =\", x)\n",
    "\n",
    "print(\"Before function: x =\", x)\n",
    "print_x()\n",
    "print(\"After function: x =\", x)"
   ]
  },
  {
   "cell_type": "markdown",
   "metadata": {},
   "source": [
    "#### 10. What is the data type of None?\n",
    "**Ans:** The data type of None is `NoneType`."
   ]
  },
  {
   "cell_type": "markdown",
   "metadata": {},
   "source": [
    "#### 11. What does the sentence import areallyourpetsnamederic do?\n",
    "**Ans:** That import statement imports a module named areallyourpetsnamederic."
   ]
  },
  {
   "cell_type": "markdown",
   "metadata": {},
   "source": [
    "#### 12. If you had a bacon() feature in a spam module, what would you call it after importing spam?\n",
    "**Ans:** This function can be called with `spam.bacon()`."
   ]
  },
  {
   "cell_type": "code",
   "execution_count": null,
   "metadata": {},
   "outputs": [],
   "source": [
    "import spam\n",
    "\n",
    "spam.bacon()"
   ]
  },
  {
   "cell_type": "markdown",
   "metadata": {},
   "source": [
    "#### 13. What can you do to save a programme from crashing if it encounters an error?\n",
    "**Ans:** we can use exception handling to handle errors that may occur during the execution of a program and prevent the program from crashing. Exception handling allows you to catch errors, handle them gracefully, and continue running the program."
   ]
  },
  {
   "cell_type": "code",
   "execution_count": null,
   "metadata": {},
   "outputs": [],
   "source": [
    "try:\n",
    "    # code that may cause an error\n",
    "except SomeException:\n",
    "    # code to handle the error\n",
    "else:\n",
    "    # code to run if there is no error\n",
    "finally:\n",
    "    # code to run regardless of whether there is an error or not\n"
   ]
  },
  {
   "cell_type": "markdown",
   "metadata": {},
   "source": [
    "#### 14. What is the purpose of the try clause? What is the purpose of the except clause?\n",
    "ANS: The purpose of the try clause is to contain the code that may cause an error or exception. The try statement works by attempting to execute the code in the try block. If an error occurs during the execution of the try block, the execution of the block is stopped, and the program jumps to the corresponding except clause.\n",
    "\n",
    "The purpose of the except clause is to handle the error or exception that occurred in the try block. The except statement allows you to specify how to handle different types of exceptions that may occur during the execution of the program. The except statement includes the type of exception that should be caught and the code to execute if that exception is raised. If no exception is raised, the except block is skipped.\n"
   ]
  },
  {
   "cell_type": "code",
   "execution_count": null,
   "metadata": {},
   "outputs": [],
   "source": []
  }
 ],
 "metadata": {
  "kernelspec": {
   "display_name": "Python 3",
   "language": "python",
   "name": "python3"
  },
  "language_info": {
   "codemirror_mode": {
    "name": "ipython",
    "version": 3
   },
   "file_extension": ".py",
   "mimetype": "text/x-python",
   "name": "python",
   "nbconvert_exporter": "python",
   "pygments_lexer": "ipython3",
   "version": "3.8.8"
  }
 },
 "nbformat": 4,
 "nbformat_minor": 4
}
