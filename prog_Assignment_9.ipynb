{
 "cells": [
  {
   "cell_type": "markdown",
   "id": "751bd7c1",
   "metadata": {},
   "source": [
    "# Write a Python program to check if the given number is a Disarium Number?"
   ]
  },
  {
   "cell_type": "code",
   "execution_count": 14,
   "id": "f6b995a9",
   "metadata": {},
   "outputs": [],
   "source": [
    "def disarium(num):\n",
    "    pwr = len(str(num))\n",
    "    sm = 0\n",
    "    cnum = num\n",
    "    for i in range(pwr,0,-1):\n",
    "        r = num % 10\n",
    "        sm = sm + r**i\n",
    "        r=0\n",
    "        num = num//10\n",
    "    check(sm,cnum)\n",
    "def check(sm,num):\n",
    "    if sm == num:\n",
    "        print(f\"{num} is Disarium Number\")\n",
    "    else:\n",
    "        print(f\"{num} isn't Disarium Number\")\n"
   ]
  },
  {
   "cell_type": "code",
   "execution_count": 15,
   "id": "1d763678",
   "metadata": {},
   "outputs": [
    {
     "name": "stdout",
     "output_type": "stream",
     "text": [
      "enter the number: 175\n",
      "175 is Disarium Number\n"
     ]
    }
   ],
   "source": [
    "disarium(int(input(\"enter the number: \")))\n"
   ]
  },
  {
   "cell_type": "markdown",
   "id": "4e2d0b84",
   "metadata": {},
   "source": [
    "# 2. Write a Python program to print all disarium numbers between 1 to 100?"
   ]
  },
  {
   "cell_type": "code",
   "execution_count": 16,
   "id": "9187eb05",
   "metadata": {},
   "outputs": [
    {
     "name": "stdout",
     "output_type": "stream",
     "text": [
      "1 is Disarium Number\n",
      "2 is Disarium Number\n",
      "3 is Disarium Number\n",
      "4 is Disarium Number\n",
      "5 is Disarium Number\n",
      "6 is Disarium Number\n",
      "7 is Disarium Number\n",
      "8 is Disarium Number\n",
      "9 is Disarium Number\n",
      "10 isn't Disarium Number\n",
      "11 isn't Disarium Number\n",
      "12 isn't Disarium Number\n",
      "13 isn't Disarium Number\n",
      "14 isn't Disarium Number\n",
      "15 isn't Disarium Number\n",
      "16 isn't Disarium Number\n",
      "17 isn't Disarium Number\n",
      "18 isn't Disarium Number\n",
      "19 isn't Disarium Number\n",
      "20 isn't Disarium Number\n",
      "21 isn't Disarium Number\n",
      "22 isn't Disarium Number\n",
      "23 isn't Disarium Number\n",
      "24 isn't Disarium Number\n",
      "25 isn't Disarium Number\n",
      "26 isn't Disarium Number\n",
      "27 isn't Disarium Number\n",
      "28 isn't Disarium Number\n",
      "29 isn't Disarium Number\n",
      "30 isn't Disarium Number\n",
      "31 isn't Disarium Number\n",
      "32 isn't Disarium Number\n",
      "33 isn't Disarium Number\n",
      "34 isn't Disarium Number\n",
      "35 isn't Disarium Number\n",
      "36 isn't Disarium Number\n",
      "37 isn't Disarium Number\n",
      "38 isn't Disarium Number\n",
      "39 isn't Disarium Number\n",
      "40 isn't Disarium Number\n",
      "41 isn't Disarium Number\n",
      "42 isn't Disarium Number\n",
      "43 isn't Disarium Number\n",
      "44 isn't Disarium Number\n",
      "45 isn't Disarium Number\n",
      "46 isn't Disarium Number\n",
      "47 isn't Disarium Number\n",
      "48 isn't Disarium Number\n",
      "49 isn't Disarium Number\n",
      "50 isn't Disarium Number\n",
      "51 isn't Disarium Number\n",
      "52 isn't Disarium Number\n",
      "53 isn't Disarium Number\n",
      "54 isn't Disarium Number\n",
      "55 isn't Disarium Number\n",
      "56 isn't Disarium Number\n",
      "57 isn't Disarium Number\n",
      "58 isn't Disarium Number\n",
      "59 isn't Disarium Number\n",
      "60 isn't Disarium Number\n",
      "61 isn't Disarium Number\n",
      "62 isn't Disarium Number\n",
      "63 isn't Disarium Number\n",
      "64 isn't Disarium Number\n",
      "65 isn't Disarium Number\n",
      "66 isn't Disarium Number\n",
      "67 isn't Disarium Number\n",
      "68 isn't Disarium Number\n",
      "69 isn't Disarium Number\n",
      "70 isn't Disarium Number\n",
      "71 isn't Disarium Number\n",
      "72 isn't Disarium Number\n",
      "73 isn't Disarium Number\n",
      "74 isn't Disarium Number\n",
      "75 isn't Disarium Number\n",
      "76 isn't Disarium Number\n",
      "77 isn't Disarium Number\n",
      "78 isn't Disarium Number\n",
      "79 isn't Disarium Number\n",
      "80 isn't Disarium Number\n",
      "81 isn't Disarium Number\n",
      "82 isn't Disarium Number\n",
      "83 isn't Disarium Number\n",
      "84 isn't Disarium Number\n",
      "85 isn't Disarium Number\n",
      "86 isn't Disarium Number\n",
      "87 isn't Disarium Number\n",
      "88 isn't Disarium Number\n",
      "89 is Disarium Number\n",
      "90 isn't Disarium Number\n",
      "91 isn't Disarium Number\n",
      "92 isn't Disarium Number\n",
      "93 isn't Disarium Number\n",
      "94 isn't Disarium Number\n",
      "95 isn't Disarium Number\n",
      "96 isn't Disarium Number\n",
      "97 isn't Disarium Number\n",
      "98 isn't Disarium Number\n",
      "99 isn't Disarium Number\n"
     ]
    }
   ],
   "source": [
    "for i in range(1,100):\n",
    "    disarium(i)"
   ]
  },
  {
   "cell_type": "markdown",
   "id": "2b6db1d4",
   "metadata": {},
   "source": [
    "# Write a Python program to check if the given number is Happy Number?"
   ]
  },
  {
   "cell_type": "code",
   "execution_count": 6,
   "id": "10c85053",
   "metadata": {},
   "outputs": [],
   "source": [
    "def chkhpynum(num):\n",
    "    \n",
    "    rem = sumz = 0\n",
    "    while(num > 0):\n",
    "        rem = num%10\n",
    "        sumz = sumz + (rem*rem)\n",
    "        num = num//10\n",
    "    return sumz;\n",
    "def alpha(num):\n",
    "    res = num\n",
    "    while(res != 1 and res != 4):\n",
    "        res = chkhpynum(res)\n",
    "        if(res == 1):\n",
    "            \n",
    "            print(f\"{num} is a happy number\")\n",
    "        elif(res == 4):\n",
    "            print(f\"{num} isn't a happy number\")\n"
   ]
  },
  {
   "cell_type": "code",
   "execution_count": 9,
   "id": "2e27134b",
   "metadata": {},
   "outputs": [
    {
     "name": "stdout",
     "output_type": "stream",
     "text": [
      "enter the number: 42\n",
      "42 isn't a happy number\n"
     ]
    }
   ],
   "source": [
    "alpha(int(input(\"enter the number: \")))"
   ]
  },
  {
   "cell_type": "markdown",
   "id": "be7f795c",
   "metadata": {},
   "source": [
    "\n",
    "# 4. Write a Python program to print all happy numbers between 1 and 100?"
   ]
  },
  {
   "cell_type": "code",
   "execution_count": 10,
   "id": "16141eb6",
   "metadata": {},
   "outputs": [
    {
     "name": "stdout",
     "output_type": "stream",
     "text": [
      "2 isn't a happy number\n",
      "3 isn't a happy number\n",
      "5 isn't a happy number\n",
      "6 isn't a happy number\n",
      "7 is a happy number\n",
      "8 isn't a happy number\n",
      "9 isn't a happy number\n",
      "10 is a happy number\n",
      "11 isn't a happy number\n",
      "12 isn't a happy number\n",
      "13 is a happy number\n",
      "14 isn't a happy number\n",
      "15 isn't a happy number\n",
      "16 isn't a happy number\n",
      "17 isn't a happy number\n",
      "18 isn't a happy number\n",
      "19 is a happy number\n",
      "20 isn't a happy number\n",
      "21 isn't a happy number\n",
      "22 isn't a happy number\n",
      "23 is a happy number\n",
      "24 isn't a happy number\n",
      "25 isn't a happy number\n",
      "26 isn't a happy number\n",
      "27 isn't a happy number\n",
      "28 is a happy number\n",
      "29 isn't a happy number\n",
      "30 isn't a happy number\n",
      "31 is a happy number\n",
      "32 is a happy number\n",
      "33 isn't a happy number\n",
      "34 isn't a happy number\n",
      "35 isn't a happy number\n",
      "36 isn't a happy number\n",
      "37 isn't a happy number\n",
      "38 isn't a happy number\n",
      "39 isn't a happy number\n",
      "40 isn't a happy number\n",
      "41 isn't a happy number\n",
      "42 isn't a happy number\n",
      "43 isn't a happy number\n",
      "44 is a happy number\n",
      "45 isn't a happy number\n",
      "46 isn't a happy number\n",
      "47 isn't a happy number\n",
      "48 isn't a happy number\n",
      "49 is a happy number\n",
      "50 isn't a happy number\n",
      "51 isn't a happy number\n",
      "52 isn't a happy number\n",
      "53 isn't a happy number\n",
      "54 isn't a happy number\n",
      "55 isn't a happy number\n",
      "56 isn't a happy number\n",
      "57 isn't a happy number\n",
      "58 isn't a happy number\n",
      "59 isn't a happy number\n",
      "60 isn't a happy number\n",
      "61 isn't a happy number\n",
      "62 isn't a happy number\n",
      "63 isn't a happy number\n",
      "64 isn't a happy number\n",
      "65 isn't a happy number\n",
      "66 isn't a happy number\n",
      "67 isn't a happy number\n",
      "68 is a happy number\n",
      "69 isn't a happy number\n",
      "70 is a happy number\n",
      "71 isn't a happy number\n",
      "72 isn't a happy number\n",
      "73 isn't a happy number\n",
      "74 isn't a happy number\n",
      "75 isn't a happy number\n",
      "76 isn't a happy number\n",
      "77 isn't a happy number\n",
      "78 isn't a happy number\n",
      "79 is a happy number\n",
      "80 isn't a happy number\n",
      "81 isn't a happy number\n",
      "82 is a happy number\n",
      "83 isn't a happy number\n",
      "84 isn't a happy number\n",
      "85 isn't a happy number\n",
      "86 is a happy number\n",
      "87 isn't a happy number\n",
      "88 isn't a happy number\n",
      "89 isn't a happy number\n",
      "90 isn't a happy number\n",
      "91 is a happy number\n",
      "92 isn't a happy number\n",
      "93 isn't a happy number\n",
      "94 is a happy number\n",
      "95 isn't a happy number\n",
      "96 isn't a happy number\n",
      "97 is a happy number\n",
      "98 isn't a happy number\n",
      "99 isn't a happy number\n"
     ]
    }
   ],
   "source": [
    "for i in range(1,100):\n",
    "    alpha(i)"
   ]
  },
  {
   "cell_type": "code",
   "execution_count": null,
   "id": "75fcc571",
   "metadata": {},
   "outputs": [],
   "source": []
  }
 ],
 "metadata": {
  "kernelspec": {
   "display_name": "Python 3",
   "language": "python",
   "name": "python3"
  },
  "language_info": {
   "codemirror_mode": {
    "name": "ipython",
    "version": 3
   },
   "file_extension": ".py",
   "mimetype": "text/x-python",
   "name": "python",
   "nbconvert_exporter": "python",
   "pygments_lexer": "ipython3",
   "version": "3.8.8"
  }
 },
 "nbformat": 4,
 "nbformat_minor": 5
}
