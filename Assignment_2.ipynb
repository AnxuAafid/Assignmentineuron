{
 "cells": [
  {
   "cell_type": "markdown",
   "id": "ec47bf99",
   "metadata": {},
   "source": [
    "# 1. Write a Python program to convert kilometers to miles?"
   ]
  },
  {
   "cell_type": "code",
   "execution_count": 3,
   "id": "1aa9789f",
   "metadata": {},
   "outputs": [
    {
     "name": "stdout",
     "output_type": "stream",
     "text": [
      "Converting Kilometers into Meters, please enter the value in kilometer: \n",
      "1\n",
      "0.62137\n"
     ]
    }
   ],
   "source": [
    "def convert(kilo):\n",
    "    return kilo*0.62137\n",
    "print(\"Converting Kilometers into Meters, please enter the value in kilometer: \")\n",
    "print(convert(float(input())))"
   ]
  },
  {
   "cell_type": "markdown",
   "id": "bbe04c78",
   "metadata": {},
   "source": [
    "# 2. Write a Python program to convert Celsius to Fahrenheit?"
   ]
  },
  {
   "cell_type": "code",
   "execution_count": 5,
   "id": "6d8c2db0",
   "metadata": {},
   "outputs": [
    {
     "name": "stdout",
     "output_type": "stream",
     "text": [
      "Converting celsius into fahrenheit, please enter the value in celsius: \n",
      "54\n",
      "129.2\n"
     ]
    }
   ],
   "source": [
    "def convert(celsius):\n",
    "    return celsius*1.8 + 32\n",
    "print(\"Converting celsius into fahrenheit, please enter the value in celsius: \")\n",
    "print(convert(float(input())))"
   ]
  },
  {
   "cell_type": "markdown",
   "id": "955239f9",
   "metadata": {},
   "source": [
    "# 3. Write a Python program to display calendar?"
   ]
  },
  {
   "cell_type": "code",
   "execution_count": 9,
   "id": "be35bb68",
   "metadata": {},
   "outputs": [
    {
     "name": "stdout",
     "output_type": "stream",
     "text": [
      "enter the year: 2023\n",
      "enter the month: 2\n",
      "   February 2023\n",
      "Mo Tu We Th Fr Sa Su\n",
      "       1  2  3  4  5\n",
      " 6  7  8  9 10 11 12\n",
      "13 14 15 16 17 18 19\n",
      "20 21 22 23 24 25 26\n",
      "27 28\n",
      "\n"
     ]
    }
   ],
   "source": [
    "import calendar\n",
    "year = int(input('enter the year: '))\n",
    "month = int(input('enter the month: '))\n",
    "print(calendar.month(year, month))\n"
   ]
  },
  {
   "cell_type": "markdown",
   "id": "80ecc9d3",
   "metadata": {},
   "source": [
    "# 4. Write a Python program to solve quadratic equation?"
   ]
  },
  {
   "cell_type": "code",
   "execution_count": 13,
   "id": "b51a10a6",
   "metadata": {},
   "outputs": [
    {
     "name": "stdout",
     "output_type": "stream",
     "text": [
      "Enter a 0\n",
      "Enter b 3\n",
      "Enter c 4\n",
      "input incorrect for value of a \n"
     ]
    }
   ],
   "source": [
    "# formulla -b+-root(b^2 -4ac)/2a\n",
    "def sol_qe(a,b,c):\n",
    "    discrmnt = b**2 - 4*a*c\n",
    "    sq_root = abs(discrmnt**0.5)\n",
    "    \n",
    "    if discrmnt>0:\n",
    "        print('Real and Different roots')\n",
    "        print((-b+sq_root)/(2*a))\n",
    "        print((-b-sq_root)/(2*a)) \n",
    "    elif discrmnt == 0:\n",
    "        print(\"roots are real and same\")\n",
    "        print((-b/(2*a)))   \n",
    "    else:\n",
    "        print('Complex Roots')\n",
    "        print(-b/(2*a),\"+i\",sq_root)\n",
    "        print(-b/(2*a),\"-i\",sq_root)\n",
    "a=int(input('Enter a '))\n",
    "b=int(input('Enter b '))\n",
    "c=int(input('Enter c '))\n",
    "              \n",
    "if a==0:\n",
    "    print('input incorrect for value of a ')\n",
    "else:\n",
    "    sol_qe(a,b,c)"
   ]
  },
  {
   "cell_type": "markdown",
   "id": "8d26e4c4",
   "metadata": {},
   "source": [
    "# 5. Write a Python program to swap two variables without temp variable?"
   ]
  },
  {
   "cell_type": "code",
   "execution_count": 15,
   "id": "e2b4842f",
   "metadata": {},
   "outputs": [
    {
     "name": "stdout",
     "output_type": "stream",
     "text": [
      "swapping the numbers\n",
      "23\n",
      "34\n",
      "34 23\n"
     ]
    }
   ],
   "source": [
    "print(\"swapping the numbers\")\n",
    "num1 = int(input())\n",
    "num2 = int(input())\n",
    "num1,num2 = num2,num1\n",
    "\n",
    "print(num1,num2)"
   ]
  },
  {
   "cell_type": "code",
   "execution_count": null,
   "id": "38823158",
   "metadata": {},
   "outputs": [],
   "source": []
  }
 ],
 "metadata": {
  "kernelspec": {
   "display_name": "Python 3",
   "language": "python",
   "name": "python3"
  },
  "language_info": {
   "codemirror_mode": {
    "name": "ipython",
    "version": 3
   },
   "file_extension": ".py",
   "mimetype": "text/x-python",
   "name": "python",
   "nbconvert_exporter": "python",
   "pygments_lexer": "ipython3",
   "version": "3.8.8"
  }
 },
 "nbformat": 4,
 "nbformat_minor": 5
}
