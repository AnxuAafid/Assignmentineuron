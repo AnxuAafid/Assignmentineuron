{
 "cells": [
  {
   "cell_type": "markdown",
   "id": "22077d7f",
   "metadata": {},
   "source": [
    "# 1. Write a Python Program to Find the Factorial of a Number?\n"
   ]
  },
  {
   "cell_type": "code",
   "execution_count": 4,
   "id": "d8f7e2e8",
   "metadata": {},
   "outputs": [
    {
     "name": "stdout",
     "output_type": "stream",
     "text": [
      "9\n",
      "factorial of 9 is: \n",
      "1\n",
      "3\n",
      "9\n"
     ]
    }
   ],
   "source": [
    "def fac(num):\n",
    "    print(\"factorial of {} is: \".format(num))\n",
    "    for i in range(1, num+1):\n",
    "        if num%i == 0:\n",
    "            print(i)\n",
    "fac(int(input()))"
   ]
  },
  {
   "cell_type": "markdown",
   "id": "33963236",
   "metadata": {},
   "source": [
    "# 2. Write a Python Program to Display the multiplication Table?"
   ]
  },
  {
   "cell_type": "code",
   "execution_count": 6,
   "id": "284d4a25",
   "metadata": {},
   "outputs": [
    {
     "name": "stdout",
     "output_type": "stream",
     "text": [
      "enter the num for which you want to find the table: 2\n",
      "enter the value upto which you want to find multiplication table: 10\n",
      "2 * 1 = 2\n",
      "2 * 2 = 4\n",
      "2 * 3 = 6\n",
      "2 * 4 = 8\n",
      "2 * 5 = 10\n",
      "2 * 6 = 12\n",
      "2 * 7 = 14\n",
      "2 * 8 = 16\n",
      "2 * 9 = 18\n",
      "2 * 10 = 20\n"
     ]
    }
   ],
   "source": [
    "def mul(num,limit):\n",
    "    for i in range(1,limit+1):\n",
    "        print('{} * {} = {}'.format(num,i,num*i))\n",
    "num = int(input('enter the num for which you want to find the table: '))\n",
    "lim = int(input('enter the value upto which you want to find multiplication table: '))\n",
    "mul(num,lim)"
   ]
  },
  {
   "cell_type": "code",
   "execution_count": null,
   "id": "a0ab39cd",
   "metadata": {},
   "outputs": [],
   "source": []
  },
  {
   "cell_type": "markdown",
   "id": "cd10736a",
   "metadata": {},
   "source": [
    "# 3. Write a Python Program to Print the Fibonacci sequence?"
   ]
  },
  {
   "cell_type": "code",
   "execution_count": 10,
   "id": "96c43374",
   "metadata": {},
   "outputs": [
    {
     "name": "stdout",
     "output_type": "stream",
     "text": [
      "0\n",
      "8\n",
      "the fibonacci sequence is as :  [0, 1, 1, 2, 3, 5, 8, 13, 21]\n"
     ]
    }
   ],
   "source": [
    "def fib(start, end):\n",
    "    list = []\n",
    "    a = start\n",
    "    b = start+1\n",
    "    \n",
    "    for i in range(start,end+1):\n",
    "        list.append(a)\n",
    "        a , b = b, a+b\n",
    "    print(\"the fibonacci sequence is as : \",list)\n",
    "st = int(input())\n",
    "end = int(input())\n",
    "fib(st,end)"
   ]
  },
  {
   "cell_type": "markdown",
   "id": "de292719",
   "metadata": {},
   "source": [
    "# 4. Write a Python Program to Check Armstrong Number?"
   ]
  },
  {
   "cell_type": "code",
   "execution_count": 14,
   "id": "abad53b5",
   "metadata": {},
   "outputs": [
    {
     "name": "stdout",
     "output_type": "stream",
     "text": [
      "12\n",
      "12 not armstrong\n"
     ]
    }
   ],
   "source": [
    "def armstrng(num):\n",
    "    summ = 0; pwr = len(str(num))\n",
    "    no = num\n",
    "    while no>0:\n",
    "        x = no%10\n",
    "        no = no//10\n",
    "        summ += x**pwr\n",
    "    check(num,summ)\n",
    "def check(num,summ):\n",
    "    if num == summ:\n",
    "        print(num, \"Is Armstrng\")\n",
    "    else:\n",
    "        print (num, \"not armstrong\")\n",
    "armstrng(int(input()))\n"
   ]
  },
  {
   "cell_type": "markdown",
   "id": "f85be7d6",
   "metadata": {},
   "source": [
    "# 5. Write a Python Program to Find Armstrong Number in an Interval?"
   ]
  },
  {
   "cell_type": "code",
   "execution_count": 20,
   "id": "351b3ccd",
   "metadata": {},
   "outputs": [],
   "source": [
    "def armstrng(num):\n",
    "    summ = 0; pwr = len(str(num))\n",
    "    no = num\n",
    "    while no>0:\n",
    "        x = no%10\n",
    "        no = no//10\n",
    "        summ += x**pwr\n",
    "    check(num,summ)\n",
    "def check(num,summ):\n",
    "    if num == summ:\n",
    "        print(num, \"Is Armstrng\")"
   ]
  },
  {
   "cell_type": "code",
   "execution_count": 22,
   "id": "47b90b40",
   "metadata": {},
   "outputs": [
    {
     "name": "stdout",
     "output_type": "stream",
     "text": [
      "Please enter the range\n",
      "enter lower limit1\n",
      "enter upper limit500\n",
      "1 Is Armstrng\n",
      "2 Is Armstrng\n",
      "3 Is Armstrng\n",
      "4 Is Armstrng\n",
      "5 Is Armstrng\n",
      "6 Is Armstrng\n",
      "7 Is Armstrng\n",
      "8 Is Armstrng\n",
      "9 Is Armstrng\n",
      "153 Is Armstrng\n",
      "370 Is Armstrng\n",
      "371 Is Armstrng\n",
      "407 Is Armstrng\n"
     ]
    }
   ],
   "source": [
    "def xp(lwr,upr):\n",
    "    for i in range(lwr,upr):\n",
    "        armstrng(i)\n",
    "    \n",
    "print(\"Please enter the range\")\n",
    "lwr_limit = int(input('enter lower limit'))\n",
    "upr_limit = int(input('enter upper limit'))\n",
    "xp(lwr_limit,upr_limit)"
   ]
  },
  {
   "cell_type": "markdown",
   "id": "bce23fe9",
   "metadata": {},
   "source": [
    "# 6. Write a Python Program to Find the Sum of Natural Numbers?"
   ]
  },
  {
   "cell_type": "code",
   "execution_count": 28,
   "id": "751f2389",
   "metadata": {},
   "outputs": [
    {
     "name": "stdout",
     "output_type": "stream",
     "text": [
      "enter the last number 89\n",
      "4005\n"
     ]
    }
   ],
   "source": [
    "def snn(n):\n",
    "    return ((n*(n+1))//2)\n",
    "lmt=int(input(\"enter the last number \"))\n",
    "print(snn(lmt))"
   ]
  },
  {
   "cell_type": "code",
   "execution_count": null,
   "id": "29025942",
   "metadata": {},
   "outputs": [],
   "source": []
  }
 ],
 "metadata": {
  "kernelspec": {
   "display_name": "Python 3",
   "language": "python",
   "name": "python3"
  },
  "language_info": {
   "codemirror_mode": {
    "name": "ipython",
    "version": 3
   },
   "file_extension": ".py",
   "mimetype": "text/x-python",
   "name": "python",
   "nbconvert_exporter": "python",
   "pygments_lexer": "ipython3",
   "version": "3.8.8"
  }
 },
 "nbformat": 4,
 "nbformat_minor": 5
}
