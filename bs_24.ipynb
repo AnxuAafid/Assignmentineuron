{
 "cells": [
  {
   "cell_type": "markdown",
   "id": "3267a0e0",
   "metadata": {},
   "source": [
    "#### 1. What is the relationship between def statements and lambda expressions ?\n",
    "**Ans:** both def statements and lambda expressions are used to define functions. However, they have some differences in syntax and usage.\n",
    "\n",
    "A def statement is used to define a named function that can be called later in the program. Here's an example of defining a function using a def statement:\n",
    "\n",
    "def add_numbers(x, y):\n",
    "    return x + y\n",
    "    \n",
    "    \n",
    "On the other hand, a lambda expression is used to define an anonymous function (i.e., a function without a name) that can be used inline in the code. Here's an example of defining a function using a lambda expression:\n",
    "\n",
    "add_numbers = lambda x, y: x + y\n"
   ]
  },
  {
   "cell_type": "code",
   "execution_count": 1,
   "id": "0f861a42",
   "metadata": {},
   "outputs": [],
   "source": [
    "def add_numbers(x, y):\n",
    "    return x + y\n",
    "\n",
    "add_numbers = lambda x, y: x + y"
   ]
  },
  {
   "cell_type": "markdown",
   "id": "e23f6be0",
   "metadata": {},
   "source": [
    "#### 2. What is the benefit of lambda?\n",
    "**Ans:** The following are some of the benefits of lambda expressions: \n",
    "1. Concise syntax: Lambda expressions have a very concise syntax, which allows you to define simple functions with minimal code. This can make your code easier to read and maintain, especially for small functions that are only used once.\n",
    "\n",
    "2. One-time-use functions: Lambda expressions are often used for defining one-time-use functions that are used as arguments to higher-order functions. This avoids the need to define a separate named function for a simple operation that is only used once.\n",
    "\n",
    "3. Functional programming: Lambda expressions are a key feature of functional programming in Python, which emphasizes the use of higher-order functions and immutable data structures. Lambda expressions make it easy to define small, simple functions that can be composed together to create more complex behavior.\n",
    "\n",
    "4. Improved readability: In some cases, using a lambda expression can improve the readability of your code, especially when the lambda function is simple and self-contained. This is because the lambda function can be defined inline with the rest of your code, which can make it easier to understand the context in which it is used."
   ]
  },
  {
   "cell_type": "markdown",
   "id": "c0abb1a0",
   "metadata": {},
   "source": [
    "#### 3. Compare and contrast map, filter, and reduce.\n",
    "**Ans:** The differences between map, filter and reduce are: \n",
    "1. `map()`: The map() function is a type of higher-order. This function takes another function as a parameter\n",
    "along with a sequence of iterables and returns an output after applying the function to each iterable present in the\n",
    "sequence. \n",
    "2. `filter()`: The filter() function is used to create an output list consisting of values for which the function returns true.\n",
    "3. `reduce()`: The reduce() function, as the name describes, applies a given function to the iterables and returns a single value"
   ]
  },
  {
   "cell_type": "code",
   "execution_count": 1,
   "id": "a96df72c",
   "metadata": {},
   "outputs": [
    {
     "name": "stdout",
     "output_type": "stream",
     "text": [
      "Map -> [2, 4, 6, 8]\n",
      "Filter -> [1, 3]\n",
      "Reduce -> 21\n"
     ]
    }
   ],
   "source": [
    "from functools import reduce\n",
    "# map function\n",
    "print('Map ->',list(map(lambda x:x+x, [1,2,3,4])))\n",
    "# fitler function\n",
    "print('Filter ->',list(filter(lambda x:x%2 !=0, [1,2,3,4])))\n",
    "# reduce function\n",
    "print('Reduce ->',reduce(lambda x,y:x+y, [1,2,3,4,5,6]))"
   ]
  },
  {
   "cell_type": "markdown",
   "id": "ed66668e",
   "metadata": {},
   "source": [
    "#### 4. What are function annotations, and how are they used?\n",
    "**Ans:** Function annotations are a feature in Python that allow you to attach metadata to the parameters and return value of a function definition. Annotations are optional and have no effect on the function's behavior, but they can be used to document the function's intended use and help with type checking or code analysis.\n",
    "\n",
    "Function annotations are specified using a colon after the parameter or return type, followed by the type hint or other metadata enclosed in square brackets. Here's an example of a function definition with annotations:\n",
    "Annotations of simple parameters `def func(x: expression, y: expression = 20):`  \n",
    "Whereas the annotations for excess parameters are as − `def func (**args: expression, **kwargs: expression):`"
   ]
  },
  {
   "cell_type": "code",
   "execution_count": 2,
   "id": "c597dde8",
   "metadata": {},
   "outputs": [],
   "source": [
    "def greet(name: str, age: int) -> str:\n",
    "    return f\"Hello, {name}! You are {age} years old.\"\n"
   ]
  },
  {
   "cell_type": "markdown",
   "id": "e91c02f9",
   "metadata": {},
   "source": [
    "#### 5. What are recursive functions, and how are they used?\n",
    "**Ans:** \n",
    "Recursive functions are functions in programming that call themselves within their own code, usually with some modified arguments, until they reach a specific base case that stops the recursion. Recursive functions are a powerful programming technique and can be used to solve many problems that involve repetitive or self-referential tasks."
   ]
  },
  {
   "cell_type": "code",
   "execution_count": 3,
   "id": "009de6ab",
   "metadata": {},
   "outputs": [],
   "source": [
    "def factorial(n):\n",
    "    if n == 0:\n",
    "        return 1\n",
    "    else:\n",
    "        return n * factorial(n-1)\n"
   ]
  },
  {
   "cell_type": "markdown",
   "id": "0616de68",
   "metadata": {},
   "source": [
    "#### 6. What are some general design guidelines for coding functions?\n",
    "**Ans:** Some of the general design guidelines for coding functions are:\n",
    "1. Always use a docstring to explain the functionality of the function\n",
    "2. avoid using or limited use of global variables\n",
    "3. Proper Identation to increase the code readability\n",
    "4. try to follow a naming convention for function names (pascalCase or camelCase) and stick with the same convention throughout the application.\n",
    "5. Avoid using digits while choosing a variable name\n",
    "6. try to use a name for the function which conveys the purpose of the function\n",
    "7. Local variables should be named using camelCase format `(ex: localVariable)` whereas Global variables names should be using PascalCase `(ex:GlobalVariable)`. \n",
    "8. Constant should be represented in allcaps `(ex:CONSTANT)`."
   ]
  },
  {
   "cell_type": "markdown",
   "id": "50555ec6",
   "metadata": {},
   "source": [
    "#### 7. Name three or more ways that functions can communicate results to a caller.\n",
    "**Ans:** Some of the ways in which a function can communicate with the calling function is:\n",
    "1. print\n",
    "2. return\n",
    "3. yield"
   ]
  }
 ],
 "metadata": {
  "kernelspec": {
   "display_name": "Python 3",
   "language": "python",
   "name": "python3"
  },
  "language_info": {
   "codemirror_mode": {
    "name": "ipython",
    "version": 3
   },
   "file_extension": ".py",
   "mimetype": "text/x-python",
   "name": "python",
   "nbconvert_exporter": "python",
   "pygments_lexer": "ipython3",
   "version": "3.8.8"
  }
 },
 "nbformat": 4,
 "nbformat_minor": 5
}
