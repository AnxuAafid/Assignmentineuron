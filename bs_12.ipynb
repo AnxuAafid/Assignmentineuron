{
 "cells": [
  {
   "cell_type": "markdown",
   "id": "354c063f",
   "metadata": {},
   "source": [
    "#### 1. In what modes should the PdfFileReader() and PdfFileWriter() File objects will be opened?\n",
    "**Ans:** For **`PdfFileReader()`** file objects should be opened in **`rb`** -> read binary mode, Whereas for **`PdfFileWriter()`** file objects should be opened in **`wb`** -> write binary mode."
   ]
  },
  {
   "cell_type": "code",
   "execution_count": 3,
   "id": "60e5b90d",
   "metadata": {},
   "outputs": [
    {
     "ename": "ModuleNotFoundError",
     "evalue": "No module named 'PyPDF2'",
     "output_type": "error",
     "traceback": [
      "\u001b[1;31m---------------------------------------------------------------------------\u001b[0m",
      "\u001b[1;31mModuleNotFoundError\u001b[0m                       Traceback (most recent call last)",
      "\u001b[1;32m<ipython-input-3-590376ee9083>\u001b[0m in \u001b[0;36m<module>\u001b[1;34m\u001b[0m\n\u001b[1;32m----> 1\u001b[1;33m \u001b[1;32mimport\u001b[0m \u001b[0mPyPDF2\u001b[0m\u001b[1;33m\u001b[0m\u001b[1;33m\u001b[0m\u001b[0m\n\u001b[0m\u001b[0;32m      2\u001b[0m \u001b[1;33m\u001b[0m\u001b[0m\n\u001b[0;32m      3\u001b[0m \u001b[1;31m# Open the PDF file in read-binary mode\u001b[0m\u001b[1;33m\u001b[0m\u001b[1;33m\u001b[0m\u001b[1;33m\u001b[0m\u001b[0m\n\u001b[0;32m      4\u001b[0m \u001b[1;32mwith\u001b[0m \u001b[0mopen\u001b[0m\u001b[1;33m(\u001b[0m\u001b[1;34m'example.pdf'\u001b[0m\u001b[1;33m,\u001b[0m \u001b[1;34m'rb'\u001b[0m\u001b[1;33m)\u001b[0m \u001b[1;32mas\u001b[0m \u001b[0mfile\u001b[0m\u001b[1;33m:\u001b[0m\u001b[1;33m\u001b[0m\u001b[1;33m\u001b[0m\u001b[0m\n\u001b[0;32m      5\u001b[0m     \u001b[1;31m# Create a PdfFileReader object\u001b[0m\u001b[1;33m\u001b[0m\u001b[1;33m\u001b[0m\u001b[1;33m\u001b[0m\u001b[0m\n",
      "\u001b[1;31mModuleNotFoundError\u001b[0m: No module named 'PyPDF2'"
     ]
    }
   ],
   "source": [
    "import PyPDF2\n",
    "\n",
    "# Open the PDF file in read-binary mode\n",
    "with open('example.pdf', 'rb') as file:\n",
    "    # Create a PdfFileReader object\n",
    "    pdf_reader = PyPDF2.PdfFileReader(file)\n"
   ]
  },
  {
   "cell_type": "code",
   "execution_count": null,
   "id": "18d8dbf7",
   "metadata": {},
   "outputs": [],
   "source": [
    "import PyPDF2\n",
    "\n",
    "# Open the output file in write-binary mode\n",
    "with open('output.pdf', 'wb') as file:\n",
    "    # Create a PdfFileWriter object\n",
    "    pdf_writer = PyPDF2.PdfFileWriter()"
   ]
  },
  {
   "cell_type": "markdown",
   "id": "c1bd13eb",
   "metadata": {},
   "source": [
    "#### 2. From a PdfFileReader object, how do you get a Page object for page 5?\n",
    "**Ans:** **`PdfFileReader`** class provides a method called **`getPage(page_no)`** to get a page object."
   ]
  },
  {
   "cell_type": "code",
   "execution_count": 2,
   "id": "911bee10",
   "metadata": {},
   "outputs": [],
   "source": [
    "# Example Code:\n",
    "from PyPDF2 import PdfFileReader\n",
    "pdf_reader = PdfFileReader(file_path)\n",
    "for page in pdf_reader.getNumPages():\n",
    "    pdf_reader.getPage(page)"
   ]
  },
  {
   "cell_type": "markdown",
   "id": "ddc7d5e9",
   "metadata": {},
   "source": [
    "#### 3. What PdfFileReader variable stores the number of pages in the PDF document?\n",
    "**Ans:** **`getNumPages()`** method of **`PdfFileReader`** class stores the no pages in a PDF document"
   ]
  },
  {
   "cell_type": "code",
   "execution_count": null,
   "id": "eaf52330",
   "metadata": {},
   "outputs": [],
   "source": [
    "import PyPDF2\n",
    "\n",
    "# Open the PDF file in read-binary mode\n",
    "with open('example.pdf', 'rb') as file:\n",
    "    # Create a PdfFileReader object\n",
    "    pdf_reader = PyPDF2.PdfFileReader(file)\n",
    "\n",
    "    # Get the number of pages in the PDF document\n",
    "    num_pages = pdf_reader.getNumPages()\n",
    "    print(\"Number of pages:\", num_pages)"
   ]
  },
  {
   "cell_type": "markdown",
   "id": "b750ecda",
   "metadata": {},
   "source": [
    "#### 4. If a PdfFileReader object’s PDF is encrypted with the password swordfish, what must you do before you can obtain Page objects from it?\n",
    "**Ans:** we first create a PdfFileReader object from the encrypted PDF file. We then check if the PDF is encrypted using the isEncrypted variable of the PdfFileReader object. If it is encrypted, we decrypt the PDF using the decrypt() method and the correct password (in this case, 'swordfish'). Once the PDF is decrypted, we can use the getNumPages() and getPage() methods to obtain information about its pages.\n",
    "\n",
    "Note that if you provide the wrong password to the decrypt() method, a PyPDF2.utils.PdfReadError exception will be raised. You should make sure to handle this exception appropriately in your code.`**"
   ]
  },
  {
   "cell_type": "code",
   "execution_count": null,
   "id": "3b0d9dad",
   "metadata": {},
   "outputs": [],
   "source": [
    "import PyPDF2\n",
    "\n",
    "# Open the PDF file in read-binary mode\n",
    "with open('encrypted.pdf', 'rb') as file:\n",
    "    # Create a PdfFileReader object\n",
    "    pdf_reader = PyPDF2.PdfFileReader(file)\n",
    "\n",
    "    # Check if the PDF is encrypted\n",
    "    if pdf_reader.isEncrypted:\n",
    "        # Decrypt the PDF using the password 'swordfish'\n",
    "        pdf_reader.decrypt('swordfish')\n",
    "\n",
    "    # Get the number of pages in the PDF document\n",
    "    num_pages = pdf_reader.getNumPages()\n",
    "\n",
    "    # Get the first page of the PDF document\n",
    "    first_page = pdf_reader.getPage(0)\n",
    "\n",
    "    # Do something with the first page..."
   ]
  },
  {
   "cell_type": "markdown",
   "id": "eb2989bf",
   "metadata": {},
   "source": [
    "#### 5. What methods do you use to rotate a page?\n",
    "**Ans:** PyPDF2 Package provides 2 methods to rotate a page:\n",
    "1. **`rotateClockWise()`** -> For Clockwise rotation\n",
    "2. **`rotateCounterClockWise()`** -> For Counter Clockwise rotation  \n",
    "\n",
    "The PyPDF2 package only allows you to rotate a page in increments of 90 degrees. You will receive an AssertionError otherwise."
   ]
  },
  {
   "cell_type": "code",
   "execution_count": null,
   "id": "0d22be7a",
   "metadata": {},
   "outputs": [],
   "source": [
    "import PyPDF2\n",
    "\n",
    "# Open the PDF file in read-binary mode\n",
    "with open('example.pdf', 'rb') as file:\n",
    "    # Create a PdfFileReader object\n",
    "    pdf_reader = PyPDF2.PdfFileReader(file)\n",
    "\n",
    "    # Get the first page of the PDF document\n",
    "    page = pdf_reader.getPage(0)\n",
    "\n",
    "    # Rotate the page 90 degrees clockwise\n",
    "    page.rotateClockwise(90)\n",
    "\n",
    "    # Create a PdfFileWriter object\n",
    "    pdf_writer = PyPDF2.PdfFileWriter()\n",
    "\n",
    "    # Add the rotated page to the output PDF file\n",
    "    pdf_writer.addPage(page)\n",
    "\n",
    "    # Save the output PDF file\n",
    "    with open('output.pdf', 'wb') as outfile:\n",
    "        pdf_writer.write(outfile)\n"
   ]
  },
  {
   "cell_type": "markdown",
   "id": "2b46fab1",
   "metadata": {},
   "source": [
    "#### 6. What is the difference between a Run object and a Paragraph object?\n",
    "**Ans:** The structure of a document is represented by three different data types in **`python-Docx`**. At the highest level, a `Document` object represents the entire document. The Document object contains a list of **`Paragraph`** objects for the paragraphs in the document. (A new paragraph begins whenever the user presses `ENTER` or `RETURN` while typing in a Word document.) Each of these Paragraph objects contains a list of one or more **`Run`** objects.\n",
    "\n",
    "The text in a Word document is more than just a string. It has font, size, color, and other styling information associated with it. A style in Word is a collection of these attributes. A Run object is a contiguous run of text with the same style. A new Run object is needed whenever the text style changes."
   ]
  },
  {
   "cell_type": "markdown",
   "id": "4880f471",
   "metadata": {},
   "source": [
    "#### 7. How do you obtain a list of Paragraph objects for a Document object that’s stored in a variable named doc?"
   ]
  },
  {
   "cell_type": "code",
   "execution_count": null,
   "id": "51f2fe7f",
   "metadata": {},
   "outputs": [],
   "source": [
    " import docx\n",
    "\n",
    "# Create a new Word document\n",
    "document = docx.Document()\n",
    "\n",
    "# Create a new paragraph\n",
    "paragraph = document.add_paragraph()\n",
    "\n",
    "# Add some runs of text to the paragraph with different formatting\n",
    "paragraph.add_run('This text is in normal font. ')\n",
    "paragraph.add_run('This text is in bold font. ').bold = True\n",
    "paragraph.add_run('This text is in italic font. ').italic = True\n",
    "paragraph.add_run('This text is in red color. ').font.color.rgb = docx.shared.RGBColor(255, 0, 0)\n",
    "paragraph.add_run('This text is in 24-point font. ').font.size = docx.shared.Pt(24)\n",
    "\n",
    "# Save the document to disk\n",
    "document.save('example.docx')"
   ]
  },
  {
   "cell_type": "markdown",
   "id": "4e696c59",
   "metadata": {},
   "source": [
    "#### 8. What type of object has bold, underline, italic, strike, and outline variables?\n",
    "**Ans:** **`Run`**  object has bold, underline, italic, strike, and outline variables. The text in a Word document is more than just a string. It has font, size, color, and other styling information associated with it.\n",
    "\n",
    "A style in Word is a collection of these attributes. A Run object is a contiguous run of text with the same style. A new Run object is needed whenever the text style changes."
   ]
  },
  {
   "cell_type": "code",
   "execution_count": null,
   "id": "8b72dbbf",
   "metadata": {},
   "outputs": [],
   "source": [
    "import docx\n",
    "\n",
    "# Create a new Word document\n",
    "document = docx.Document()\n",
    "\n",
    "# Create a new paragraph\n",
    "paragraph = document.add_paragraph()\n",
    "\n",
    "# Add a new run to the paragraph\n",
    "run = paragraph.add_run('This text is in bold and italic font.')\n",
    "\n",
    "# Apply some formatting properties to the run\n",
    "run.bold = True\n",
    "run.italic = True\n",
    "\n",
    "# Save the document to disk\n",
    "document.save('example.docx')"
   ]
  },
  {
   "cell_type": "markdown",
   "id": "0ff87713",
   "metadata": {},
   "source": [
    "#### 9. What is the difference between False, True, and None for the bold variable?"
   ]
  },
  {
   "cell_type": "code",
   "execution_count": null,
   "id": "2e8087e0",
   "metadata": {},
   "outputs": [],
   "source": [
    "bold = True  # Style Set to Bold\n",
    "bold = False # Style Not Set to Bold\n",
    "bold = None # Style is Not Applicable"
   ]
  },
  {
   "cell_type": "markdown",
   "id": "7a280546",
   "metadata": {},
   "source": [
    "#### 10. How do you create a Document object for a new Word document?"
   ]
  },
  {
   "cell_type": "code",
   "execution_count": null,
   "id": "9a1d1970",
   "metadata": {},
   "outputs": [],
   "source": [
    "# Example Program\n",
    "from docx import Document\n",
    "document = Document()\n",
    "document.add_paragraph(\" How do you create a Document object for a new Word document \")\n",
    "document.save('mydocument.docx')"
   ]
  },
  {
   "cell_type": "markdown",
   "id": "0b9f5441",
   "metadata": {},
   "source": [
    "#### 11. How do you add a paragraph with the text 'Hello, there!' to a Document object stored in a variable named doc?"
   ]
  },
  {
   "cell_type": "code",
   "execution_count": null,
   "id": "031fd95f",
   "metadata": {},
   "outputs": [],
   "source": [
    "# Example Program\n",
    "from docx import Document\n",
    "doc = Document()\n",
    "doc.add_paragraph('Hello, there!')\n",
    "doc.save('hello.docx')"
   ]
  },
  {
   "cell_type": "markdown",
   "id": "cfed7bb9",
   "metadata": {},
   "source": [
    "#### 12. What integers represent the levels of headings available in Word documents?\n",
    "**Ans:** The levels for a heading in a word document can be specified by using the **`level`** attribute inside the **`add_heading`** method. There are a total of 5 levels statring for 0 t0 4. where level 0 makes a headline with the horizontal line below the text, whereas the heading level 1 is the main heading. Similarly, the other headings are sub-heading with their's font-sizes in decreasing order."
   ]
  }
 ],
 "metadata": {
  "kernelspec": {
   "display_name": "Python 3",
   "language": "python",
   "name": "python3"
  },
  "language_info": {
   "codemirror_mode": {
    "name": "ipython",
    "version": 3
   },
   "file_extension": ".py",
   "mimetype": "text/x-python",
   "name": "python",
   "nbconvert_exporter": "python",
   "pygments_lexer": "ipython3",
   "version": "3.8.8"
  }
 },
 "nbformat": 4,
 "nbformat_minor": 5
}
