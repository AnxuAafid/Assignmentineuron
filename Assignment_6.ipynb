{
 "cells": [
  {
   "cell_type": "code",
   "execution_count": null,
   "id": "4b91dfed",
   "metadata": {},
   "outputs": [],
   "source": [
    "1. Write a Python Program to Display Fibonacci Sequence Using Recursion?\n",
    "2. Write a Python Program to Find Factorial of Number Using Recursion?\n",
    "3. Write a Python Program to calculate your Body Mass Index?\n",
    "4. Write a Python Program to calculate the natural logarithm of any number?\n",
    "5. Write a Python Program for cube sum of first n natural numbers?"
   ]
  },
  {
   "cell_type": "markdown",
   "id": "3468632a",
   "metadata": {},
   "source": [
    "# 1. Write a Python Program to Display Fibonacci Sequence Using Recursion?\n"
   ]
  },
  {
   "cell_type": "code",
   "execution_count": 12,
   "id": "a254046a",
   "metadata": {},
   "outputs": [
    {
     "name": "stdout",
     "output_type": "stream",
     "text": [
      "enter the limit: 12\n",
      "0 1 1 2 3 5 8 13 21 34 55 89 144 "
     ]
    }
   ],
   "source": [
    "class fibo:\n",
    "    def __init__(self, end):\n",
    "        self.last = end\n",
    "        self.a = 0\n",
    "        self.b = 1\n",
    "        self.fib(self.last)\n",
    "    def fib(self,end):\n",
    "        print(self.a, end=' ')\n",
    "        if end !=0:\n",
    "            self.a ,self.b = self.b, self.a+self.b\n",
    "            self.fib(end-1)\n",
    "        \n",
    "ob = fibo(int(input('enter the limit: ')))        "
   ]
  },
  {
   "cell_type": "markdown",
   "id": "bfbe1b38",
   "metadata": {},
   "source": [
    "# 2. Write a Python Program to Find Factorial of Number Using Recursion?\n"
   ]
  },
  {
   "cell_type": "code",
   "execution_count": 27,
   "id": "33525c92",
   "metadata": {},
   "outputs": [
    {
     "name": "stdout",
     "output_type": "stream",
     "text": [
      "enter number 34\n",
      "17 2 1 "
     ]
    }
   ],
   "source": [
    "def factor(num,x):\n",
    "    if x!=0:\n",
    "        if num % x == 0:\n",
    "            print(x,end=' ')\n",
    "        \n",
    "        factor(num,x-1)\n",
    "n = int(input('enter number '))\n",
    "x = n//2\n",
    "factor(n,x)"
   ]
  },
  {
   "cell_type": "code",
   "execution_count": null,
   "id": "99cd63fa",
   "metadata": {},
   "outputs": [],
   "source": []
  },
  {
   "cell_type": "markdown",
   "id": "5b9621eb",
   "metadata": {},
   "source": [
    "# 3. Write a Python Program to calculate your Body Mass Index?\n"
   ]
  },
  {
   "cell_type": "code",
   "execution_count": 17,
   "id": "a88e0650",
   "metadata": {},
   "outputs": [],
   "source": [
    "# BMI = weight/height^2\n",
    "class BMI:\n",
    "    def __init__(self):\n",
    "        self.weight=0\n",
    "        self.height=0\n",
    "        self.menu()\n",
    "    def menu(self):\n",
    "        try:\n",
    "            \n",
    "            print(\"\"\"\n",
    "            Press 1 for using the Converter for height and weight in kg and meters\n",
    "            Press 2 to contitnue with actual data i KG and Meters\n",
    "            \"\"\")\n",
    "            ch = int(input())\n",
    "            if ch == 1:\n",
    "                self.convertr()\n",
    "            elif ch == 2:\n",
    "                self.clng_ftn()\n",
    "                self.calc()\n",
    "            else:\n",
    "                print(\"You typed the wrong input press 1 to get back to menu and 2 to exit\")\n",
    "                cho = int(input())\n",
    "                if cho ==1:\n",
    "                    self.menu()\n",
    "                else:\n",
    "                    exit()\n",
    "        except Exception as e:\n",
    "            print(e)\n",
    "    def convertr(self):\n",
    "        try:\n",
    "            print(\"\"\"\n",
    "            press 1 for weight convertion\n",
    "            press 2 for height convertion\n",
    "            Press 3 for changing the both values\n",
    "            \"\"\")\n",
    "            lm = int(input())\n",
    "            if lm==1:\n",
    "                self.weightt()\n",
    "                self.clng_ftn()\n",
    "                self.calc()\n",
    "            elif lm ==2:\n",
    "                self.heightt()\n",
    "                self.clng_ftn()\n",
    "                self.calc()\n",
    "                \n",
    "            elif lm ==3:\n",
    "                self.weightt()\n",
    "                self.heightt()\n",
    "            \n",
    "                self.calc()\n",
    "            else:\n",
    "                print(\"You typed the wrong input press 1 to get back to menu and 2 to exit\")\n",
    "                cho = int(input())\n",
    "                if cho ==1:\n",
    "                    self.convertr()\n",
    "                else:\n",
    "                    exit()\n",
    "        except Exception as e:\n",
    "            print(e)\n",
    "    def weightt(self):\n",
    "        try:\n",
    "            print(\"Press 1 for lbs into KG or any key for main menu \")\n",
    "            wt = int(input())\n",
    "            if wt ==1:\n",
    "                \n",
    "                wgt = float(input('enter the weight in lbs'))\n",
    "                self.weight = wgt*0.454\n",
    "                print('The weight in KGs is',self.weight)\n",
    "\n",
    "            else:\n",
    "                self.menu()\n",
    "        except Exception as e:\n",
    "            print(e)\n",
    "    def heightt(self):\n",
    "        try:\n",
    "            print(\"\"\"\n",
    "            Press 1 for cm into meter.\n",
    "            press 2 for feet into meter.\n",
    "            press any key for main menu \"\"\")\n",
    "            ht = int(input())\n",
    "            if ht ==1:\n",
    "                hgt = float(input('enter the height in centimeter '))\n",
    "\n",
    "                self.height = hgt*0.1\n",
    "                print('The height in meters is',self.height)\n",
    "\n",
    "\n",
    "            elif ht ==2:\n",
    "                hgt = float(input('enter the height in feet '))\n",
    "                \n",
    "                self.height = hgt*0.3048\n",
    "                print('The height in meters is',self.height)\n",
    "\n",
    "\n",
    "            else:\n",
    "                self.menu()\n",
    "        except Exception as e:\n",
    "            print(e)\n",
    "    def clng_ftn(self):\n",
    "        try:\n",
    "            if (self.weight==0 )or (self.height==0):\n",
    "                if self.weight==0 and self.height==0:\n",
    "                    self.weight= int(input('enter the weight in kg'))\n",
    "                    self.height = int(input('enter the weight in meters'))\n",
    "                 \n",
    "                elif self.weight==0:\n",
    "                    self.weight= int(input('enter the weight in kg'))\n",
    "                    \n",
    "                else: \n",
    "                    self.height = int(input('enter the weight in meters'))\n",
    "             \n",
    "        except Exception as e:\n",
    "            print(e)\n",
    "    def calc(self):\n",
    "        try:\n",
    "            print('your BMI is ',round(self.weight/(self.height**2),2))\n",
    "        except Exception as e:\n",
    "            print(e)"
   ]
  },
  {
   "cell_type": "code",
   "execution_count": 16,
   "id": "cc80a4f5",
   "metadata": {},
   "outputs": [
    {
     "name": "stdout",
     "output_type": "stream",
     "text": [
      "\n",
      "            Press 1 for using the Converter for height and weight in kg and meters\n",
      "            Press 2 to contitnue with actual data i KG and Meters\n",
      "            \n",
      "1\n",
      "\n",
      "            press 1 for weight convertion\n",
      "            press 2 for height convertion\n",
      "            Press 3 for changing the both values\n",
      "            \n",
      "2\n",
      "\n",
      "            /nPress 1 for cm into meter.\n",
      "            press 2 for feet into meter.\n",
      "            press any key for main menu \n",
      "1\n",
      "enter the height in centimeter 11\n",
      "The height in meters is 1.1\n",
      "enter the weight in kg111\n",
      "your BMI is  91.74\n"
     ]
    }
   ],
   "source": [
    "bmi = BMI()\n"
   ]
  },
  {
   "cell_type": "markdown",
   "id": "12ab8b11",
   "metadata": {},
   "source": [
    "# 4. Write a Python Program to calculate the natural logarithm of any number?\n"
   ]
  },
  {
   "cell_type": "code",
   "execution_count": 22,
   "id": "821327cd",
   "metadata": {},
   "outputs": [
    {
     "name": "stdout",
     "output_type": "stream",
     "text": [
      "12\n",
      "2.4849066497880004\n"
     ]
    }
   ],
   "source": [
    "import math\n",
    "def logz(num):\n",
    "    print(math.log(num))\n",
    "logz(int(input()))"
   ]
  },
  {
   "cell_type": "markdown",
   "id": "30805c0d",
   "metadata": {},
   "source": [
    "# 5. Write a Python Program for cube sum of first n natural numbers? "
   ]
  },
  {
   "cell_type": "code",
   "execution_count": 28,
   "id": "6103b898",
   "metadata": {},
   "outputs": [
    {
     "name": "stdout",
     "output_type": "stream",
     "text": [
      "enter nth numb: 10\n",
      "3025.0\n"
     ]
    }
   ],
   "source": [
    "def cube(n):\n",
    "    return (((n*(n+1))/2)**2)\n",
    "n = int(input('enter nth numb: '))\n",
    "print(cube(n))"
   ]
  },
  {
   "cell_type": "code",
   "execution_count": null,
   "id": "918b8dc3",
   "metadata": {},
   "outputs": [],
   "source": []
  }
 ],
 "metadata": {
  "kernelspec": {
   "display_name": "Python 3",
   "language": "python",
   "name": "python3"
  }
 },
 "nbformat": 4,
 "nbformat_minor": 5
}
