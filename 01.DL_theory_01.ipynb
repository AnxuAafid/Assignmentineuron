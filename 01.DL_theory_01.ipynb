{
 "cells": [
  {
   "cell_type": "markdown",
   "id": "9388c106",
   "metadata": {},
   "source": [
    "# Assignment 01 Solutions"
   ]
  },
  {
   "cell_type": "markdown",
   "id": "23332082",
   "metadata": {},
   "source": [
    "#### 1.\tWhat is the function of a summation junction of a neuron? What is threshold activation function ?"
   ]
  },
  {
   "cell_type": "markdown",
   "id": "1602afb2",
   "metadata": {},
   "source": [
    "The point at which the electrical signals from various neurons merge and are processed by the neuron is known as the summation junction. A neuron will fire an action potential when the combined electrical signals reach a certain strength, which is known as the threshold activation function."
   ]
  },
  {
   "cell_type": "markdown",
   "id": "73931c63",
   "metadata": {},
   "source": [
    "#### 2.\tWhat is a step function? What is the difference of step function with threshold function ?"
   ]
  },
  {
   "cell_type": "markdown",
   "id": "32c45d69",
   "metadata": {},
   "source": [
    "A step function refers to a mathematical function that generates a specific output once the input value surpasses a specific threshold. In contrast to a threshold function, a step function exhibits a distinct boundary at which the output abruptly changes, whereas a threshold function displays a gradual alteration in output."
   ]
  },
  {
   "cell_type": "markdown",
   "id": "efb9e19b",
   "metadata": {},
   "source": [
    "#### 3.\tExplain the McCulloch–Pitts model of neuron ?"
   ]
  },
  {
   "cell_type": "markdown",
   "id": "b036fd1a",
   "metadata": {},
   "source": [
    "Warren McCulloch and Walter Pitts proposed the McCulloch-Pitts model of a neuron in 1943. It is a condensed mathematical model that attempts to replicate the essential characteristics of a biological neuron. It acts as a crucial building component for comprehension of computational neuroscience and neural networks.he McCulloch-Pitts model demonstrates the fundamental concept of threshold-based activation and binary output in neurons. While it oversimplifies the complexity of biological neurons, it provides a foundational understanding of neural computation and forms the basis for more advanced neural network models.\n",
    "\n",
    "key components and principles of the McCulloch-Pitts neuron model:\n",
    "a) Input b) Weight c) threshold d)activation function e)output"
   ]
  },
  {
   "cell_type": "markdown",
   "id": "c3814e96",
   "metadata": {},
   "source": [
    "#### 4.\tExplain the ADALINE network model ?"
   ]
  },
  {
   "cell_type": "markdown",
   "id": "fb02c19b",
   "metadata": {},
   "source": [
    "The ADALINE (Adaptive Linear Neuron) network model, developed by Bernard Widrow and Ted Hoff in the late 1950s, is a type of artificial neural network (ANN) that functions as a linear classifier. ADALINE is an early precursor to more advanced neural network models and serves as a building block for understanding the principles of learning in neural networks.The ADALINE network model is primarily used for linear classification tasks, where the decision boundary between classes is a hyperplane in the input space. While it has limitations due to its linearity, ADALINE provides insights into the basic principles of neural networks, including weight adjustment and supervised learning.\n",
    "ey components and principles of the ADALINE network model: a) Input b) Weight c) Linear Combination d)activation function e)Weight Update Rule d) learning"
   ]
  },
  {
   "cell_type": "markdown",
   "id": "4450753d",
   "metadata": {},
   "source": [
    "#### 5.\tWhat is the constraint of a simple perceptron? Why it may fail with a real-world data set ?"
   ]
  },
  {
   "cell_type": "markdown",
   "id": "f0834386",
   "metadata": {},
   "source": [
    "The constraint of a simple perceptron is its ability to learn only linearly separable functions. When faced with real-world datasets, this constraint becomes problematic as the data may not exhibit linear separability. In cases where the data points demonstrate non-linear relationships, the basic perceptron fails to accurately define the decision boundary."
   ]
  },
  {
   "cell_type": "markdown",
   "id": "64e9b622",
   "metadata": {},
   "source": [
    "#### 6.\tWhat is linearly inseparable problem? What is the role of the hidden layer ?"
   ]
  },
  {
   "cell_type": "markdown",
   "id": "cf9348a1",
   "metadata": {},
   "source": [
    "When two or more classes of data points cannot be divided by a single straight line, or a hyperplane, the problem is said to be linearly inseparable. A layer between the input and output layers of a neural network is known as a hidden layer and contains nodes that apply an activation function and have a weighted sum of the inputs. The network can tackle complicated issues that are not linearly separable thanks to the hidden layer's ability to record non-linear correlations between inputs and outputs."
   ]
  },
  {
   "cell_type": "markdown",
   "id": "88662dbf",
   "metadata": {},
   "source": [
    "#### 7.\tExplain XOR problem in case of a simple perceptron? "
   ]
  },
  {
   "cell_type": "markdown",
   "id": "9ff52f6d",
   "metadata": {},
   "source": [
    "In the XOR problem, the data cannot be accurately divided into two different classes by a single perceptron. The acronym XOR stands for exclusive OR, which means that the result is true if either A or B is true and false if both A and B are true or false. When we attempt to categorise data that cannot be separated linearly, we run into the XOR problem. In other words, a straight line or hyperplane cannot be used to divide the data into two independent classes. This issue cannot be resolved by a single perceptron because it can only perform linear classification."
   ]
  },
  {
   "cell_type": "markdown",
   "id": "dfd5516b",
   "metadata": {},
   "source": [
    "#### 8.\tDesign a multi-layer perceptron to implement A XOR B ?"
   ]
  },
  {
   "cell_type": "markdown",
   "id": "db049b16",
   "metadata": {},
   "source": [
    "The XOR problem can be applied via a multi-layer perceptron (MLP). Between the input and output layers, an MLP has one or more hidden layers. Neurons that receive inputs and produce outputs make up each layer. We may use an MLP with two inputs (A and B), two hidden layers (one with two neurons and one with one neuron), and one output to categorise the XOR problem. The initial hidden layer will generate two outputs from the two inputs (A and B). The two outputs from the first hidden layer will be combined into one output by the second hidden layer. The second hidden layer's output is then passed on to the output layer, which then creates the XOR output (true or false) using it."
   ]
  },
  {
   "cell_type": "markdown",
   "id": "72541716",
   "metadata": {},
   "source": [
    "#### 9.\tExplain the single-layer feed forward architecture of ANN ?"
   ]
  },
  {
   "cell_type": "markdown",
   "id": "283a7fff",
   "metadata": {},
   "source": [
    "One of the simplest types of artificial neural networks is the single-layer feed forward design. A single layer of input neurons in this kind of network feed straight into a single layer of output neurons. The input layer's neurons receive the input data, which is then sent to the output layer after passing through a set of weights or parameters. For each input, the output layer generates a single output value. Simple tasks like pattern recognition and categorization employ this framework."
   ]
  },
  {
   "cell_type": "markdown",
   "id": "39337dbb",
   "metadata": {},
   "source": [
    "#### 10. Explain the competitive network architecture of ANN ?"
   ]
  },
  {
   "cell_type": "markdown",
   "id": "37fea8ef",
   "metadata": {},
   "source": [
    "An artificial neural network with a competitive network architecture uses competition between several neurons to determine the output. A single layer of neurons in this kind of network compete with one another to produce the final output from a variety of input neurons. When comparing the inputs from the previous layer, each neuron in the output layer employs its own set of weights or parameters. The neuron that generates the output has the highest weighted sum of inputs. Pattern recognition and categorization problems use this kind of architecture."
   ]
  },
  {
   "cell_type": "markdown",
   "id": "14fcf88b",
   "metadata": {},
   "source": [
    "#### 11. Consider a multi-layer feed forward neural network. Enumerate and explain steps in the backpropagation algorithm used to train the network ?"
   ]
  },
  {
   "cell_type": "markdown",
   "id": "b2ab647b",
   "metadata": {},
   "source": [
    "To train a multilayer feed forward neural network involves the following steps:\n",
    "\n",
    "step 1) Initialize weights and biases: The weights and biases of the neurons in the network are initialized with random numbers.\n",
    "\n",
    "step 2) Forward Propagation: The input data is passed through the network. Each neuron in the network performs its calculations and passes the output to the next layer.\n",
    "\n",
    "step 3) Calculate Error: The error of the output is calculated using a cost or loss function.\n",
    "\n",
    "step 4)Backward propagation: The error is propagated back through the network. The weights and biases of each neuron are adjusted in order to minimize the error. In backward we optimize the weights using chain rule of differentiation.\n",
    "\n",
    "step 5) Repeat: Steps 2-4 are repeated until the network converges and the error is minimized."
   ]
  },
  {
   "cell_type": "markdown",
   "id": "f7ed34cd",
   "metadata": {},
   "source": [
    "#### 12. What are the advantages and disadvantages of neural networks ?"
   ]
  },
  {
   "cell_type": "markdown",
   "id": "eb6b9379",
   "metadata": {},
   "source": [
    "Neural networks, as powerful machine learning models, come with their own set of advantages and disadvantages. Here are some key advantages and disadvantages of neural networks:\n",
    "\n",
    "Advantages:\n",
    "\n",
    "a) Nonlinearity: Neural networks excel at capturing complex and non-linear relationships within data. They can learn intricate patterns and make predictions in situations where linear models may fall short.\n",
    "\n",
    "b) Adaptability: Neural networks are highly adaptable and can be applied to a wide range of tasks, including image and speech recognition, natural language processing, time series analysis, and more. They can be tailored to suit different problem domains and handle large-scale datasets.\n",
    "\n",
    "c) Parallel Processing: Neural networks can process information in parallel, making them efficient for tasks that can benefit from parallel computation. This parallelism can enable faster training and prediction times, especially with the help of specialized hardware like GPUs or TPUs.\n",
    "\n",
    "d) Feature Learning: Neural networks are capable of automatically learning relevant features from raw data. Instead of hand-engineering features, they can extract meaningful representations from the input, reducing the need for manual feature engineering.\n",
    "\n",
    "Disadvantages:\n",
    "\n",
    "a) Training Complexity: Neural networks can be computationally demanding and require significant computational resources, especially for large-scale models with numerous parameters. Training neural networks may take a long time, and extensive hyperparameter tuning might be necessary to achieve optimal performance.\n",
    "\n",
    "b) Overfitting: Neural networks are prone to overfitting, especially when dealing with small datasets or in the presence of noisy data. Overfitting occurs when the network learns to perform well on the training data but fails to generalize to unseen examples.\n",
    "\n",
    "c) Black Box Nature: Neural networks are often considered as \"black box\" models because their internal workings can be difficult to interpret or explain. Understanding how the network arrives at its predictions or decisions can be challenging, which may be a concern in domains where interpretability is crucial.\n",
    "\n",
    "d) Data Requirements: Neural networks typically require a large amount of labeled training data to generalize well. Acquiring and labeling extensive datasets can be time-consuming, expensive, or in some cases, impractical.\n",
    "\n",
    "e) Hyperparameter Sensitivity: Neural networks contain numerous hyperparameters (e.g., learning rate, network architecture, regularization methods) that need to be carefully tuned for optimal performance. Improper tuning can lead to suboptimal results or make training unstable.\n",
    "\n"
   ]
  },
  {
   "cell_type": "markdown",
   "id": "63795b39",
   "metadata": {},
   "source": [
    "#### 13. Write short notes on any two of the following:\n",
    "1. Biological neuron\n",
    "2. ReLU function\n",
    "3. Single-layer feed forward ANN\n",
    "4. Gradient descent\n",
    "5. Recurrent networks"
   ]
  },
  {
   "cell_type": "markdown",
   "id": "5cee4740",
   "metadata": {},
   "source": [
    "Biological neuron: A biological neuron is a type of cell that can send electrical signals and is located in the nervous system. Axon, dendrites, and the cell body of the neuron are joined via synapses. Dendrites receive signals from other neurons and send them to the cell body, whereas the cell body houses the nucleus and other organelles. The signal is subsequently transmitted to additional neurons through the cell body's axon.\n",
    "\n",
    "ReLU function:Rectified Linear Units, or ReLUs, are a particular kind of activation function used in neural networks. It provides a faster computation by returning 0 for negative values and the same value for positive values. ReLU gives the neural network nonlinearity and increases the model's flexibility.\n",
    "\n",
    "Single-layer feed forward ANN: a feed forward with only one layer One layer of neurons in an artificial neural network (ANN) called an ANN is connected to the input layer and then to the output layer. Every neuron in the layer is linked to every other neuron in the layer below and the layer above it. During the learning process, each connection's weights are modified.\n",
    "\n",
    "Gradient descent: Gradient descent is an optimization algorithm used to minimize a function by iteratively moving in the direction of steepest descent as defined by the negative of the gradient. It is commonly used for training neural networks and is one of the most popular optimization algorithms. It can also be used to find the local minimum of a function.\n",
    "\n",
    "Recurrent networks: Recurrent neural networks are a type of neural networks that are used for processing sequential data. These networks contain cycles that allow information to persist and be passed from one step to the next. They are used in tasks such as speech recognition, language modelling and machine translation."
   ]
  },
  {
   "cell_type": "code",
   "execution_count": null,
   "id": "bfdbbb46",
   "metadata": {},
   "outputs": [],
   "source": []
  }
 ],
 "metadata": {
  "kernelspec": {
   "display_name": "Python 3",
   "language": "python",
   "name": "python3"
  },
  "language_info": {
   "codemirror_mode": {
    "name": "ipython",
    "version": 3
   },
   "file_extension": ".py",
   "mimetype": "text/x-python",
   "name": "python",
   "nbconvert_exporter": "python",
   "pygments_lexer": "ipython3",
   "version": "3.8.8"
  }
 },
 "nbformat": 4,
 "nbformat_minor": 5
}
