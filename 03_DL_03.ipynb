{
  "cells": [
    {
      "cell_type": "markdown",
      "id": "4a248256",
      "metadata": {
        "id": "4a248256"
      },
      "source": [
        "#### 1.\tIs it OK to initialize all the weights to the same value as long as that value is selected randomly using He initialization?"
      ]
    },
    {
      "cell_type": "markdown",
      "id": "c9743f87",
      "metadata": {
        "id": "c9743f87"
      },
      "source": [
        "No, it is not recommended to initialize all the weights to the same value, even if that value is randomly selected using He initialization. While He initialization is a popular method for initializing the weights in deep neural networks, initializing all the weights to the same value would undermine the benefits of weight initialization.\n",
        "\n",
        "He initialization aims to initialize the weights in a way that avoids the problem of vanishing or exploding gradients during training. It sets the initial weights with a variance that takes into account the number of inputs to a neuron. This helps to keep the gradients stable and allows for more effective training.However, if all the weights are initialized to the same value, it means that all the neurons in a layer will have the same initial influence on the network's output. This symmetry can hinder the learning process and prevent the network from effectively capturing and representing complex patterns in the data. The purpose of weight initialization is to introduce diversity in the network's initial state, enabling each neuron to have a unique influence on the output and facilitating more efficient learning.\n",
        "\n",
        "Therefore, it is recommended to initialize the weights with small random values drawn from a suitable distribution (such as a normal distribution with zero mean and appropriate variance) to break the symmetry and allow for diverse learning dynamics. He initialization is a specific method that takes into account the number of inputs, but it still involves random initialization of the weights.\n"
      ]
    },
    {
      "cell_type": "markdown",
      "id": "f5c5f184",
      "metadata": {
        "id": "f5c5f184"
      },
      "source": [
        "#### 2.\tIs it OK to initialize the bias terms to 0?"
      ]
    },
    {
      "cell_type": "markdown",
      "id": "103a6ca3",
      "metadata": {
        "id": "103a6ca3"
      },
      "source": [
        "Yes, it is generally acceptable to initialize the bias terms to 0. In fact, initializing biases to 0 is a common practice in many neural network architectures.\n",
        "\n",
        "The bias term in a neural network is an additional parameter associated with each neuron that allows the network to shift the activation function. It helps the network to better fit the training data and improve its overall performance. By setting the bias term to 0 initially, you are effectively assuming that there is no initial bias or preference towards any particular class or output value."
      ]
    },
    {
      "cell_type": "markdown",
      "id": "edf7aaa4",
      "metadata": {
        "id": "edf7aaa4"
      },
      "source": [
        "#### 3.\tName three advantages of the SELU activation function over ReLU."
      ]
    },
    {
      "cell_type": "markdown",
      "id": "245e5be4",
      "metadata": {
        "id": "245e5be4"
      },
      "source": [
        "The Scaled Exponential Linear Unit (SELU) activation function offers several advantages over the Rectified Linear Unit (ReLU) activation function:\n",
        "\n",
        "1. Self-normalization: The SELU activation function is designed to preserve a mean of 0 and standard deviation of 1 for the outputs of each neuron, under certain conditions. This property helps in stabilizing the activations throughout the network, reducing the risk of vanishing or exploding gradients. It allows deep neural networks to self-normalize and overcome the challenges of training deep architectures.\n",
        "\n",
        "2. Continuous and smooth: The SELU function is a smooth and continuous activation function, which enables it to provide smoother gradients compared to the ReLU function. The smoothness of the SELU function can facilitate more stable and efficient gradient-based optimization during training, leading to faster convergence and improved performance.\n",
        "\n",
        "3. Non-zero gradient for negative inputs: Unlike the ReLU activation function, which sets the gradient to 0 for negative inputs, the SELU function has a non-zero gradient for both positive and negative inputs. This property helps in mitigating the \"dying ReLU\" problem where neurons can become stuck in a state of inactivity during training. The non-zero gradient for negative inputs allows for the recovery of \"dead\" neurons and helps to maintain better information flow throughout the network.\n",
        "\n",
        ""
      ]
    },
    {
      "cell_type": "markdown",
      "id": "746cb7cc",
      "metadata": {
        "id": "746cb7cc"
      },
      "source": [
        "#### 4.\tIn which cases would you want to use each of the following activation functions: SELU, leaky ReLU (and its variants), ReLU, tanh, logistic, and softmax?"
      ]
    },
    {
      "cell_type": "markdown",
      "id": "cca05297",
      "metadata": {
        "id": "cca05297"
      },
      "source": [
        "Different activation functions are suited for different scenarios and tasks. Here are some common use cases for the activation functions you mentioned:\n",
        "\n",
        "1. SELU (Scaled Exponential Linear Unit):\n",
        "   - SELU is particularly useful for deep neural networks where self-normalization and stabilizing activations are crucial. It is beneficial in scenarios where you want to prevent vanishing/exploding gradients and promote faster convergence.\n",
        "   - SELU is recommended when you have a large number of layers in your network and want to avoid manual normalization techniques.\n",
        "\n",
        "2. Leaky ReLU and its variants (e.g., Parametric ReLU, Randomized ReLU):\n",
        "   - Leaky ReLU and its variants are useful when you want to address the \"dying ReLU\" problem by introducing a small non-zero gradient for negative inputs. This helps to prevent neurons from becoming permanently inactive.\n",
        "   - They are commonly used in scenarios where you want to mitigate the potential drawbacks of the ReLU activation function, such as dead neurons or over-saturation.\n",
        "\n",
        "3. ReLU (Rectified Linear Unit):\n",
        "   - ReLU is widely used in various neural network architectures, especially in deep learning. It is suitable for scenarios where you want to introduce non-linearity and sparsity in the network.\n",
        "   - ReLU is known for its simplicity and computational efficiency, making it a popular choice in many applications. However, it may suffer from dead neurons when the gradients become zero for negative inputs.\n",
        "\n",
        "4. Tanh (Hyperbolic Tangent):\n",
        "   - Tanh is often used in scenarios where you want to normalize and scale the output between -1 and 1. It is commonly employed in recurrent neural networks (RNNs) and in cases where you need centered activations.\n",
        "   - Tanh can be useful in situations where you want to capture both positive and negative activations in a balanced manner, as it is symmetric around zero.\n",
        "\n",
        "5. Logistic (Sigmoid):\n",
        "   - Logistic activation function is primarily used in binary classification problems or scenarios where you need to model probabilities.\n",
        "   - It is commonly employed in the output layer of binary classifiers, providing a probability-like output that can be interpreted as class probabilities.\n",
        "\n",
        "6. Softmax:\n",
        "   - Softmax is typically used in multi-class classification problems, where the goal is to assign an input to one of multiple classes.\n",
        "   - Softmax converts the outputs of the previous layer into a probability distribution, allowing for probabilistic classification by selecting the class with the highest probability.\n",
        "\n",
        "It's important to note that the selection of an activation function depends on the specific task, the network architecture, and the behavior desired for the model. Experimentation and consideration of the specific problem at hand are key to choosing the most suitable activation function."
      ]
    },
    {
      "cell_type": "markdown",
      "id": "332cbd41",
      "metadata": {
        "id": "332cbd41"
      },
      "source": [
        "#### 5.\tWhat may happen if you set the momentum hyperparameter too close to 1 (e.g., 0.99999) when using an SGD optimizer?"
      ]
    },
    {
      "cell_type": "markdown",
      "id": "3e374de8",
      "metadata": {
        "id": "3e374de8"
      },
      "source": [
        "If the momentum hyperparameter is set too close to 1, the SGD optimizer may cause oscillations in the optimization trajectory and can lead to slow convergence or even divergence of the optimization process. This is because the SGD optimizer will attempt to move too quickly in the direction of the previous update, resulting in overshooting the optimum."
      ]
    },
    {
      "cell_type": "markdown",
      "id": "4e479268",
      "metadata": {
        "id": "4e479268"
      },
      "source": [
        "#### 6.\tName three ways you can produce a sparse model."
      ]
    },
    {
      "cell_type": "markdown",
      "id": "86ee8d71",
      "metadata": {
        "id": "86ee8d71"
      },
      "source": [
        "1. L1 Regularization: L1 regularization, also known as Lasso regularization, encourages sparsity by adding the absolute values of the weights as a penalty term to the loss function during training. This penalty encourages the model to shrink some of the weights to zero, effectively selecting only the most relevant features and promoting sparsity.\n",
        "\n",
        "2. Dropout: Dropout is a regularization technique where randomly selected neurons are temporarily \"dropped out\" or deactivated during training. By randomly setting a fraction of the neurons to zero, dropout encourages the remaining neurons to learn more robust and independent representations, which can lead to sparser representations in the network.\n",
        "\n",
        "3. Feature selection: In some cases, prior domain knowledge or feature analysis can be used to select a subset of the most informative features for a given task. By manually selecting a smaller subset of features, sparsity can be achieved by discarding less relevant or redundant features and focusing on a more concise representation.\n"
      ]
    },
    {
      "cell_type": "markdown",
      "id": "f71bd58a",
      "metadata": {
        "id": "f71bd58a"
      },
      "source": [
        "#### 7.\tDoes dropout slow down training? Does it slow down inference (i.e., making predictions on new instances)? What about MC Dropout?"
      ]
    },
    {
      "cell_type": "markdown",
      "id": "e6f7d23d",
      "metadata": {
        "id": "e6f7d23d"
      },
      "source": [
        "Dropout does indeed have an impact on the training process, as it necessitates more iterations for the model to reach convergence. However, it does not impede the speed of inference, as the dropout layers are typically bypassed during inference.\n",
        "\n",
        "On the other hand, MC Dropout does have an effect on inference speed, as it involves conducting multiple forward passes and performing additional computations to sample numerous weights from the dropout layers."
      ]
    },
    {
      "cell_type": "markdown",
      "id": "0d16db75",
      "metadata": {
        "id": "0d16db75"
      },
      "source": [
        "#### 8.\tPractice training a deep neural network on the CIFAR10 image dataset:\n",
        "1.\tBuild a DNN with 20 hidden layers of 100 neurons each (that’s too many, but it’s the point of this exercise). Use He initialization and the ELU activation function.\n",
        "2.\tUsing Nadam optimization and early stopping, train the network on the CIFAR10 dataset. You can load it with keras.datasets.cifar10.load_data(). The dataset is composed of 60,000 32 × 32–pixel color images (50,000 for training, 10,000 for testing) with 10 classes, so you’ll need a softmax output layer with 10 neurons. Remember to search for the right learning rate each time you change the model’s architecture or hyperparameters.\n",
        "3.\tNow try adding Batch Normalization and compare the learning curves: Is it converging faster than before? Does it produce a better model? How does it affect training speed?\n",
        "4.\tTry replacing Batch Normalization with SELU, and make the necessary adjustements to ensure the network self-normalizes (i.e., standardize the input features, use LeCun normal initialization, make sure the DNN contains only a sequence of dense layers, etc.).\n",
        "5.\tTry regularizing the model with alpha dropout. Then, without retraining your model, see if you can achieve better accuracy using MC Dropout."
      ]
    },
    {
      "cell_type": "code",
      "execution_count": 2,
      "id": "c256c5b4",
      "metadata": {
        "id": "c256c5b4"
      },
      "outputs": [],
      "source": [
        "import tensorflow as tf\n",
        "from tensorflow import keras"
      ]
    },
    {
      "cell_type": "code",
      "source": [
        "# Load the CIFAR10 dataset\n",
        "(x_train, y_train), (x_test, y_test) = keras.datasets.cifar10.load_data()"
      ],
      "metadata": {
        "colab": {
          "base_uri": "https://localhost:8080/"
        },
        "id": "VMed_FkTdgo9",
        "outputId": "3bef2084-7b8d-4ba3-8663-395fad14d905"
      },
      "id": "VMed_FkTdgo9",
      "execution_count": 3,
      "outputs": [
        {
          "output_type": "stream",
          "name": "stdout",
          "text": [
            "Downloading data from https://www.cs.toronto.edu/~kriz/cifar-10-python.tar.gz\n",
            "170498071/170498071 [==============================] - 6s 0us/step\n"
          ]
        }
      ]
    },
    {
      "cell_type": "code",
      "source": [
        "# Normalize the data\n",
        "x_train = x_train/ 255.0\n",
        "x_test = x_test/ 255.0"
      ],
      "metadata": {
        "id": "EE2UX9Pudkoy"
      },
      "id": "EE2UX9Pudkoy",
      "execution_count": 4,
      "outputs": []
    },
    {
      "cell_type": "code",
      "source": [
        "# Build the model\n",
        "model = keras.Sequential()\n",
        "model.add(keras.layers.Flatten(input_shape=(32, 32, 3)))"
      ],
      "metadata": {
        "id": "RmeNDgvJdrfE"
      },
      "id": "RmeNDgvJdrfE",
      "execution_count": 5,
      "outputs": []
    },
    {
      "cell_type": "code",
      "source": [
        "for _ in range(20):\n",
        "    model.add(keras.layers.Dense(100, kernel_initializer='he_normal', activation='elu'))\n",
        "\n",
        "model.add(keras.layers.Dense(10, activation='softmax'))"
      ],
      "metadata": {
        "id": "4SC6-YoEdvXz"
      },
      "id": "4SC6-YoEdvXz",
      "execution_count": 6,
      "outputs": []
    },
    {
      "cell_type": "code",
      "source": [
        "# Compile the model\n",
        "model.compile(optimizer='nadam', loss='sparse_categorical_crossentropy', metrics=['accuracy'])"
      ],
      "metadata": {
        "id": "4QzD7zi0dyLd"
      },
      "id": "4QzD7zi0dyLd",
      "execution_count": 7,
      "outputs": []
    },
    {
      "cell_type": "code",
      "source": [
        "# Train the model\n",
        "history = model.fit(x_train, y_train, epochs=10, validation_split=0.10)"
      ],
      "metadata": {
        "colab": {
          "base_uri": "https://localhost:8080/"
        },
        "id": "WsV0Amjnd1d6",
        "outputId": "c1602462-6a6b-436e-cd88-7e02bacc0134"
      },
      "id": "WsV0Amjnd1d6",
      "execution_count": 8,
      "outputs": [
        {
          "output_type": "stream",
          "name": "stdout",
          "text": [
            "Epoch 1/10\n",
            "1407/1407 [==============================] - 42s 16ms/step - loss: 2.0156 - accuracy: 0.2658 - val_loss: 1.9077 - val_accuracy: 0.3208\n",
            "Epoch 2/10\n",
            "1407/1407 [==============================] - 17s 12ms/step - loss: 1.8296 - accuracy: 0.3312 - val_loss: 1.8306 - val_accuracy: 0.3426\n",
            "Epoch 3/10\n",
            "1407/1407 [==============================] - 17s 12ms/step - loss: 1.7721 - accuracy: 0.3561 - val_loss: 1.7905 - val_accuracy: 0.3604\n",
            "Epoch 4/10\n",
            "1407/1407 [==============================] - 17s 12ms/step - loss: 1.7261 - accuracy: 0.3743 - val_loss: 1.7801 - val_accuracy: 0.3482\n",
            "Epoch 5/10\n",
            "1407/1407 [==============================] - 17s 12ms/step - loss: 1.6937 - accuracy: 0.3915 - val_loss: 1.6815 - val_accuracy: 0.3934\n",
            "Epoch 6/10\n",
            "1407/1407 [==============================] - 21s 15ms/step - loss: 1.6661 - accuracy: 0.4014 - val_loss: 1.6978 - val_accuracy: 0.4070\n",
            "Epoch 7/10\n",
            "1407/1407 [==============================] - 17s 12ms/step - loss: 1.6493 - accuracy: 0.4086 - val_loss: 1.6897 - val_accuracy: 0.4020\n",
            "Epoch 8/10\n",
            "1407/1407 [==============================] - 17s 12ms/step - loss: 1.6126 - accuracy: 0.4252 - val_loss: 1.6336 - val_accuracy: 0.4248\n",
            "Epoch 9/10\n",
            "1407/1407 [==============================] - 17s 12ms/step - loss: 1.5948 - accuracy: 0.4290 - val_loss: 1.6105 - val_accuracy: 0.4354\n",
            "Epoch 10/10\n",
            "1407/1407 [==============================] - 17s 12ms/step - loss: 3.0904 - accuracy: 0.3001 - val_loss: 1.9044 - val_accuracy: 0.2848\n"
          ]
        }
      ]
    },
    {
      "cell_type": "code",
      "source": [
        "# Plot the accuracy curve\n",
        "import matplotlib.pyplot as plt\n",
        "plt.plot(history.history['accuracy'])\n",
        "plt.plot(history.history['val_accuracy'])\n",
        "plt.title('Accuracy Curve')\n",
        "plt.xlabel('Epoch')\n",
        "plt.ylabel('Accuracy')\n",
        "plt.legend(['Train', 'Validation'], loc='upper left')\n",
        "plt.show()\n",
        "\n",
        "# Plot the loss curve\n",
        "plt.plot(history.history['loss'])\n",
        "plt.plot(history.history['val_loss'])\n",
        "plt.title('Loss Curve')\n",
        "plt.xlabel('Epoch')\n",
        "plt.ylabel('Loss')\n",
        "plt.legend(['Train', 'Validation'], loc='upper right')\n",
        "plt.show()"
      ],
      "metadata": {
        "colab": {
          "base_uri": "https://localhost:8080/",
          "height": 927
        },
        "id": "ReZMDDNdeDRK",
        "outputId": "e036dea0-6936-4c5c-b1eb-fc59b1a2c67a"
      },
      "id": "ReZMDDNdeDRK",
      "execution_count": 9,
      "outputs": [
        {
          "output_type": "display_data",
          "data": {
            "text/plain": [
              "<Figure size 640x480 with 1 Axes>"
            ],
            "image/png": "[encoded data removed]"
          },
          "metadata": {}
        },
        {
          "output_type": "display_data",
          "data": {
            "text/plain": [
              "<Figure size 640x480 with 1 Axes>"
            ],
            "image/png": "[encoded data removed]"
          },
          "metadata": {}
        }
      ]
    },
    {
      "cell_type": "code",
      "source": [
        "predictions = model.predict(x_test)\n",
        "\n",
        "# Evaluate the performance of the model\n",
        "loss, accuracy = model.evaluate(x_test, y_test)\n",
        "\n",
        "# Print the predictions and evaluation results\n",
        "print(\"Predictions:\", predictions)\n",
        "print(\"Loss:\", loss)\n",
        "print(\"Accuracy:\", accuracy)"
      ],
      "metadata": {
        "colab": {
          "base_uri": "https://localhost:8080/"
        },
        "id": "LF0WUH-Wehwv",
        "outputId": "731be393-9612-4552-84f3-c297cfbc88f4"
      },
      "id": "LF0WUH-Wehwv",
      "execution_count": 10,
      "outputs": [
        {
          "output_type": "stream",
          "name": "stdout",
          "text": [
            "313/313 [==============================] - 1s 2ms/step\n",
            "313/313 [==============================] - 1s 4ms/step - loss: 1.8864 - accuracy: 0.2823\n",
            "Predictions: [[0.057433   0.07274479 0.10843893 ... 0.11665847 0.07225808 0.07526422]\n",
            " [0.07437049 0.26357207 0.01060707 ... 0.00594926 0.3714539  0.24478734]\n",
            " [0.14078195 0.17763123 0.02390935 ... 0.01021025 0.44312575 0.15185502]\n",
            " ...\n",
            " [0.00620718 0.00911911 0.17024913 ... 0.12262444 0.00291797 0.01004888]\n",
            " [0.0118793  0.01589857 0.15296192 ... 0.11665136 0.00732472 0.01986297]\n",
            " [0.00673559 0.00628706 0.17810954 ... 0.18865114 0.00214419 0.00802969]]\n",
            "Loss: 1.8864479064941406\n",
            "Accuracy: 0.2822999954223633\n"
          ]
        }
      ]
    },
    {
      "cell_type": "markdown",
      "source": [
        "Using Nadam optimization and early stopping, train the network on the CIFAR10\n",
        "dataset. You can load it with keras.datasets.cifar10.load_​data(). The dataset is\n",
        "composed of 60,000 32 × 32–pixel color images (50,000 for training, 10,000 for\n",
        "testing) with 10 classes, so you’ll need a softmax output layer with 10 neurons.\n",
        "Remember to search for the right learning rate each time you change the model’s\n",
        "architecture or hyperparameters."
      ],
      "metadata": {
        "id": "69t1k7JjfT_o"
      },
      "id": "69t1k7JjfT_o"
    },
    {
      "cell_type": "code",
      "source": [
        " #Convert labels to one-hot encoding\n",
        "num_classes = 10\n",
        "y_train = keras.utils.to_categorical(y_train, num_classes)\n",
        "y_test = keras.utils.to_categorical(y_test, num_classes)"
      ],
      "metadata": {
        "id": "SQc-mjDte0pU"
      },
      "id": "SQc-mjDte0pU",
      "execution_count": 11,
      "outputs": []
    },
    {
      "cell_type": "code",
      "source": [
        "from tensorflow.keras import layers\n",
        "# Define the neural network architecture\n",
        "model = keras.Sequential(\n",
        "    [\n",
        "        layers.Conv2D(32, (3, 3), activation=\"relu\", input_shape=(32, 32, 3)),\n",
        "        layers.MaxPooling2D((2, 2)),\n",
        "        layers.Conv2D(64, (3, 3), activation=\"relu\"),\n",
        "        layers.MaxPooling2D((2, 2)),\n",
        "        layers.Flatten(),\n",
        "        layers.Dense(64, activation=\"relu\"),\n",
        "        layers.Dense(num_classes, activation=\"softmax\"),\n",
        "    ]\n",
        ")"
      ],
      "metadata": {
        "id": "-Kiy-NBafg-i"
      },
      "id": "-Kiy-NBafg-i",
      "execution_count": 12,
      "outputs": []
    },
    {
      "cell_type": "code",
      "source": [
        "# Compile the model\n",
        "optimizer = keras.optimizers.Nadam()\n",
        "model.compile(optimizer=optimizer, loss=\"categorical_crossentropy\", metrics=[\"accuracy\"])"
      ],
      "metadata": {
        "id": "-FsyX1KLfv_A"
      },
      "id": "-FsyX1KLfv_A",
      "execution_count": 13,
      "outputs": []
    },
    {
      "cell_type": "code",
      "source": [
        "# Set up early stopping\n",
        "early_stopping = keras.callbacks.EarlyStopping(\n",
        "    monitor=\"val_loss\", patience=3, restore_best_weights=True\n",
        ")"
      ],
      "metadata": {
        "id": "3YYqQRVnf0H6"
      },
      "id": "3YYqQRVnf0H6",
      "execution_count": 14,
      "outputs": []
    },
    {
      "cell_type": "code",
      "source": [
        "# Train the model\n",
        "history = model.fit(x_train,y_train,epochs=10,batch_size=32,validation_split=0.1,\n",
        "    callbacks=[early_stopping],\n",
        ")"
      ],
      "metadata": {
        "colab": {
          "base_uri": "https://localhost:8080/"
        },
        "id": "hazoHvNdgBjp",
        "outputId": "6b1a65cf-4ef4-489e-a6a6-e61b7c7499d9"
      },
      "id": "hazoHvNdgBjp",
      "execution_count": 15,
      "outputs": [
        {
          "output_type": "stream",
          "name": "stdout",
          "text": [
            "Epoch 1/10\n",
            "1407/1407 [==============================] - 17s 7ms/step - loss: 1.4371 - accuracy: 0.4853 - val_loss: 1.1576 - val_accuracy: 0.6020\n",
            "Epoch 2/10\n",
            "1407/1407 [==============================] - 8s 6ms/step - loss: 1.0904 - accuracy: 0.6178 - val_loss: 1.0219 - val_accuracy: 0.6436\n",
            "Epoch 3/10\n",
            "1407/1407 [==============================] - 8s 6ms/step - loss: 0.9643 - accuracy: 0.6646 - val_loss: 1.0061 - val_accuracy: 0.6494\n",
            "Epoch 4/10\n",
            "1407/1407 [==============================] - 8s 6ms/step - loss: 0.8785 - accuracy: 0.6936 - val_loss: 0.9310 - val_accuracy: 0.6750\n",
            "Epoch 5/10\n",
            "1407/1407 [==============================] - 9s 6ms/step - loss: 0.8087 - accuracy: 0.7204 - val_loss: 0.8808 - val_accuracy: 0.6946\n",
            "Epoch 6/10\n",
            "1407/1407 [==============================] - 8s 6ms/step - loss: 0.7524 - accuracy: 0.7391 - val_loss: 0.9046 - val_accuracy: 0.6874\n",
            "Epoch 7/10\n",
            "1407/1407 [==============================] - 8s 6ms/step - loss: 0.7014 - accuracy: 0.7569 - val_loss: 0.8679 - val_accuracy: 0.7014\n",
            "Epoch 8/10\n",
            "1407/1407 [==============================] - 8s 6ms/step - loss: 0.6532 - accuracy: 0.7720 - val_loss: 0.8847 - val_accuracy: 0.6992\n",
            "Epoch 9/10\n",
            "1407/1407 [==============================] - 8s 6ms/step - loss: 0.6111 - accuracy: 0.7860 - val_loss: 0.9114 - val_accuracy: 0.6926\n",
            "Epoch 10/10\n",
            "1407/1407 [==============================] - 8s 6ms/step - loss: 0.5665 - accuracy: 0.8022 - val_loss: 1.0096 - val_accuracy: 0.6818\n"
          ]
        }
      ]
    },
    {
      "cell_type": "code",
      "source": [
        "# Plot the accuracy curve\n",
        "import matplotlib.pyplot as plt\n",
        "plt.plot(history.history['accuracy'])\n",
        "plt.plot(history.history['val_accuracy'])\n",
        "plt.title('Accuracy Curve')\n",
        "plt.xlabel('Epoch')\n",
        "plt.ylabel('Accuracy')\n",
        "plt.legend(['Train', 'Validation'], loc='upper left')\n",
        "plt.show()\n",
        "\n",
        "# Plot the loss curve\n",
        "plt.plot(history.history['loss'])\n",
        "plt.plot(history.history['val_loss'])\n",
        "plt.title('Loss Curve')\n",
        "plt.xlabel('Epoch')\n",
        "plt.ylabel('Loss')\n",
        "plt.legend(['Train', 'Validation'], loc='upper right')\n",
        "plt.show()"
      ],
      "metadata": {
        "id": "_bkDvMPtgTTk"
      },
      "id": "_bkDvMPtgTTk",
      "execution_count": null,
      "outputs": []
    },
    {
      "cell_type": "code",
      "source": [
        "# Evaluate the model on the test set\n",
        "test_loss, test_acc = model.evaluate(x_test, y_test, verbose=0)\n",
        "print(\"Test accuracy:\", test_acc)"
      ],
      "metadata": {
        "id": "qWo4QxA5gM-G"
      },
      "id": "qWo4QxA5gM-G",
      "execution_count": null,
      "outputs": []
    },
    {
      "cell_type": "markdown",
      "source": [
        "c. Now try adding Batch Normalization and compare the learning curves: Is it converging faster than before? Does it produce a better model? How does it affect training speed?"
      ],
      "metadata": {
        "id": "Z3LEJi-UgeUR"
      },
      "id": "Z3LEJi-UgeUR"
    },
    {
      "cell_type": "code",
      "source": [
        "# Define the neural network architecture with Batch Normalization\n",
        "model = keras.Sequential(\n",
        "    [\n",
        "        layers.Conv2D(32, (3, 3), activation=\"relu\", input_shape=(32, 32, 3)),\n",
        "        layers.BatchNormalization(),\n",
        "        layers.MaxPooling2D((2, 2)),\n",
        "        layers.Conv2D(64, (3, 3), activation=\"relu\"),\n",
        "        layers.BatchNormalization(),\n",
        "        layers.MaxPooling2D((2, 2)),\n",
        "        layers.Flatten(),\n",
        "        layers.Dense(64, activation=\"relu\"),\n",
        "        layers.BatchNormalization(),\n",
        "        layers.Dense(num_classes, activation=\"softmax\"),\n",
        "    ]\n",
        ")"
      ],
      "metadata": {
        "id": "n_jWUYaogXuh"
      },
      "id": "n_jWUYaogXuh",
      "execution_count": null,
      "outputs": []
    },
    {
      "cell_type": "code",
      "source": [
        "# Compile the model\n",
        "optimizer = keras.optimizers.Nadam()\n",
        "model.compile(optimizer=optimizer, loss=\"categorical_crossentropy\", metrics=[\"accuracy\"])\n"
      ],
      "metadata": {
        "id": "aKeIG6xkgkky"
      },
      "id": "aKeIG6xkgkky",
      "execution_count": null,
      "outputs": []
    },
    {
      "cell_type": "code",
      "source": [],
      "metadata": {
        "id": "7oJZeAUwgn7f"
      },
      "id": "7oJZeAUwgn7f",
      "execution_count": null,
      "outputs": []
    },
    {
      "cell_type": "code",
      "source": [
        "# Set up early stopping\n",
        "early_stopping = keras.callbacks.EarlyStopping(\n",
        "    monitor=\"val_loss\", patience=3, restore_best_weights=True\n",
        ")"
      ],
      "metadata": {
        "id": "6SGPaPOvg6_J"
      },
      "id": "6SGPaPOvg6_J",
      "execution_count": null,
      "outputs": []
    },
    {
      "cell_type": "code",
      "source": [
        "# Train the model\n",
        "history_bn = model.fit(\n",
        "    x_train,\n",
        "    y_train,\n",
        "    epochs=10,\n",
        "    batch_size=32,\n",
        "    validation_split=0.1,\n",
        "    callbacks=[early_stopping],\n",
        ")"
      ],
      "metadata": {
        "id": "t0Iwkkbeg7qd"
      },
      "id": "t0Iwkkbeg7qd",
      "execution_count": null,
      "outputs": []
    },
    {
      "cell_type": "code",
      "source": [
        "# Plot the learning curves\n",
        "plt.plot(history.history[\"val_accuracy\"], label=\"Without Batch Normalization\")\n",
        "plt.plot(history_bn.history[\"val_accuracy\"], label=\"With Batch Normalization\")\n",
        "plt.title(\"Validation Accuracy\")\n",
        "plt.xlabel(\"Epoch\")\n",
        "plt.ylabel(\"Accuracy\")\n",
        "plt.legend()\n",
        "plt.show()"
      ],
      "metadata": {
        "colab": {
          "base_uri": "https://localhost:8080/",
          "height": 927
        },
        "id": "xMGoNMD-hBzh",
        "outputId": "72446c0c-6162-407c-c7b7-4a27a9733875"
      },
      "id": "xMGoNMD-hBzh",
      "execution_count": 22,
      "outputs": [
        {
          "data": {
            "image/png": "[encoded data removed]",
            "text/plain": [
              "<Figure size 640x480 with 1 Axes>"
            ]
          },
          "metadata": {},
          "output_type": "display_data"
        },
        {
          "output_type": "display_data",
          "data": {
            "text/plain": [
              "<Figure size 640x480 with 1 Axes>"
            ],
            "image/png": "[encoded data removed]"
          },
          "metadata": {}
        }
      ]
    },
    {
      "cell_type": "markdown",
      "source": [
        "Adding Batch Normalization can expedite the convergence of the model and enhance its overall performance. This is achieved by mitigating the impact of internal covariate shift, which refers to the alteration in the distribution of inputs to a layer that impedes the learning process. By normalizing the inputs for each layer, Batch Normalization diminishes the occurrence of internal covariate shift, thereby facilitating the learning process for the model.\n",
        "\n",
        "Examining the learning curves reveals that the model equipped with Batch Normalization converges more swiftly and attains a higher validation accuracy compared to the model without Batch Normalization. This observation suggests that Batch Normalization plays a vital role in improving the model's efficiency and effectiveness.\n",
        "\n",
        "In terms of training speed, the inclusion of Batch Normalization does introduce additional computational overhead during the training phase, as it adds an extra step to each forward pass through the network. However, the gains in convergence speed and final accuracy may outweigh this cost, particularly for larger and more intricate models.\n",
        "\n"
      ],
      "metadata": {
        "id": "E4rhN2cahU-3"
      },
      "id": "E4rhN2cahU-3"
    },
    {
      "cell_type": "code",
      "source": [],
      "metadata": {
        "id": "leykekJLhGgC"
      },
      "id": "leykekJLhGgC",
      "execution_count": null,
      "outputs": []
    },
    {
      "cell_type": "markdown",
      "source": [
        "d. Try replacing Batch Normalization with SELU, and make the necessary adjustements to ensure the network self-normalizes (i.e., standardize the input features, use LeCun normal initialization, make sure the DNN contains only a sequence of dense layers, etc.)."
      ],
      "metadata": {
        "id": "SEze2xjJhnjX"
      },
      "id": "SEze2xjJhnjX"
    },
    {
      "cell_type": "code",
      "source": [
        "(X_train, y_train), (X_test, y_test) = keras.datasets.cifar10.load_data()"
      ],
      "metadata": {
        "id": "dg1W2TzXhoIq"
      },
      "id": "dg1W2TzXhoIq",
      "execution_count": 26,
      "outputs": []
    },
    {
      "cell_type": "code",
      "source": [
        "from tensorflow.keras.models import Sequential\n",
        "from tensorflow.keras.layers import Flatten, Dense, Dropout, Conv2D, MaxPooling2D\n",
        "from tensorflow.keras.optimizers import Nadam\n",
        "from tensorflow.keras.callbacks import EarlyStopping\n",
        "from tensorflow.keras.initializers import lecun_normal\n",
        "from tensorflow.keras.utils import normalize\n",
        "from tensorflow.keras.layers import Activation"
      ],
      "metadata": {
        "id": "hhsYzmQIn17-"
      },
      "id": "hhsYzmQIn17-",
      "execution_count": 25,
      "outputs": []
    },
    {
      "cell_type": "code",
      "source": [
        "# Normalize the input data\n",
        "X_train = normalize(X_train, axis=1)\n",
        "X_test = normalize(X_test, axis=1)"
      ],
      "metadata": {
        "id": "frbfIAl5hsLO"
      },
      "id": "frbfIAl5hsLO",
      "execution_count": 27,
      "outputs": []
    },
    {
      "cell_type": "code",
      "source": [
        "# model build\n",
        "model = Sequential([\n",
        "    Conv2D(32, (3,3), activation='selu', kernel_initializer=lecun_normal(), padding='same', input_shape=(32,32,3)),\n",
        "    Conv2D(32, (3,3), activation='selu', kernel_initializer=lecun_normal(), padding='same'),\n",
        "    MaxPooling2D(pool_size=(2,2)),\n",
        "    Dropout(0.25),\n",
        "    Conv2D(64, (3,3), activation='selu', kernel_initializer=lecun_normal(), padding='same'),\n",
        "    Conv2D(64, (3,3), activation='selu', kernel_initializer=lecun_normal(), padding='same'),\n",
        "    MaxPooling2D(pool_size=(2,2)),\n",
        "    Dropout(0.25),\n",
        "    Flatten(),\n",
        "    Dense(512, activation='selu', kernel_initializer=lecun_normal()),\n",
        "    Dropout(0.5),\n",
        "    Dense(10, activation='softmax')\n",
        "])"
      ],
      "metadata": {
        "id": "ZfntG1GNhudM"
      },
      "id": "ZfntG1GNhudM",
      "execution_count": 28,
      "outputs": []
    },
    {
      "cell_type": "code",
      "source": [
        "# Compile the model with Nadam optimizer\n",
        "optimizer = Nadam(lr=0.001)\n",
        "model.compile(optimizer=optimizer, loss='sparse_categorical_crossentropy', metrics=['accuracy'])"
      ],
      "metadata": {
        "colab": {
          "base_uri": "https://localhost:8080/"
        },
        "id": "zMLTWta0hybH",
        "outputId": "e84be778-41cb-4e0c-f354-2fe55cbf3874"
      },
      "id": "zMLTWta0hybH",
      "execution_count": 29,
      "outputs": [
        {
          "output_type": "stream",
          "name": "stderr",
          "text": [
            "WARNING:absl:`lr` is deprecated in Keras optimizer, please use `learning_rate` or use the legacy optimizer, e.g.,tf.keras.optimizers.legacy.Nadam.\n"
          ]
        }
      ]
    },
    {
      "cell_type": "code",
      "source": [
        "# Define early stopping\n",
        "early_stopping = EarlyStopping(patience=10, restore_best_weights=True)"
      ],
      "metadata": {
        "id": "UUUTs7KPh10z"
      },
      "id": "UUUTs7KPh10z",
      "execution_count": 30,
      "outputs": []
    },
    {
      "cell_type": "code",
      "source": [
        "# Train the model with early stopping\n",
        "history = model.fit(X_train, y_train, epochs=100, batch_size=32, validation_split=0.2, callbacks=[early_stopping])"
      ],
      "metadata": {
        "colab": {
          "base_uri": "https://localhost:8080/"
        },
        "id": "OZ-jrHM3h4-B",
        "outputId": "1dcaffa1-104f-4820-898a-7c70d5cad055"
      },
      "id": "OZ-jrHM3h4-B",
      "execution_count": 31,
      "outputs": [
        {
          "output_type": "stream",
          "name": "stdout",
          "text": [
            "Epoch 1/100\n",
            "1250/1250 [==============================] - 17s 9ms/step - loss: 1.5496 - accuracy: 0.4673 - val_loss: 1.3322 - val_accuracy: 0.5416\n",
            "Epoch 2/100\n",
            "1250/1250 [==============================] - 10s 8ms/step - loss: 1.2707 - accuracy: 0.5628 - val_loss: 1.2029 - val_accuracy: 0.5878\n",
            "Epoch 3/100\n",
            "1250/1250 [==============================] - 10s 8ms/step - loss: 1.2135 - accuracy: 0.5822 - val_loss: 1.1992 - val_accuracy: 0.5889\n",
            "Epoch 4/100\n",
            "1250/1250 [==============================] - 11s 8ms/step - loss: 1.1693 - accuracy: 0.5937 - val_loss: 1.1162 - val_accuracy: 0.6140\n",
            "Epoch 5/100\n",
            "1250/1250 [==============================] - 10s 8ms/step - loss: 1.1285 - accuracy: 0.6077 - val_loss: 1.1655 - val_accuracy: 0.6150\n",
            "Epoch 6/100\n",
            "1250/1250 [==============================] - 10s 8ms/step - loss: 1.0890 - accuracy: 0.6206 - val_loss: 1.0034 - val_accuracy: 0.6530\n",
            "Epoch 7/100\n",
            "1250/1250 [==============================] - 10s 8ms/step - loss: 1.0522 - accuracy: 0.6363 - val_loss: 1.0056 - val_accuracy: 0.6646\n",
            "Epoch 8/100\n",
            "1250/1250 [==============================] - 11s 9ms/step - loss: 1.0259 - accuracy: 0.6496 - val_loss: 1.0833 - val_accuracy: 0.6441\n",
            "Epoch 9/100\n",
            "1250/1250 [==============================] - 10s 8ms/step - loss: 0.9824 - accuracy: 0.6635 - val_loss: 1.0795 - val_accuracy: 0.6562\n",
            "Epoch 10/100\n",
            "1250/1250 [==============================] - 10s 8ms/step - loss: 0.9472 - accuracy: 0.6793 - val_loss: 0.9902 - val_accuracy: 0.6801\n",
            "Epoch 11/100\n",
            "1250/1250 [==============================] - 10s 8ms/step - loss: 0.9219 - accuracy: 0.6881 - val_loss: 0.9181 - val_accuracy: 0.7059\n",
            "Epoch 12/100\n",
            "1250/1250 [==============================] - 10s 8ms/step - loss: 0.8852 - accuracy: 0.7026 - val_loss: 0.9654 - val_accuracy: 0.7001\n",
            "Epoch 13/100\n",
            "1250/1250 [==============================] - 9s 8ms/step - loss: 0.8722 - accuracy: 0.7079 - val_loss: 1.1563 - val_accuracy: 0.6537\n",
            "Epoch 14/100\n",
            "1250/1250 [==============================] - 10s 8ms/step - loss: 0.8376 - accuracy: 0.7218 - val_loss: 0.9581 - val_accuracy: 0.7077\n",
            "Epoch 15/100\n",
            "1250/1250 [==============================] - 10s 8ms/step - loss: 0.8122 - accuracy: 0.7303 - val_loss: 1.0038 - val_accuracy: 0.7055\n",
            "Epoch 16/100\n",
            "1250/1250 [==============================] - 10s 8ms/step - loss: 0.7955 - accuracy: 0.7406 - val_loss: 1.0226 - val_accuracy: 0.7091\n",
            "Epoch 17/100\n",
            "1250/1250 [==============================] - 10s 8ms/step - loss: 0.7907 - accuracy: 0.7427 - val_loss: 1.2595 - val_accuracy: 0.6829\n",
            "Epoch 18/100\n",
            "1250/1250 [==============================] - 10s 8ms/step - loss: 0.7635 - accuracy: 0.7518 - val_loss: 1.0220 - val_accuracy: 0.7173\n",
            "Epoch 19/100\n",
            "1250/1250 [==============================] - 10s 8ms/step - loss: 0.7501 - accuracy: 0.7592 - val_loss: 0.9988 - val_accuracy: 0.7198\n",
            "Epoch 20/100\n",
            "1250/1250 [==============================] - 10s 8ms/step - loss: 0.7351 - accuracy: 0.7662 - val_loss: 1.0216 - val_accuracy: 0.7183\n",
            "Epoch 21/100\n",
            "1250/1250 [==============================] - 10s 8ms/step - loss: 0.7137 - accuracy: 0.7721 - val_loss: 1.1261 - val_accuracy: 0.7057\n"
          ]
        }
      ]
    },
    {
      "cell_type": "code",
      "source": [
        "# Evaluate the model on the test set\n",
        "test_loss, test_acc = model.evaluate(X_test, y_test)\n",
        "print('Test accuracy with SELU:', test_acc)"
      ],
      "metadata": {
        "colab": {
          "base_uri": "https://localhost:8080/"
        },
        "id": "PsXQXTUph_QB",
        "outputId": "727befdb-9ffe-48e6-ec6d-257756a3036b"
      },
      "id": "PsXQXTUph_QB",
      "execution_count": 32,
      "outputs": [
        {
          "output_type": "stream",
          "name": "stdout",
          "text": [
            "313/313 [==============================] - 1s 3ms/step - loss: 0.9325 - accuracy: 0.6972\n",
            "Test accuracy with SELU: 0.6972000002861023\n"
          ]
        }
      ]
    },
    {
      "cell_type": "code",
      "source": [],
      "metadata": {
        "id": "1cS-5ojKiCfm"
      },
      "id": "1cS-5ojKiCfm",
      "execution_count": 32,
      "outputs": []
    },
    {
      "cell_type": "markdown",
      "source": [],
      "metadata": {
        "id": "yTaNWKWViO9Q"
      },
      "id": "yTaNWKWViO9Q"
    },
    {
      "cell_type": "code",
      "source": [
        "from tensorflow.keras.layers import AlphaDropout\n",
        "\n",
        "# Define the model architecture with alpha dropout\n",
        "model = Sequential([\n",
        "    Conv2D(32, (3,3), activation='selu', kernel_initializer=lecun_normal(), padding='same', input_shape=(32,32,3)),\n",
        "    Conv2D(32, (3,3), activation='selu', kernel_initializer=lecun_normal(), padding='same'),\n",
        "    MaxPooling2D(pool_size=(2,2)),\n",
        "    AlphaDropout(0.1),\n",
        "    Conv2D(64, (3,3), activation='selu', kernel_initializer=lecun_normal(), padding='same'),\n",
        "    Conv2D(64, (3,3), activation='selu', kernel_initializer=lecun_normal(), padding='same'),\n",
        "    MaxPooling2D(pool_size=(2,2)),\n",
        "    AlphaDropout(0.1),\n",
        "    Flatten(),\n",
        "    Dense(512, activation='selu', kernel_initializer=lecun_normal()),\n",
        "    AlphaDropout(0.5),\n",
        "    Dense(10, activation='softmax')\n",
        "])"
      ],
      "metadata": {
        "id": "4cPe9F7aiPjg"
      },
      "id": "4cPe9F7aiPjg",
      "execution_count": 36,
      "outputs": []
    },
    {
      "cell_type": "code",
      "source": [
        "# Compile the model with Nadam optimizer\n",
        "optimizer = Nadam(lr=0.001)\n",
        "model.compile(optimizer=optimizer, loss='sparse_categorical_crossentropy', metrics=['accuracy'])"
      ],
      "metadata": {
        "colab": {
          "base_uri": "https://localhost:8080/"
        },
        "id": "VUVODxa5iQbu",
        "outputId": "ecbe7506-c664-498c-d014-37db69a3b596"
      },
      "id": "VUVODxa5iQbu",
      "execution_count": 37,
      "outputs": [
        {
          "output_type": "stream",
          "name": "stderr",
          "text": [
            "WARNING:absl:`lr` is deprecated in Keras optimizer, please use `learning_rate` or use the legacy optimizer, e.g.,tf.keras.optimizers.legacy.Nadam.\n"
          ]
        }
      ]
    },
    {
      "cell_type": "code",
      "source": [
        "early_stopping = EarlyStopping(patience=10, restore_best_weights=True)\n"
      ],
      "metadata": {
        "id": "bI66Bme1iTKd"
      },
      "id": "bI66Bme1iTKd",
      "execution_count": 38,
      "outputs": []
    },
    {
      "cell_type": "code",
      "source": [
        "# Train the model with alpha dropout and early stopping\n",
        "history = model.fit(X_train, y_train, epochs=100, batch_size=32, validation_split=0.2, callbacks=[early_stopping])"
      ],
      "metadata": {
        "colab": {
          "base_uri": "https://localhost:8080/"
        },
        "id": "zyZlc5aIiZaO",
        "outputId": "9f5cc4b6-7d28-4a52-b99f-b98143c74652"
      },
      "id": "zyZlc5aIiZaO",
      "execution_count": 39,
      "outputs": [
        {
          "output_type": "stream",
          "name": "stdout",
          "text": [
            "Epoch 1/100\n",
            "1250/1250 [==============================] - 17s 11ms/step - loss: 1.8425 - accuracy: 0.3445 - val_loss: 4.3913 - val_accuracy: 0.4698\n",
            "Epoch 2/100\n",
            "1250/1250 [==============================] - 14s 11ms/step - loss: 1.4826 - accuracy: 0.4769 - val_loss: 2.3908 - val_accuracy: 0.5879\n",
            "Epoch 3/100\n",
            "1250/1250 [==============================] - 10s 8ms/step - loss: 1.3063 - accuracy: 0.5451 - val_loss: 1.8465 - val_accuracy: 0.6390\n",
            "Epoch 4/100\n",
            "1250/1250 [==============================] - 10s 8ms/step - loss: 1.1916 - accuracy: 0.5876 - val_loss: 2.0272 - val_accuracy: 0.6514\n",
            "Epoch 5/100\n",
            "1250/1250 [==============================] - 10s 8ms/step - loss: 1.1120 - accuracy: 0.6156 - val_loss: 1.9351 - val_accuracy: 0.6732\n",
            "Epoch 6/100\n",
            "1250/1250 [==============================] - 10s 8ms/step - loss: 1.0454 - accuracy: 0.6407 - val_loss: 1.5095 - val_accuracy: 0.6918\n",
            "Epoch 7/100\n",
            "1250/1250 [==============================] - 9s 8ms/step - loss: 0.9954 - accuracy: 0.6583 - val_loss: 1.5635 - val_accuracy: 0.6955\n",
            "Epoch 8/100\n",
            "1250/1250 [==============================] - 10s 8ms/step - loss: 0.9459 - accuracy: 0.6765 - val_loss: 1.7328 - val_accuracy: 0.7032\n",
            "Epoch 9/100\n",
            "1250/1250 [==============================] - 10s 8ms/step - loss: 0.8868 - accuracy: 0.6998 - val_loss: 1.6664 - val_accuracy: 0.6932\n",
            "Epoch 10/100\n",
            "1250/1250 [==============================] - 11s 9ms/step - loss: 0.8545 - accuracy: 0.7096 - val_loss: 1.6742 - val_accuracy: 0.7102\n",
            "Epoch 11/100\n",
            "1250/1250 [==============================] - 10s 8ms/step - loss: 0.8214 - accuracy: 0.7247 - val_loss: 1.6370 - val_accuracy: 0.7084\n",
            "Epoch 12/100\n",
            "1250/1250 [==============================] - 10s 8ms/step - loss: 0.7811 - accuracy: 0.7394 - val_loss: 1.4719 - val_accuracy: 0.7001\n",
            "Epoch 13/100\n",
            "1250/1250 [==============================] - 10s 8ms/step - loss: 0.7490 - accuracy: 0.7480 - val_loss: 1.7440 - val_accuracy: 0.7122\n",
            "Epoch 14/100\n",
            "1250/1250 [==============================] - 10s 8ms/step - loss: 0.7176 - accuracy: 0.7602 - val_loss: 1.5817 - val_accuracy: 0.7169\n",
            "Epoch 15/100\n",
            "1250/1250 [==============================] - 11s 9ms/step - loss: 0.6957 - accuracy: 0.7687 - val_loss: 1.8204 - val_accuracy: 0.7303\n",
            "Epoch 16/100\n",
            "1250/1250 [==============================] - 10s 8ms/step - loss: 0.6772 - accuracy: 0.7758 - val_loss: 1.7717 - val_accuracy: 0.7036\n",
            "Epoch 17/100\n",
            "1250/1250 [==============================] - 10s 8ms/step - loss: 0.6596 - accuracy: 0.7806 - val_loss: 1.9860 - val_accuracy: 0.7104\n",
            "Epoch 18/100\n",
            "1250/1250 [==============================] - 9s 8ms/step - loss: 0.6356 - accuracy: 0.7908 - val_loss: 2.0162 - val_accuracy: 0.7242\n",
            "Epoch 19/100\n",
            "1250/1250 [==============================] - 10s 8ms/step - loss: 0.6155 - accuracy: 0.8003 - val_loss: 1.9673 - val_accuracy: 0.7105\n",
            "Epoch 20/100\n",
            "1250/1250 [==============================] - 10s 8ms/step - loss: 0.6077 - accuracy: 0.8027 - val_loss: 2.5023 - val_accuracy: 0.7339\n",
            "Epoch 21/100\n",
            "1250/1250 [==============================] - 10s 8ms/step - loss: 0.5842 - accuracy: 0.8087 - val_loss: 2.3554 - val_accuracy: 0.7367\n",
            "Epoch 22/100\n",
            "1250/1250 [==============================] - 10s 8ms/step - loss: 0.5822 - accuracy: 0.8117 - val_loss: 2.6013 - val_accuracy: 0.7241\n"
          ]
        }
      ]
    },
    {
      "cell_type": "code",
      "source": [
        "# Evaluate the model on the test set\n",
        "test_loss, test_acc = model.evaluate(X_test, y_test)\n",
        "print('Test accuracy with alpha dropout:', test_acc)"
      ],
      "metadata": {
        "colab": {
          "base_uri": "https://localhost:8080/"
        },
        "id": "orTWRRqAicam",
        "outputId": "75b18534-bb3b-4f57-ec59-ab848b82b8ee"
      },
      "id": "orTWRRqAicam",
      "execution_count": 40,
      "outputs": [
        {
          "output_type": "stream",
          "name": "stdout",
          "text": [
            "313/313 [==============================] - 1s 4ms/step - loss: 1.5039 - accuracy: 0.6928\n",
            "Test accuracy with alpha dropout: 0.692799985408783\n"
          ]
        }
      ]
    },
    {
      "cell_type": "code",
      "source": [
        "# Use MC Dropout for improved accuracy without retraining the model\n",
        "import numpy as np\n",
        "n_samples = 100\n",
        "y_probs = np.stack([model.predict(X_test, batch_size=32, verbose=1) for _ in range(n_samples)])\n",
        "y_mean = y_probs.mean(axis=0)\n",
        "y_std = y_probs.std(axis=0)\n",
        "y_pred = np.argmax(y_mean, axis=1)\n",
        "test_acc_mc = (y_pred == y_test.squeeze()).mean()\n",
        "print('Test accuracy with MC Dropout:', test_acc_mc)"
      ],
      "metadata": {
        "colab": {
          "base_uri": "https://localhost:8080/"
        },
        "id": "FO6a3IEyijLG",
        "outputId": "64d06297-c51b-444e-ca9f-a0c3abcf092f"
      },
      "id": "FO6a3IEyijLG",
      "execution_count": 42,
      "outputs": [
        {
          "output_type": "stream",
          "name": "stdout",
          "text": [
            "313/313 [==============================] - 1s 3ms/step\n",
            "313/313 [==============================] - 1s 2ms/step\n",
            "313/313 [==============================] - 1s 2ms/step\n",
            "313/313 [==============================] - 1s 2ms/step\n",
            "313/313 [==============================] - 1s 2ms/step\n",
            "313/313 [==============================] - 1s 2ms/step\n",
            "313/313 [==============================] - 1s 2ms/step\n",
            "313/313 [==============================] - 1s 2ms/step\n",
            "313/313 [==============================] - 1s 3ms/step\n",
            "313/313 [==============================] - 1s 3ms/step\n",
            "313/313 [==============================] - 1s 2ms/step\n",
            "313/313 [==============================] - 1s 2ms/step\n",
            "313/313 [==============================] - 1s 2ms/step\n",
            "313/313 [==============================] - 1s 2ms/step\n",
            "313/313 [==============================] - 1s 2ms/step\n",
            "313/313 [==============================] - 1s 2ms/step\n",
            "313/313 [==============================] - 1s 2ms/step\n",
            "313/313 [==============================] - 1s 3ms/step\n",
            "313/313 [==============================] - 1s 3ms/step\n",
            "313/313 [==============================] - 1s 2ms/step\n",
            "313/313 [==============================] - 1s 2ms/step\n",
            "313/313 [==============================] - 1s 2ms/step\n",
            "313/313 [==============================] - 1s 2ms/step\n",
            "313/313 [==============================] - 1s 2ms/step\n",
            "313/313 [==============================] - 1s 2ms/step\n",
            "313/313 [==============================] - 1s 3ms/step\n",
            "313/313 [==============================] - 1s 3ms/step\n",
            "313/313 [==============================] - 1s 2ms/step\n",
            "313/313 [==============================] - 1s 2ms/step\n",
            "313/313 [==============================] - 1s 2ms/step\n",
            "313/313 [==============================] - 1s 2ms/step\n",
            "313/313 [==============================] - 1s 2ms/step\n",
            "313/313 [==============================] - 1s 2ms/step\n",
            "313/313 [==============================] - 1s 2ms/step\n",
            "313/313 [==============================] - 1s 3ms/step\n",
            "313/313 [==============================] - 1s 2ms/step\n",
            "313/313 [==============================] - 1s 2ms/step\n",
            "313/313 [==============================] - 1s 2ms/step\n",
            "313/313 [==============================] - 1s 2ms/step\n",
            "313/313 [==============================] - 1s 2ms/step\n",
            "313/313 [==============================] - 1s 2ms/step\n",
            "313/313 [==============================] - 1s 2ms/step\n",
            "313/313 [==============================] - 1s 3ms/step\n",
            "313/313 [==============================] - 1s 3ms/step\n",
            "313/313 [==============================] - 1s 2ms/step\n",
            "313/313 [==============================] - 1s 2ms/step\n",
            "313/313 [==============================] - 1s 2ms/step\n",
            "313/313 [==============================] - 1s 2ms/step\n",
            "313/313 [==============================] - 1s 2ms/step\n",
            "313/313 [==============================] - 1s 2ms/step\n",
            "313/313 [==============================] - 1s 3ms/step\n",
            "313/313 [==============================] - 1s 3ms/step\n",
            "313/313 [==============================] - 1s 2ms/step\n",
            "313/313 [==============================] - 1s 2ms/step\n",
            "313/313 [==============================] - 1s 2ms/step\n",
            "313/313 [==============================] - 1s 2ms/step\n",
            "313/313 [==============================] - 1s 2ms/step\n",
            "313/313 [==============================] - 1s 2ms/step\n",
            "313/313 [==============================] - 1s 2ms/step\n",
            "313/313 [==============================] - 1s 2ms/step\n",
            "313/313 [==============================] - 1s 3ms/step\n",
            "313/313 [==============================] - 1s 2ms/step\n",
            "313/313 [==============================] - 1s 2ms/step\n",
            "313/313 [==============================] - 1s 2ms/step\n",
            "313/313 [==============================] - 1s 2ms/step\n",
            "313/313 [==============================] - 1s 2ms/step\n",
            "313/313 [==============================] - 1s 2ms/step\n",
            "313/313 [==============================] - 1s 2ms/step\n",
            "313/313 [==============================] - 1s 3ms/step\n",
            "313/313 [==============================] - 1s 2ms/step\n",
            "313/313 [==============================] - 1s 2ms/step\n",
            "313/313 [==============================] - 1s 2ms/step\n",
            "313/313 [==============================] - 1s 2ms/step\n",
            "313/313 [==============================] - 1s 2ms/step\n",
            "313/313 [==============================] - 1s 2ms/step\n",
            "313/313 [==============================] - 1s 2ms/step\n",
            "313/313 [==============================] - 1s 3ms/step\n",
            "313/313 [==============================] - 1s 3ms/step\n",
            "313/313 [==============================] - 1s 2ms/step\n",
            "313/313 [==============================] - 1s 2ms/step\n",
            "313/313 [==============================] - 1s 2ms/step\n",
            "313/313 [==============================] - 1s 2ms/step\n",
            "313/313 [==============================] - 1s 2ms/step\n",
            "313/313 [==============================] - 1s 2ms/step\n",
            "313/313 [==============================] - 1s 2ms/step\n",
            "313/313 [==============================] - 1s 3ms/step\n",
            "313/313 [==============================] - 1s 3ms/step\n",
            "313/313 [==============================] - 1s 2ms/step\n",
            "313/313 [==============================] - 1s 2ms/step\n",
            "313/313 [==============================] - 1s 2ms/step\n",
            "313/313 [==============================] - 1s 2ms/step\n",
            "313/313 [==============================] - 1s 2ms/step\n",
            "313/313 [==============================] - 1s 2ms/step\n",
            "313/313 [==============================] - 1s 2ms/step\n",
            "313/313 [==============================] - 1s 3ms/step\n",
            "313/313 [==============================] - 1s 2ms/step\n",
            "313/313 [==============================] - 1s 2ms/step\n",
            "313/313 [==============================] - 1s 2ms/step\n",
            "313/313 [==============================] - 1s 2ms/step\n",
            "313/313 [==============================] - 1s 2ms/step\n",
            "Test accuracy with MC Dropout: 0.6928\n"
          ]
        }
      ]
    },
    {
      "cell_type": "code",
      "source": [],
      "metadata": {
        "id": "UR5qFmc7imNB"
      },
      "id": "UR5qFmc7imNB",
      "execution_count": null,
      "outputs": []
    }
  ],
  "metadata": {
    "kernelspec": {
      "display_name": "Python 3",
      "name": "python3"
    },
    "language_info": {
      "codemirror_mode": {
        "name": "ipython",
        "version": 3
      },
      "file_extension": ".py",
      "mimetype": "text/x-python",
      "name": "python",
      "nbconvert_exporter": "python",
      "pygments_lexer": "ipython3",
      "version": "3.8.8"
    },
    "colab": {
      "provenance": [],
      "gpuType": "T4"
    },
    "accelerator": "GPU"
  },
  "nbformat": 4,
  "nbformat_minor": 5
}