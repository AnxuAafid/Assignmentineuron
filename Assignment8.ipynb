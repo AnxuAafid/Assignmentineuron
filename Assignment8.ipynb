{
 "cells": [
  {
   "cell_type": "markdown",
   "id": "2d955885",
   "metadata": {},
   "source": [
    "\n",
    "# 1. Write a Python Program to Add Two Matrices?\n",
    "# 2. Write a Python Program to Multiply Two Matrices?\n",
    "# 3. Write a Python Program to Transpose a Matrix?"
   ]
  },
  {
   "cell_type": "code",
   "execution_count": 191,
   "id": "783b6c2f",
   "metadata": {},
   "outputs": [],
   "source": [
    "\n",
    "class matrix:\n",
    "    def __init__(self):\n",
    "        self.menu()\n",
    "    def menu(self):\n",
    "        print(\"\"\"\n",
    "            Press 1 for addition.\n",
    "            press 2 for Multiplication\n",
    "            Press 3 for Transpose\n",
    "            Press 4 for exit\n",
    "        \"\"\")\n",
    "        cho = int(input())\n",
    "\n",
    "        if cho == 1:\n",
    "            self.add()\n",
    "        elif cho == 2:\n",
    "            self.multply()\n",
    "        elif cho == 3:\n",
    "            self. Transpose()\n",
    "        elif cho == 4:\n",
    "            exit()\n",
    "        else:\n",
    "            print(\"you entered wrong input...  TRY AGAIN!!!\")\n",
    "            self.menu()\n",
    "        \n",
    "    def add(self):\n",
    "        try:\n",
    "            Mat1 =[]\n",
    "            dimension = print(\"Enter the dimensions of First metrics: as row * column\")\n",
    "            r = int(input(\"enter the num of rows then hit enter key and pass value for no columns\"))\n",
    "            c = int(input())\n",
    "            for i in range(r):\n",
    "\n",
    "                row = list(map(int, input(f\"enter the {i+1} row with each element separeted with , \").strip().split(',')))[:c]\n",
    "                Mat1.append(row)\n",
    "            print(\"please enter the 2nd matrix\")\n",
    "            Mat2 = []\n",
    "            for i in range(r):\n",
    "                row = list(map(int, input(f\"enter the {i+1} row with each element separeted with , \").strip().split(',')))[:c]\n",
    "                Mat2.append(row)\n",
    "            print(\"Please wait for result... Here we go!!!\")\n",
    "            for i in range(r):\n",
    "                for j in range(c):\n",
    "\n",
    "                    Mat1[i][j]=Mat1[i][j]+Mat2[i][j]\n",
    "\n",
    "            self.display(Mat1)\n",
    "        except Exception as e:\n",
    "            print(\"Hello Hello Hello, don't be happy exception has been raised\")\n",
    "            print(e)\n",
    "    def multply(self):\n",
    "        try:\n",
    "            Mat1 =[]\n",
    "            \n",
    "            dimension = print(\"Enter the dimensions of First metrics: as row * column\")\n",
    "            r = int(input(\"enter the num of rows then hit enter key and pass value for no columns\"))\n",
    "            c = int(input())\n",
    "            for i in range(r):\n",
    "\n",
    "                row = list(map(int, input(f\"enter the {i+1} row with each element separeted with , \").strip().split(',')))[:c]\n",
    "                Mat1.append(row)\n",
    "            print(\"please enter the 2nd matrix\")\n",
    "            Mat2 = []\n",
    "            for i in range(r):\n",
    "                row = list(map(int, input(f\"enter the {i+1} row with each element separeted with , \").strip().split(',')))[:c]\n",
    "                Mat2.append(row)\n",
    "            print(\"Please wait for result... Here we go!!!\")\n",
    "            out =[] \n",
    "            x = 0\n",
    "            for i in range(r):\n",
    "                m =[]\n",
    "                for j in range(c): \n",
    "                    for k in range(c):\n",
    "\n",
    "                        x = x + Mat1[i][k]*Mat2[k][j]\n",
    "                    m.append(x)\n",
    "                    x=0\n",
    "                out.append(m)\n",
    "\n",
    "            self.display(out)\n",
    "        except Exception as e:\n",
    "            print(\"Hello Hello Hello, don't be happy exception has been raised\")\n",
    "            print(e)\n",
    "    def Transpose(self):\n",
    "        try:\n",
    "            Mat1 = []\n",
    "            dimension = print(\"Enter the dimensions of First metrics: as row * column\")\n",
    "            r = int(input(\"enter the num of rows then hit enter key and pass value for no columns\"))\n",
    "            c = int(input())\n",
    "            for i in range(r):\n",
    "\n",
    "                row = list(map(int, input(f\"enter the {i+1} row with each element separeted with , \").strip().split(',')))[:c]\n",
    "                Mat1.append(row)\n",
    "            out = [[Mat1[j][i] for j in range(len(Mat1))] for i in range(len(Mat1[0]))]\n",
    "            self.display(out)\n",
    "        except Exception as e:\n",
    "            print(e)\n",
    "    def display(self,out):\n",
    "        self.out = out\n",
    "        print(self.out)"
   ]
  },
  {
   "cell_type": "code",
   "execution_count": 192,
   "id": "d3e4b159",
   "metadata": {},
   "outputs": [
    {
     "name": "stdout",
     "output_type": "stream",
     "text": [
      "\n",
      "            Press 1 for addition.\n",
      "            press 2 for Multiplication\n",
      "            Press 3 for Transpose\n",
      "            Press 4 for exit\n",
      "        \n",
      "3\n",
      "Enter the dimensions of First metrics: as row * column\n",
      "enter the num of rows then hit enter key and pass value for no columns3\n",
      "3\n",
      "enter the 1 row with each element separeted with , 1,2,3\n",
      "enter the 2 row with each element separeted with , 4,5,6\n",
      "enter the 3 row with each element separeted with , 7,8,9\n",
      "[[1, 4, 7], [2, 5, 8], [3, 6, 9]]\n"
     ]
    }
   ],
   "source": [
    "ob = matrix() # for Transpose\n"
   ]
  },
  {
   "cell_type": "code",
   "execution_count": 193,
   "id": "956d080f",
   "metadata": {},
   "outputs": [
    {
     "name": "stdout",
     "output_type": "stream",
     "text": [
      "\n",
      "            Press 1 for addition.\n",
      "            press 2 for Multiplication\n",
      "            Press 3 for Transpose\n",
      "            Press 4 for exit\n",
      "        \n",
      "1\n",
      "Enter the dimensions of First metrics: as row * column\n",
      "enter the num of rows then hit enter key and pass value for no columns3\n",
      "3\n",
      "enter the 1 row with each element separeted with , 1,2,3\n",
      "enter the 2 row with each element separeted with , 4,5,6\n",
      "enter the 3 row with each element separeted with , 7,8,9\n",
      "please enter the 2nd matrix\n",
      "enter the 1 row with each element separeted with , 1,2,3\n",
      "enter the 2 row with each element separeted with , 4,5,6\n",
      "enter the 3 row with each element separeted with , 7,8,9\n",
      "Please wait for result... Here we go!!!\n",
      "[[2, 4, 6], [8, 10, 12], [14, 16, 18]]\n"
     ]
    }
   ],
   "source": [
    " ob1 = matrix() # for addition"
   ]
  },
  {
   "cell_type": "code",
   "execution_count": 194,
   "id": "67cd2954",
   "metadata": {},
   "outputs": [
    {
     "name": "stdout",
     "output_type": "stream",
     "text": [
      "\n",
      "            Press 1 for addition.\n",
      "            press 2 for Multiplication\n",
      "            Press 3 for Transpose\n",
      "            Press 4 for exit\n",
      "        \n",
      "2\n",
      "Enter the dimensions of First metrics: as row * column\n",
      "enter the num of rows then hit enter key and pass value for no columns3\n",
      "3\n",
      "enter the 1 row with each element separeted with , 1,2,3\n",
      "enter the 2 row with each element separeted with , 1,2,3\n",
      "enter the 3 row with each element separeted with , 1,2,3\n",
      "please enter the 2nd matrix\n",
      "enter the 1 row with each element separeted with , 1,2,3\n",
      "enter the 2 row with each element separeted with , 1,2,3\n",
      "enter the 3 row with each element separeted with , 1,2,3\n",
      "Please wait for result... Here we go!!!\n",
      "[[6, 12, 18], [6, 12, 18], [6, 12, 18]]\n"
     ]
    }
   ],
   "source": [
    "ob3 = matrix()# for multiplication"
   ]
  },
  {
   "cell_type": "code",
   "execution_count": null,
   "id": "d6df6785",
   "metadata": {},
   "outputs": [],
   "source": [
    "\n"
   ]
  },
  {
   "cell_type": "markdown",
   "id": "97f0348b",
   "metadata": {},
   "source": [
    "# 4. Write a Python Program to Sort Words in Alphabetic Order?"
   ]
  },
  {
   "cell_type": "code",
   "execution_count": 195,
   "id": "8c0b1e2f",
   "metadata": {},
   "outputs": [
    {
     "name": "stdout",
     "output_type": "stream",
     "text": [
      "Enter the sentence: this is what we say, we say but we never do, we do that we not say\n",
      "but do do, is never not say say say, that this we we we we we what "
     ]
    }
   ],
   "source": [
    "def SortWord(sen):\n",
    "    sen = sen.split(' ')\n",
    "    sen.sort()\n",
    "    return sen\n",
    "sen = input(\"Enter the sentence: \")\n",
    "words = SortWord(sen)\n",
    "for w in words:\n",
    "    print(w,end=' ')"
   ]
  },
  {
   "cell_type": "markdown",
   "id": "d02ca58c",
   "metadata": {},
   "source": [
    " # 5. Write a Python Program to Remove Punctuation From a String?"
   ]
  },
  {
   "cell_type": "code",
   "execution_count": 126,
   "id": "3c20d207",
   "metadata": {},
   "outputs": [
    {
     "name": "stdout",
     "output_type": "stream",
     "text": [
      "enter the sentence with punctuation: thr ccffc$ ftftz%fgf ese\n",
      "thr ccffc ftftzfgf ese\n"
     ]
    }
   ],
   "source": [
    "punc = '''!()-[]{};:'\"\\,<>./?@#$%^&*_~'''\n",
    "sen = input(\"enter the sentence with punctuation: \")\n",
    "out = ''\n",
    "for el in sen:\n",
    "    if el not in punc:\n",
    "        out = out + el\n",
    "print(out)"
   ]
  },
  {
   "cell_type": "code",
   "execution_count": null,
   "id": "314f167d",
   "metadata": {},
   "outputs": [],
   "source": []
  }
 ],
 "metadata": {
  "kernelspec": {
   "display_name": "Python 3",
   "language": "python",
   "name": "python3"
  },
  "language_info": {
   "codemirror_mode": {
    "name": "ipython",
    "version": 3
   },
   "file_extension": ".py",
   "mimetype": "text/x-python",
   "name": "python",
   "nbconvert_exporter": "python",
   "pygments_lexer": "ipython3",
   "version": "3.8.8"
  }
 },
 "nbformat": 4,
 "nbformat_minor": 5
}
