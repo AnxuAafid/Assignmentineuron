{
 "cells": [
  {
   "cell_type": "code",
   "execution_count": null,
   "id": "783eb371",
   "metadata": {},
   "outputs": [],
   "source": [
    " "
   ]
  },
  {
   "cell_type": "markdown",
   "id": "fc84c0bb",
   "metadata": {},
   "source": [
    "# 1. Write a Python Program to Find LCM?"
   ]
  },
  {
   "cell_type": "code",
   "execution_count": 6,
   "id": "30719f14",
   "metadata": {},
   "outputs": [
    {
     "name": "stdout",
     "output_type": "stream",
     "text": [
      "enter the two numbers\n",
      "3\n",
      "4\n",
      "('the output is', 12)\n"
     ]
    }
   ],
   "source": [
    "def lcm(x,y):\n",
    "    if x>y:\n",
    "        larger_num = x\n",
    "    else:\n",
    "        larger_num = y\n",
    "    while(True):\n",
    "        if(larger_num%x==0) and(larger_num%y==0):\n",
    "            lcm = larger_num\n",
    "            break\n",
    "        larger_num +=1\n",
    "    return ('the lcm is',lcm)\n",
    "print(\"enter the two numbers\")\n",
    "print(lcm(int(input()),int(input())))"
   ]
  },
  {
   "cell_type": "markdown",
   "id": "6f406fb3",
   "metadata": {},
   "source": [
    "# 2. Write a Python Program to Find HCF?"
   ]
  },
  {
   "cell_type": "code",
   "execution_count": 10,
   "id": "5656df48",
   "metadata": {},
   "outputs": [
    {
     "name": "stdout",
     "output_type": "stream",
     "text": [
      "enter the two numbers\n",
      "54\n",
      "24\n",
      "('the hcf is', 6)\n"
     ]
    }
   ],
   "source": [
    "def hcf(x,y):\n",
    "    if x>y:\n",
    "        smlst = y+1\n",
    "    else:\n",
    "        smlst = x+1\n",
    "    for i in range(1,smlst):\n",
    "        if (x%i==0)and(y%i==0):\n",
    "            hcf = i\n",
    "    return 'the hcf is',hcf\n",
    "print(\"enter the two numbers\")\n",
    "print(hcf(int(input()),int(input())))"
   ]
  },
  {
   "cell_type": "markdown",
   "id": "d104eec0",
   "metadata": {},
   "source": [
    "# 3. Write a Python Program to Convert Decimal to Binary, Octal and Hexadecimal?"
   ]
  },
  {
   "cell_type": "code",
   "execution_count": 140,
   "id": "a539a731",
   "metadata": {},
   "outputs": [],
   "source": [
    "class convertion():\n",
    "    def __init__(self):\n",
    "        self.num = int(self.num())\n",
    "        self.menu()\n",
    "    def num(self):\n",
    "        return input(\"enter the num in decimal: \")\n",
    "    def menu(self):\n",
    "        print(\"Press 1 For Decimal to Binary convertion\")\n",
    "        print(\"Press 2 for decimal to octal convertion\")\n",
    "        print(\"Press 3 for decimal to hexadecimal convertion\")\n",
    "        print(\"Press 4 to see decimal to all other convertions\")\n",
    "        print(\"press 5 for exit\")\n",
    "        option = int(input())\n",
    "        if option == 1:\n",
    "            self.DTB()\n",
    "        elif option == 2:\n",
    "            self.DTO()\n",
    "        elif option == 3:\n",
    "            self.DTH()\n",
    "        elif option == 4:\n",
    "            self.DTA()\n",
    "        else:\n",
    "            exit()\n",
    "    def DTB(self):\n",
    "        lis = []\n",
    "        numz = self.num\n",
    "        while numz!=0:\n",
    "            rem = numz%2\n",
    "            numz = numz//2\n",
    "            lis.append(rem)\n",
    "        self.display(lis)\n",
    "    def DTO(self):\n",
    "        lis = []\n",
    "        numz = self.num\n",
    "        while numz!=0:\n",
    "            rem = numz%8\n",
    "            numz = numz//8\n",
    "            lis.append(rem)\n",
    "        self.display(lis)\n",
    "    def DTH(self):\n",
    "        lis = []\n",
    "        numz = self.num\n",
    "        while numz!=0:\n",
    "            rem = numz%16\n",
    "            numz = numz//16\n",
    "            lis.append(rem)\n",
    "        self.display(lis)\n",
    "    def DTA(self):\n",
    "        self.DTB()\n",
    "        print('\\n',\"is binary of given number\")\n",
    "        self.DTO()\n",
    "        print('\\n',\"is octal of given number\")\n",
    "        \n",
    "        \n",
    "        self.DTH()\n",
    "        print('\\n',\"is Hexadecimal of given number\")\n",
    "        self.menu()\n",
    "    def display(self,lis):\n",
    "        self.lis=lis \n",
    "        op = len(self.lis)\n",
    "        for i in range(op-1,-1, -1):\n",
    "            print(self.lis[i],end='')"
   ]
  },
  {
   "cell_type": "code",
   "execution_count": 141,
   "id": "da0e5347",
   "metadata": {},
   "outputs": [
    {
     "name": "stdout",
     "output_type": "stream",
     "text": [
      "enter the num in decimal: 56\n",
      "Press 1 For Decimal to Binary convertion\n",
      "Press 2 for decimal to octal convertion\n",
      "Press 3 for decimal to hexadecimal convertion\n",
      "Press 4 to see decimal to all other convertions\n",
      "press 5 for exit\n",
      "5\n"
     ]
    }
   ],
   "source": [
    "obj = convertion()\n"
   ]
  },
  {
   "cell_type": "markdown",
   "id": "23a66b93",
   "metadata": {},
   "source": [
    "# 4. Write a Python Program To Find ASCII value of a character?\n"
   ]
  },
  {
   "cell_type": "code",
   "execution_count": 4,
   "id": "73377f95",
   "metadata": {},
   "outputs": [
    {
     "name": "stdout",
     "output_type": "stream",
     "text": [
      "enter the characer: r\n",
      "the Ascii value of given char is  114\n"
     ]
    }
   ],
   "source": [
    " print(\"the Ascii value of given char is \",ord(input('enter the characer: ')))"
   ]
  },
  {
   "cell_type": "code",
   "execution_count": 10,
   "id": "4b211674",
   "metadata": {},
   "outputs": [
    {
     "name": "stdout",
     "output_type": "stream",
     "text": [
      "enter the character e\n",
      "101\n"
     ]
    }
   ],
   "source": [
    "def asciii(ch):\n",
    "    try:\n",
    "        print(ord(ch))\n",
    "    except Exception as e:\n",
    "        print(e)\n",
    "asciii(input('enter the character '))"
   ]
  },
  {
   "cell_type": "markdown",
   "id": "71de8f7d",
   "metadata": {},
   "source": [
    "# 5. Write a Python Program to Make a Simple Calculator with 4 basic mathematical operations?"
   ]
  },
  {
   "cell_type": "code",
   "execution_count": 31,
   "id": "65b51987",
   "metadata": {},
   "outputs": [],
   "source": [
    "class calc:\n",
    "    def __init__(self):\n",
    "        self.menu()\n",
    "        \n",
    "    def menu(self):\n",
    "        print(\"\"\"\n",
    "        Press 1 for addition\n",
    "        press 2 for Subtraction\n",
    "        press 3 for multiplication\n",
    "        press 4 for division\n",
    "        press anything for exit\n",
    "        \"\"\")\n",
    "        choice = int(input())\n",
    "        self.take_input()\n",
    "        if choice == 1:\n",
    "            self.add()\n",
    "        elif choice == 2:\n",
    "            self.sub()\n",
    "        elif choice == 3:\n",
    "            self.mul()\n",
    "        elif choice == 4:\n",
    "            self.div()\n",
    "        else:\n",
    "            exit()\n",
    "    def take_input(self):\n",
    "        try:\n",
    "            self.num1 = int(input(\"first num: \"))\n",
    "            self.num2 = int(input(\"Sec num: \"))\n",
    "        except Exception as e:\n",
    "            print(e)  \n",
    "    def add(self):\n",
    "        try:\n",
    "            print(self.num1+self.num2)\n",
    "        except Exception as e:\n",
    "            print(e)\n",
    "    def sub(self):\n",
    "        try:\n",
    "            print(self.num1-self.num2)\n",
    "        except Exception as e:\n",
    "            print(e)\n",
    "    def mul(self):\n",
    "        try:\n",
    "            print(self.num1*self.num2)\n",
    "        except Exception as e:\n",
    "            print(e)\n",
    "    def div(self):\n",
    "        try:\n",
    "            print(self.num1//self.num2)\n",
    "        except Exception as e:\n",
    "            print(e)"
   ]
  },
  {
   "cell_type": "code",
   "execution_count": 32,
   "id": "f31ff6b7",
   "metadata": {},
   "outputs": [
    {
     "name": "stdout",
     "output_type": "stream",
     "text": [
      "\n",
      "        Press 1 for addition\n",
      "        press 2 for Subtraction\n",
      "        press 3 for multiplication\n",
      "        press 4 for division\n",
      "        press anything for exit\n",
      "        \n",
      "1\n",
      "first num: 23e\n",
      "invalid literal for int() with base 10: '23e'\n",
      "'calc' object has no attribute 'num1'\n"
     ]
    }
   ],
   "source": [
    "obj = calc()  # note if we try to add 23xyz it will throw exception\n"
   ]
  },
  {
   "cell_type": "code",
   "execution_count": null,
   "id": "c0c189c1",
   "metadata": {},
   "outputs": [],
   "source": []
  }
 ],
 "metadata": {
  "kernelspec": {
   "display_name": "Python 3",
   "language": "python",
   "name": "python3"
  },
  "language_info": {
   "codemirror_mode": {
    "name": "ipython",
    "version": 3
   },
   "file_extension": ".py",
   "mimetype": "text/x-python",
   "name": "python",
   "nbconvert_exporter": "python",
   "pygments_lexer": "ipython3",
   "version": "3.8.8"
  }
 },
 "nbformat": 4,
 "nbformat_minor": 5
}
