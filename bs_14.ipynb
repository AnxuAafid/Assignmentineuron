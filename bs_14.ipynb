{
 "cells": [
  {
   "cell_type": "markdown",
   "id": "7c6c3412",
   "metadata": {},
   "source": [
    "#### 1. What does RGBA stand for?\n",
    "**Ans:** **RGBA** is a four-channel format containing data for `Red`, `Green`, `Blue`, and an `Alpha` value. Where Alpha Represents the Opacity"
   ]
  },
  {
   "cell_type": "markdown",
   "id": "39e9a315",
   "metadata": {},
   "source": [
    "#### 2. From the Pillow module, how do you get the RGBA value of any images?\n",
    "**Ans:** **`ImageColor.getcolor()`** gives rgba value of any image "
   ]
  },
  {
   "cell_type": "code",
   "execution_count": null,
   "id": "70ba4028",
   "metadata": {},
   "outputs": [],
   "source": [
    "from PIL import Image\n",
    "\n",
    "# Open the image file\n",
    "img = Image.open('image.png')\n",
    "\n",
    "# Get the RGBA values of a pixel at position (x,y)\n",
    "x = 10\n",
    "y = 20\n",
    "r, g, b, a = img.getpixel((x,y))\n",
    "\n",
    "# Print the RGBA values\n",
    "print(f\"RGBA values at ({x},{y}): ({r},{g},{b},{a})\")\n"
   ]
  },
  {
   "cell_type": "markdown",
   "id": "185bf687",
   "metadata": {},
   "source": [
    "#### 3. What is a box tuple, and how does it work?\n",
    "**Ans:** In Python, a \"box tuple\" typically refers to a tuple of four values representing the coordinates of a rectangular box. The four values are usually referred to as left, upper, right, and lower, or x1, y1, x2, and y2.\n",
    "\n",
    "The box tuple is often used in various image processing and computer vision applications to represent a region of interest (ROI) within an image. For example, it might represent the bounding box of an object in an image or a region of an image where a particular feature is present."
   ]
  },
  {
   "cell_type": "code",
   "execution_count": null,
   "id": "90ddb01d",
   "metadata": {},
   "outputs": [],
   "source": [
    "from PIL import Image\n",
    "\n",
    "# Open an image\n",
    "img = Image.open('image.jpg')\n",
    "\n",
    "# Define a box tuple representing a region of interest\n",
    "box = (100, 100, 200, 200)\n",
    "\n",
    "# Crop the image to the specified box\n",
    "cropped_img = img.crop(box)\n",
    "\n",
    "# Save the cropped image\n",
    "cropped_img.save('cropped_image.jpg')"
   ]
  },
  {
   "cell_type": "markdown",
   "id": "2dd0185d",
   "metadata": {},
   "source": [
    "#### 4. Use your image and load in notebook then, How can you find out the width and height of an Image object?"
   ]
  },
  {
   "cell_type": "code",
   "execution_count": 4,
   "id": "1b9e60eb",
   "metadata": {},
   "outputs": [
    {
     "name": "stdout",
     "output_type": "stream",
     "text": [
      "Width, Height -> (287, 70)\n",
      "Width, Height -> 287,70\n",
      "Width, Height -> 287,70\n"
     ]
    }
   ],
   "source": [
    "#Example Program\n",
    "from PIL import Image\n",
    "pic = Image.open('Pic.jpg')\n",
    "print(f'Width, Height -> {pic.size}') # Approach 1\n",
    "print(f'Width, Height -> {pic.width},{pic.height}') # Approach 2\n",
    "width,height = pic.size\n",
    "print(f'Width, Height -> {width},{height}') # Approach 3"
   ]
  },
  {
   "cell_type": "markdown",
   "id": "efc289ab",
   "metadata": {},
   "source": [
    "#### 5. What method would you call to get Image object for a 100×100 image, excluding the lower-left quarter of it?"
   ]
  },
  {
   "cell_type": "code",
   "execution_count": 8,
   "id": "4a82a38a",
   "metadata": {},
   "outputs": [],
   "source": [
    "from PIL import Image\n",
    "img = Image.open('Pic.jpg')\n",
    "new_img = img.crop((0,50,50,50))"
   ]
  },
  {
   "cell_type": "markdown",
   "id": "0ffd911b",
   "metadata": {},
   "source": [
    "#### 6. After making changes to an Image object, how could you save it as an image file?"
   ]
  },
  {
   "cell_type": "code",
   "execution_count": 13,
   "id": "e5939016",
   "metadata": {},
   "outputs": [],
   "source": [
    "#Example Program\n",
    "from PIL import Image\n",
    "pic = Image.open('pic.jpg')\n",
    "pic.save('pic2.jpg')"
   ]
  },
  {
   "cell_type": "markdown",
   "id": "5ad56500",
   "metadata": {},
   "source": [
    "#### 7. What module contains Pillow’s shape-drawing code?\n",
    "**Ans:** Pillow's shape-drawing code is contained in the ImageDraw module.\n",
    "\n",
    "The ImageDraw module provides a way to create image objects and draw shapes, text, and other graphical elements onto them. It is used in conjunction with the Image module from the Pillow library, which provides image processing and manipulation capabilities."
   ]
  },
  {
   "cell_type": "code",
   "execution_count": null,
   "id": "c63d1acd",
   "metadata": {},
   "outputs": [],
   "source": [
    "from PIL import Image, ImageDraw\n",
    "\n",
    "# Create a new image with a black background\n",
    "img = Image.new('RGB', (200, 200), color='black')\n",
    "\n",
    "# Create a new ImageDraw object\n",
    "draw = ImageDraw.Draw(img)\n",
    "\n",
    "# Draw a red rectangle with a 10-pixel border\n",
    "left = 50\n",
    "top = 50\n",
    "right = 150\n",
    "bottom = 150\n",
    "draw.rectangle((left, top, right, bottom), outline='red', width=10)\n",
    "\n",
    "# Save the image\n",
    "img.save('rectangle.png')\n"
   ]
  },
  {
   "cell_type": "markdown",
   "id": "2a09c289",
   "metadata": {},
   "source": [
    "#### 8. Image objects do not have drawing methods. What kind of object does? How do you get this kind of object?\n",
    "**Ans:** ImageDraw objects have shape-drawing methods such as `point()`, `line()`, or `rectangle()`.They are returned by passing the Image object to the `ImageDraw.Draw()` function."
   ]
  }
 ],
 "metadata": {
  "kernelspec": {
   "display_name": "Python 3",
   "language": "python",
   "name": "python3"
  },
  "language_info": {
   "codemirror_mode": {
    "name": "ipython",
    "version": 3
   },
   "file_extension": ".py",
   "mimetype": "text/x-python",
   "name": "python",
   "nbconvert_exporter": "python",
   "pygments_lexer": "ipython3",
   "version": "3.8.8"
  }
 },
 "nbformat": 4,
 "nbformat_minor": 5
}
