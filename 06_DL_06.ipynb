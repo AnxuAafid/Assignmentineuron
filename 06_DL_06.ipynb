{
  "cells": [
    {
      "cell_type": "markdown",
      "id": "4a248256",
      "metadata": {
        "id": "4a248256"
      },
      "source": [
        "#### 1.\tWhat are the advantages of a CNN over a fully connected DNN for image classification?"
      ]
    },
    {
      "cell_type": "markdown",
      "id": "da75f49b",
      "metadata": {
        "id": "da75f49b"
      },
      "source": [
        "CNNs offer several advantages over fully connected DNNs specifically in the domain of image classification. Here are some key advantages:\n",
        "\n",
        "1. Parameter efficiency: CNNs utilize shared weights and biases in their convolutional layers, resulting in a significantly lower number of parameters compared to fully connected DNNs. This parameter efficiency makes CNNs more effective at processing large images and mitigates the risk of overfitting.\n",
        "\n",
        "2. Translation invariance: CNNs are capable of recognizing patterns and features within an image regardless of their spatial location, exhibiting translation invariance. Achieved through convolutional layers that slide filters across the image, CNNs can detect patterns within local regions. This characteristic makes CNNs well-suited for image classification tasks where the target object can appear anywhere in the image.\n",
        "\n",
        "3. Hierarchical feature learning: CNNs leverage multiple layers of feature extraction to learn hierarchical representations of images. By progressively learning high-level concepts, such as object categories, from low-level features like edges and corners, CNNs capture rich spatial relationships. On the other hand, fully connected DNNs treat input features as independent entities, neglecting the spatial context.\n",
        "\n",
        "4. Robustness to input variations: CNNs are inherently designed to be robust to various input variations, including changes in lighting, rotation, and scale. Techniques like pooling are employed to reduce the network's sensitivity to minor input changes, enhancing the model's stability and generalization capabilities.\n",
        "\n",
        "These advantages make CNNs highly effective for image classification tasks, enabling them to learn intricate patterns, handle diverse input variations, and achieve superior performance compared to fully connected DNNs."
      ]
    },
    {
      "cell_type": "markdown",
      "id": "f5c5f184",
      "metadata": {
        "id": "f5c5f184"
      },
      "source": [
        "#### 2.\tConsider a CNN composed of three convolutional layers, each with 3 × 3 kernels, a stride of 2, and \"same\" padding. The lowest layer outputs 100 feature maps, the middle one outputs 200, and the top one outputs 400. The input images are RGB images of 200 × 300 pixels.\n",
        "What is the total number of parameters in the CNN? If we are using 32-bit floats, at least how much RAM will this network require when making a prediction for a single instance? What about when training on a mini-batch of 50 images?"
      ]
    },
    {
      "cell_type": "markdown",
      "id": "d09a9912",
      "metadata": {
        "id": "d09a9912"
      },
      "source": [
        "To calculate the total number of parameters in a CNN, you can sum up the number of parameters in each layer. The number of parameters in a convolutional layer depends on the size of the filters, the number of filters, and the number of input channels. The formula to calculate the number of parameters in a convolutional layer is:\n",
        "\n",
        "Number of parameters = (size of filter * number of input channels + 1) * number of filters\n",
        "\n",
        "By using this formula, you can calculate the number of parameters in each convolutional layer:\n",
        "\n",
        "- The first convolutional layer: (3 * 3 * 3 + 1) * 100 = 2,800 parameters\n",
        "- The second convolutional layer: (3 * 3 * 100 + 1) * 200 = 180,200 parameters\n",
        "- The third convolutional layer: (3 * 3 * 200 + 1) * 400 = 1,160,400 parameters\n",
        "\n",
        "Therefore, the total number of parameters in the CNN is 2,800 + 180,200 + 1,160,400 = 1,343,400 parameters.\n",
        "\n",
        "To estimate the amount of RAM required for prediction or training, you need to consider the size of the input and output tensors and the data type being used. Assuming you are using 32-bit floats (4 bytes), the size of the input tensor for a single image is 200 x 300 x 3 = 180,000 bytes. The size of the output tensor for a single image is (200 / 8) x (300 / 8) x 400 x 4 = 6,000,000 bytes.\n",
        "\n",
        "Therefore, the total RAM required for prediction for a single instance is approximately 6,180,000 bytes (6.18 MB).\n",
        "\n",
        "If you are training on a mini-batch of 50 images, the total RAM required would be 50 times the RAM required for a single instance, which is approximately 309 MB. However, please note that this estimation only considers the memory required for storing the input and output tensors during one forward pass of the network. The actual memory requirements for training depend on various factors such as the batch size, model size, optimizer choice, and other considerations."
      ]
    },
    {
      "cell_type": "markdown",
      "id": "edf7aaa4",
      "metadata": {
        "id": "edf7aaa4"
      },
      "source": [
        "#### 3.\tIf your GPU runs out of memory while training a CNN, what are five things you could try to solve the problem?"
      ]
    },
    {
      "cell_type": "markdown",
      "id": "a5a72b71",
      "metadata": {
        "id": "a5a72b71"
      },
      "source": [
        "If your GPU runs out of memory while training a CNN, here are five strategies you can try to address the issue:\n",
        "\n",
        "1. Decrease batch size: Reducing the batch size is an effective way to decrease memory usage. By processing fewer samples in each iteration, the memory requirements are reduced. However, note that smaller batch sizes may result in slower convergence or less accurate gradients.\n",
        "\n",
        "2. Reduce input size: If the input images are large, downsampling them to a smaller size can help reduce memory usage. This can be achieved by resizing the images or cropping them to a smaller region of interest. Be aware that reducing the input size may impact the model's ability to capture fine details.\n",
        "\n",
        "3. Utilize mixed precision training: Employing mixed precision training involves using 16-bit floating point numbers (half-precision) instead of 32-bit (single-precision) for storing weights and activations. This technique can significantly reduce memory usage while maintaining a comparable level of model accuracy. However, it requires careful handling to ensure numerical stability.\n",
        "\n",
        "4. Reduce model complexity: Simplifying the model architecture can decrease memory requirements. This can be accomplished by reducing the number of layers, filters, or neurons, or using smaller kernel sizes. Keep in mind that reducing model complexity may result in a trade-off with model performance.\n",
        "\n",
        "5. Employ gradient checkpointing: Gradient checkpointing is a method that trades computation time for memory usage. Instead of storing all intermediate activations during the forward pass for backpropagation, only a subset of the activations are stored. This reduces memory consumption but increases the computational cost during the backward pass.\n",
        "\n",
        "Remember that the effectiveness of these strategies depends on the specific model, dataset, and hardware configuration. Experimentation and careful evaluation are necessary to determine the best approach for your particular scenario."
      ]
    },
    {
      "cell_type": "markdown",
      "id": "746cb7cc",
      "metadata": {
        "id": "746cb7cc"
      },
      "source": [
        "#### 4.\tWhy would you want to add a max pooling layer rather than a convolutional layer with the same stride?"
      ]
    },
    {
      "cell_type": "markdown",
      "id": "ca5431ea",
      "metadata": {
        "id": "ca5431ea"
      },
      "source": [
        "Max pooling and convolutional layers with the same stride both lead to a reduction in spatial resolution of feature maps. However, there are specific advantages of using max pooling over convolution:\n",
        "\n",
        "1. Non-linearity: Max pooling introduces non-linearity through the selection of the maximum value within each pooling region. This non-linear activation function allows the network to capture more complex and nonlinear features compared to a convolutional layer with the same stride, which applies a linear transformation to the input.\n",
        "\n",
        "2. Translation invariance: Max pooling exhibits greater translation invariance than convolution with a stride. This property makes the network less sensitive to small shifts in the input image, resulting in improved robustness to slight variations in the data. This can be particularly beneficial in tasks where the object of interest may appear in different locations within the image.\n",
        "\n",
        "3. Computational efficiency: Max pooling is computationally more efficient than convolution with the same stride since it does not involve any learnable parameters. It simply selects the maximum value within each pooling region. As a result, using max pooling can reduce the computational burden and overall complexity of the network.\n",
        "\n",
        "4. Overfitting reduction: Max pooling can help mitigate overfitting by reducing the spatial resolution of the feature maps. By downsampling the feature maps, the network focuses on capturing the most salient and essential features while discarding some spatial information. This can prevent the model from excessively memorizing the training data and improve generalization to unseen examples.\n",
        "\n",
        "While both max pooling and convolutional layers with the same stride reduce spatial resolution, max pooling offers distinct advantages in terms of non-linearity, translation invariance, computational efficiency, and overfitting reduction. The choice between the two will depend on the specific requirements and constraints of the task at hand."
      ]
    },
    {
      "cell_type": "markdown",
      "id": "332cbd41",
      "metadata": {
        "id": "332cbd41"
      },
      "source": [
        "#### 5.\tWhen would you want to add a local response normalization layer?"
      ]
    },
    {
      "cell_type": "markdown",
      "id": "afff17f7",
      "metadata": {
        "id": "afff17f7"
      },
      "source": [
        "Adding a local response normalization (LRN) layer to a convolutional neural network (CNN) can have several benefits in certain scenarios. Here are some situations where it may be advantageous to include an LRN layer:\n",
        "\n",
        "1. Large-scale datasets: LRN is particularly beneficial when working with large-scale datasets. By promoting competition among feature maps, LRN helps the network generalize better and reduces overfitting. This can lead to improved performance and more accurate predictions on large and diverse datasets.\n",
        "\n",
        "2. Convolutional layers with large receptive fields: When a convolutional layer has a large receptive field, there is a higher probability of irrelevant features being activated alongside the target object. LRN can assist in suppressing the responses of irrelevant feature maps, thus enhancing the selectivity and discriminability of the network.\n",
        "\n",
        "3. Networks with multiple convolutional layers: In CNNs with multiple convolutional layers, the addition of an LRN layer can encourage competition among feature maps. This competition can help the network learn more robust and distinctive features, preventing overfitting and improving the generalization capabilities of the model.\n",
        "\n",
        "4. Image classification tasks: LRN has demonstrated significant effectiveness in enhancing CNN performance on image classification tasks. By normalizing neuron responses based on the sum of squares of neighboring activations, LRN encourages more discriminative feature learning. This, in turn, can improve the network's ability to classify images accurately.\n",
        "\n",
        "It is important to note that the effectiveness of LRN can depend on the specific dataset, network architecture, and task at hand. While LRN has shown benefits in certain scenarios, its usage may not always be necessary or provide significant improvements in performance. Therefore, it is recommended to experiment and evaluate the impact of adding an LRN layer based on the specific requirements and characteristics of the problem being addressed."
      ]
    },
    {
      "cell_type": "markdown",
      "id": "4e479268",
      "metadata": {
        "id": "4e479268"
      },
      "source": [
        "#### 6.\tCan you name the main innovations in AlexNet, compared to LeNet-5? What about the main innovations in GoogLeNet, ResNet, SENet, and Xception?"
      ]
    },
    {
      "cell_type": "markdown",
      "id": "0422f024",
      "metadata": {
        "id": "0422f024"
      },
      "source": [
        "Main Innovations with respect to each transfer learning models\n",
        "AlexNet:\n",
        "\n",
        "AlexNet was one of the first successful deep convolutional neural networks for image classification.\n",
        "It had 5 convolutional layers and 3 fully connected layers.\n",
        "AlexNet used Rectified Linear Units (ReLU) activation function instead of the traditional sigmoid activation function used in LeNet-5.\n",
        "It also used data augmentation techniques such as cropping and flipping to reduce overfitting and increase the size of the training dataset.\n",
        "AlexNet used dropout regularization to further reduce overfitting.\n",
        "AlexNet was trained on two GPUs simultaneously, which reduced the training time significantly.\n",
        "GoogLeNet:\n",
        "\n",
        "GoogLeNet introduced the concept of Inception modules, which allowed for the efficient use of multiple filter sizes in a single layer.\n",
        "It had 22 layers and was the first network to exceed human-level performance on the ImageNet classification task.\n",
        "GoogLeNet also used global average pooling instead of fully connected layers, which significantly reduced the number of parameters in the network.\n",
        "It used a 1x1 convolutional layer to reduce the dimensionality of the feature maps before applying more computationally expensive convolutional layers.\n",
        "ResNet:\n",
        "\n",
        "ResNet introduced the concept of residual blocks, which allowed for the training of very deep networks without suffering from the problem of vanishing gradients.\n",
        "It had up to 152 layers and achieved state-of-the-art performance on several computer vision tasks.\n",
        "ResNet used skip connections to connect earlier layers directly to later layers, which helped to propagate gradients more effectively during training.\n",
        "It also used batch normalization to accelerate training and improve generalization.\n",
        "SENet:\n",
        "\n",
        "SENet introduced the concept of Squeeze-and-Excitation (SE) blocks, which allowed the network to adaptively recalibrate the importance of each feature map based on the global context of the image.\n",
        "It achieved state-of-the-art performance on several computer vision tasks.\n",
        "SENet used a global average pooling layer to reduce the dimensionality of the feature maps before applying the SE blocks.\n",
        "It also used residual connections to help propagate gradients more effectively during training.\n",
        "Xception:\n",
        "\n",
        "Xception introduced the concept of depthwise separable convolutions, which separate the spatial filtering and channel-wise filtering operations.\n",
        "It had fewer parameters and was more computationally efficient than other state-of-the-art models while achieving comparable or better performance.\n",
        "Xception used residual connections and batch normalization to accelerate training and improve generalization.\n",
        "It also used global average pooling instead of fully connected layers to reduce the number of parameters in the network."
      ]
    },
    {
      "cell_type": "markdown",
      "id": "f71bd58a",
      "metadata": {
        "id": "f71bd58a"
      },
      "source": [
        "#### 7.\tWhat is a fully convolutional network? How can you convert a dense layer into a convolutional layer?"
      ]
    },
    {
      "cell_type": "markdown",
      "id": "32f57a85",
      "metadata": {
        "id": "32f57a85"
      },
      "source": [
        "To clarify the process of converting a dense layer into a convolutional layer:\n",
        "\n",
        "1. Reshape the weight matrix of the dense layer to have the shape of a convolutional kernel. This involves specifying the kernel size (e.g., 3x3) and adjusting the dimensions to match the desired input and output channels.\n",
        "\n",
        "2. Reshape the output of the preceding convolutional layer or the input to the dense layer to match the shape expected by the dense layer.\n",
        "\n",
        "3. Apply the convolution operation using the reshaped kernel to the reshaped input. This results in an output with the desired shape, equivalent to the original dense layer's output.\n",
        "\n",
        "By converting the dense layer in this manner, it becomes compatible with a fully convolutional network, enabling seamless integration and leveraging the advantages offered by convolutional layers."
      ]
    },
    {
      "cell_type": "markdown",
      "id": "0d16db75",
      "metadata": {
        "id": "0d16db75"
      },
      "source": [
        "#### 8.\tWhat is the main technical difficulty of semantic segmentation?"
      ]
    },
    {
      "cell_type": "markdown",
      "id": "43e60f72",
      "metadata": {
        "id": "43e60f72"
      },
      "source": [
        "Semantic segmentation is indeed a challenging task that requires the network to capture both spatial and semantic information in an image. Here are some techniques used to address these difficulties:\n",
        "\n",
        "1. Encoder-Decoder Architectures: These architectures consist of an encoder network that captures the spatial information and a decoder network that recovers the spatial resolution and refines the segmentation results. This allows the network to learn both local and global context.\n",
        "\n",
        "2. Skip Connections: Skip connections establish direct connections between encoder and decoder layers at different resolutions. These connections enable the network to combine low-level spatial details from early layers with high-level semantic information from later layers, aiding in accurate segmentation.\n",
        "\n",
        "3. Multi-scale Features: Incorporating multi-scale features involves processing the image at multiple resolutions. This allows the network to capture objects of various sizes and contextual information at different scales, enhancing segmentation performance.\n",
        "\n",
        "4. Dilated Convolutions: Dilated convolutions, also known as atrous convolutions, enable the network to have a larger receptive field without increasing the number of parameters or reducing spatial resolution. They capture both local details and global context, beneficial for handling objects of different scales.\n",
        "\n",
        "5. Data Augmentation: Data augmentation techniques, such as random cropping, flipping, rotation, and color perturbations, can help mitigate the effects of limited training data. They introduce diversity into the training set, allowing the network to generalize better and improve performance, particularly for minority classes.\n",
        "\n",
        "These techniques, among others, have contributed to advancements in semantic segmentation and have helped overcome the challenges of accurately classifying each pixel into pre-defined classes, handling class imbalance, and learning spatial and semantic information effectively."
      ]
    },
    {
      "cell_type": "markdown",
      "id": "979e3af2",
      "metadata": {
        "id": "979e3af2"
      },
      "source": [
        "#### 9.\tBuild your own CNN from scratch and try to achieve the highest possible accuracy on MNIST."
      ]
    },
    {
      "cell_type": "code",
      "execution_count": null,
      "id": "e04c6a66",
      "metadata": {
        "id": "e04c6a66"
      },
      "outputs": [],
      "source": []
    },
    {
      "cell_type": "markdown",
      "id": "bd77bd31",
      "metadata": {
        "id": "bd77bd31"
      },
      "source": [
        "#### 10.\tUse transfer learning for large image classification, going through these steps:\n",
        "- a.\tCreate a training set containing at least 100 images per class. For example, you could classify your own pictures based on the location (beach, mountain, city, etc.), or alternatively you can use an existing dataset (e.g., from TensorFlow Datasets).\n",
        "- b.\tSplit it into a training set, a validation set, and a test set.\n",
        "- c.\tBuild the input pipeline, including the appropriate preprocessing operations, and optionally add data augmentation.\n",
        "- d.\tFine-tune a pretrained model on this dataset."
      ]
    },
    {
      "cell_type": "code",
      "execution_count": 1,
      "id": "743683d9",
      "metadata": {
        "id": "743683d9"
      },
      "outputs": [],
      "source": [
        "import tensorflow as tf\n",
        "from tensorflow.keras import layers"
      ]
    },
    {
      "cell_type": "code",
      "source": [
        "# Load the MNIST dataset\n",
        "(x_train, y_train), (x_test, y_test) = tf.keras.datasets.mnist.load_data()"
      ],
      "metadata": {
        "colab": {
          "base_uri": "https://localhost:8080/"
        },
        "id": "imu0hPLhtV69",
        "outputId": "51061391-3751-4263-a0c9-599a9e72b0f8"
      },
      "id": "imu0hPLhtV69",
      "execution_count": 2,
      "outputs": [
        {
          "output_type": "stream",
          "name": "stdout",
          "text": [
            "Downloading data from https://storage.googleapis.com/tensorflow/tf-keras-datasets/mnist.npz\n",
            "11490434/11490434 [==============================] - 0s 0us/step\n"
          ]
        }
      ]
    },
    {
      "cell_type": "code",
      "source": [
        "# Normalize the pixel values to the range [0, 1]\n",
        "x_train = x_train.astype(\"float32\") / 255.0\n",
        "x_test = x_test.astype(\"float32\") / 255.0"
      ],
      "metadata": {
        "id": "Bm0gB2GotZBg"
      },
      "id": "Bm0gB2GotZBg",
      "execution_count": 3,
      "outputs": []
    },
    {
      "cell_type": "code",
      "source": [
        "# Add a channel dimension to the images\n",
        "x_train = x_train[..., tf.newaxis]\n",
        "x_test = x_test[..., tf.newaxis]"
      ],
      "metadata": {
        "id": "R2HUeloNtb-7"
      },
      "id": "R2HUeloNtb-7",
      "execution_count": 4,
      "outputs": []
    },
    {
      "cell_type": "code",
      "source": [
        "# Define the model\n",
        "model = tf.keras.Sequential([\n",
        "    layers.Conv2D(32, 3, activation='relu', input_shape=(28, 28, 1)),\n",
        "    layers.MaxPooling2D(),\n",
        "    layers.Conv2D(64, 3, activation='relu'),\n",
        "    layers.MaxPooling2D(),\n",
        "    layers.Flatten(),\n",
        "    layers.Dense(128, activation='relu'),\n",
        "    layers.Dropout(0.5),\n",
        "    layers.Dense(10)\n",
        "])"
      ],
      "metadata": {
        "id": "x5qzoGe3ter8"
      },
      "id": "x5qzoGe3ter8",
      "execution_count": 5,
      "outputs": []
    },
    {
      "cell_type": "code",
      "source": [
        "model.compile(optimizer='adam',\n",
        "              loss=tf.keras.losses.SparseCategoricalCrossentropy(from_logits=True),\n",
        "              metrics=['accuracy'])\n",
        "history = model.fit(x_train, y_train, epochs=10, validation_data=(x_test, y_test))"
      ],
      "metadata": {
        "colab": {
          "base_uri": "https://localhost:8080/"
        },
        "id": "NLjM6ThHtjSR",
        "outputId": "56bc8f2e-aa5a-4f28-ff86-caf246766cbc"
      },
      "id": "NLjM6ThHtjSR",
      "execution_count": 6,
      "outputs": [
        {
          "output_type": "stream",
          "name": "stdout",
          "text": [
            "Epoch 1/10\n",
            "1875/1875 [==============================] - 27s 6ms/step - loss: 0.2147 - accuracy: 0.9341 - val_loss: 0.0442 - val_accuracy: 0.9848\n",
            "Epoch 2/10\n",
            "1875/1875 [==============================] - 15s 8ms/step - loss: 0.0837 - accuracy: 0.9749 - val_loss: 0.0326 - val_accuracy: 0.9881\n",
            "Epoch 3/10\n",
            "1875/1875 [==============================] - 11s 6ms/step - loss: 0.0626 - accuracy: 0.9818 - val_loss: 0.0295 - val_accuracy: 0.9906\n",
            "Epoch 4/10\n",
            "1875/1875 [==============================] - 9s 5ms/step - loss: 0.0496 - accuracy: 0.9852 - val_loss: 0.0267 - val_accuracy: 0.9911\n",
            "Epoch 5/10\n",
            "1875/1875 [==============================] - 9s 5ms/step - loss: 0.0423 - accuracy: 0.9873 - val_loss: 0.0216 - val_accuracy: 0.9924\n",
            "Epoch 6/10\n",
            "1875/1875 [==============================] - 11s 6ms/step - loss: 0.0338 - accuracy: 0.9894 - val_loss: 0.0239 - val_accuracy: 0.9920\n",
            "Epoch 7/10\n",
            "1875/1875 [==============================] - 10s 5ms/step - loss: 0.0312 - accuracy: 0.9901 - val_loss: 0.0278 - val_accuracy: 0.9914\n",
            "Epoch 8/10\n",
            "1875/1875 [==============================] - 10s 5ms/step - loss: 0.0281 - accuracy: 0.9912 - val_loss: 0.0210 - val_accuracy: 0.9932\n",
            "Epoch 9/10\n",
            "1875/1875 [==============================] - 11s 6ms/step - loss: 0.0247 - accuracy: 0.9923 - val_loss: 0.0223 - val_accuracy: 0.9938\n",
            "Epoch 10/10\n",
            "1875/1875 [==============================] - 9s 5ms/step - loss: 0.0210 - accuracy: 0.9933 - val_loss: 0.0222 - val_accuracy: 0.9936\n"
          ]
        }
      ]
    },
    {
      "cell_type": "code",
      "source": [
        "import matplotlib.pyplot as plt\n",
        "plt.plot(history.history['accuracy'])\n",
        "plt.plot(history.history['val_accuracy'])\n",
        "plt.title('Accuracy Curve')\n",
        "plt.xlabel('Epoch')\n",
        "plt.ylabel('Accuracy')\n",
        "plt.legend(['Train', 'Validation'], loc='upper left')\n",
        "plt.show()\n",
        "\n",
        "# Plot the loss curve\n",
        "plt.plot(history.history['loss'])\n",
        "plt.plot(history.history['val_loss'])\n",
        "plt.title('Loss Curve')\n",
        "plt.xlabel('Epoch')\n",
        "plt.ylabel('Loss')\n",
        "plt.legend(['Train', 'Validation'], loc='upper right')\n",
        "plt.show()"
      ],
      "metadata": {
        "colab": {
          "base_uri": "https://localhost:8080/",
          "height": 927
        },
        "id": "yW5QQxdmtpwV",
        "outputId": "44473462-a55f-421f-a9bf-e9f6b426491f"
      },
      "id": "yW5QQxdmtpwV",
      "execution_count": 7,
      "outputs": [
        {
          "output_type": "display_data",
          "data": {
            "text/plain": [
              "<Figure size 640x480 with 1 Axes>"
            ],
            "image/png": "[encoded data removed]"
          },
          "metadata": {}
        },
        {
          "output_type": "display_data",
          "data": {
            "text/plain": [
              "<Figure size 640x480 with 1 Axes>"
            ],
            "image/png": "[encoded data removed]"
          },
          "metadata": {}
        }
      ]
    },
    {
      "cell_type": "code",
      "source": [
        "predictions = model.predict(x_test)\n",
        "\n",
        "# Evaluate the performance of the model\n",
        "loss, accuracy = model.evaluate(x_test, y_test)\n",
        "\n",
        "# Print the predictions and evaluation results\n",
        "print(\"Predictions:\", predictions)\n",
        "print(\"Loss:\", loss)\n",
        "print(\"Accuracy:\", accuracy)"
      ],
      "metadata": {
        "colab": {
          "base_uri": "https://localhost:8080/"
        },
        "id": "zLI8--bTtxH_",
        "outputId": "c0ecaed9-811f-45d7-c95e-2222d3c2b98d"
      },
      "id": "zLI8--bTtxH_",
      "execution_count": 8,
      "outputs": [
        {
          "output_type": "stream",
          "name": "stdout",
          "text": [
            "313/313 [==============================] - 1s 2ms/step\n",
            "313/313 [==============================] - 1s 3ms/step - loss: 0.0222 - accuracy: 0.9936\n",
            "Predictions: [[-18.091652   -4.49523    -6.4263    ...  18.742897  -16.78285\n",
            "   -5.8894606]\n",
            " [ -6.2801867  -3.7417102  18.606606  ...  -8.809255  -11.62499\n",
            "  -18.965502 ]\n",
            " [-17.42496    14.606454  -12.653875  ...  -2.4274843 -11.477577\n",
            "  -11.180757 ]\n",
            " ...\n",
            " [-23.551903   -6.7249417 -16.379276  ...  -2.5293365  -2.7173645\n",
            "   -4.17648  ]\n",
            " [-13.528423  -16.801504  -26.18615   ... -21.308842    1.4189004\n",
            "   -9.164251 ]\n",
            " [ -5.5974545 -13.11985   -13.3904505 ... -26.226957   -8.468157\n",
            "  -15.827466 ]]\n",
            "Loss: 0.022224878892302513\n",
            "Accuracy: 0.9936000108718872\n"
          ]
        }
      ]
    },
    {
      "cell_type": "code",
      "source": [],
      "metadata": {
        "id": "Zq_87Ujnt0Ap"
      },
      "id": "Zq_87Ujnt0Ap",
      "execution_count": 8,
      "outputs": []
    },
    {
      "cell_type": "markdown",
      "source": [
        "10. Use transfer learning for large image classification, going through these steps:\n",
        "a. Create a training set containing at least 100 images per class. For example, you could classify your own pictures based on the location (beach, mountain, city, etc.), or alternatively you can use an existing dataset (e.g., from TensorFlow Datasets).\n",
        "b. Split it into a training set, a validation set, and a test set.\n",
        "c. Build the input pipeline, including the appropriate preprocessing operations, and optionally add data augmentation.\n",
        "d. Fine-tune a pretrained model on this dataset."
      ],
      "metadata": {
        "id": "vOzBmVrbt7dZ"
      },
      "id": "vOzBmVrbt7dZ"
    },
    {
      "cell_type": "code",
      "source": [
        "import tensorflow_datasets as tfds"
      ],
      "metadata": {
        "id": "SR7jhTN2t50m"
      },
      "id": "SR7jhTN2t50m",
      "execution_count": 9,
      "outputs": []
    },
    {
      "cell_type": "code",
      "source": [
        "(train_ds, val_ds, test_ds), info = tfds.load('cats_vs_dogs',\n",
        "                                             split=['train[:80%]', 'train[80%:90%]', 'train[90%:]'],\n",
        "                                             with_info=True,\n",
        "                                             as_supervised=True)"
      ],
      "metadata": {
        "colab": {
          "base_uri": "https://localhost:8080/",
          "height": 133,
          "referenced_widgets": [
            "f5bb0c7859a446c0a38f04995df5d8b7",
            "40cb6ec934df422b831a5cc2a2537e7c",
            "cb3589262b7944f08f3662fb4a7b1992",
            "10251fb196884e12a99cd9ea1238588d",
            "83be3354e06944ca9b240fb1ef22e96e",
            "ce9e50118302492b90eb30f4205841c9",
            "482d09a6cb2a4198a291addbe3db4d1e",
            "e4d9cbdca18847099ef899c110219d8a",
            "883c544e1bd04cc581f4221b7baa74ef",
            "f23a0a9a57c248dfba7c511c3b455f5c",
            "fecfc20131a94964a207dbcb793a9ed3",
            "d0acf67960274ca798da319ee5c26973",
            "eef2693d30044f8d84f7f30a58932663",
            "78afa680d6f849d59d738ca856711a72",
            "cd72fffa39a7443c9ec5bb13211cd2f4",
            "7519ffd0dff941578afdac078ba11004",
            "b1b7a8eb75b84f829bd164d63e1a8565",
            "61d6373f0c2548b69e8e95aa70b74216",
            "3c24ce4d0ce84d8f83c2208626a21f29",
            "51c9610e923a483785b0e60da7e9c6fb",
            "41e4b88ab0ee435495dbc23bcdb2d78a",
            "8ae53182da4a4d5c95823138d1d3bb1d",
            "1fd431d334a34eacbc18a3156ddff06e",
            "8fc080139e0b44cd9bf87a722fe6f9e5",
            "7c02db26981f4cf2a44b9b6709020c72",
            "a03f9fc582094dd5854c94a9eb047c72",
            "e8fe72ad49ec4fe0be2e17b39e8e64db",
            "11798127f2ce48b589251fbe5eced3e4",
            "aba4a69d901d4bf0bba0236a154f6fb1",
            "8a78a866598842959032e1e2a39856f4",
            "08bdfb814d6344ba8db5cd2a3dd39de9",
            "89ca9c74831742f69837cf211eac3691",
            "29e9827ad3e241d18c4e651be5008776",
            "f538e409387c4a2bac7bd7ff7df27c6e",
            "11327b985a5542d9bcecfe33e2f62061",
            "e7e32650a3c2472db1e33944c73cf488",
            "105b2490286843aaaf9935dafcf870ca",
            "49ce9b13338b44968ceaa27d6db18c3e",
            "fed9dd10e48449f59e38d2ca81341c8f",
            "c2f2077418fb465cae9d0b62918ed7f9",
            "7bc22bb505574d71a6f574715178a9ef",
            "d5dd99d6a6cc4d2ea749eeb22de503c8",
            "b2b94ea3a7834b5e822d718f005be514",
            "e568b5f7957b425e80ddff4123f6df9d",
            "4c2522d1d6ed4950860c284523e47b35",
            "de79cb8bb5774d17af0cfebce9ee95c3",
            "b5b9ae51c36040e4ba99ff52e840c06f",
            "2d1cff7e0e7c4c35a44f8cd8d1923d20",
            "da81591cb817490c8758f7b3c9c8bc3b",
            "daaaf3b5f13e4971b47bd8ffbef1d3aa",
            "1876098de4ae40c895c06d3276a7fb21",
            "cb6d3d432a834305a2e1c7184e0e1901",
            "f1ce6a8e922b436a954607bf08d0ed39",
            "d8f214e39e2f4dcd8a2561d15fea0e98",
            "b060117ccb384a6e953f4ae96126d368"
          ]
        },
        "id": "BhEnJGwSt7C4",
        "outputId": "aa962a70-a505-41f7-d881-6528e6cce530"
      },
      "id": "BhEnJGwSt7C4",
      "execution_count": 10,
      "outputs": [
        {
          "output_type": "stream",
          "name": "stdout",
          "text": [
            "Downloading and preparing dataset 786.68 MiB (download: 786.68 MiB, generated: Unknown size, total: 786.68 MiB) to /root/tensorflow_datasets/cats_vs_dogs/4.0.0...\n"
          ]
        },
        {
          "output_type": "display_data",
          "data": {
            "text/plain": [
              "Dl Completed...: 0 url [00:00, ? url/s]"
            ],
            "application/vnd.jupyter.widget-view+json": {
              "version_major": 2,
              "version_minor": 0,
              "model_id": "f5bb0c7859a446c0a38f04995df5d8b7"
            }
          },
          "metadata": {}
        },
        {
          "output_type": "display_data",
          "data": {
            "text/plain": [
              "Dl Size...: 0 MiB [00:00, ? MiB/s]"
            ],
            "application/vnd.jupyter.widget-view+json": {
              "version_major": 2,
              "version_minor": 0,
              "model_id": "d0acf67960274ca798da319ee5c26973"
            }
          },
          "metadata": {}
        },
        {
          "output_type": "display_data",
          "data": {
            "text/plain": [
              "Generating splits...:   0%|          | 0/1 [00:00<?, ? splits/s]"
            ],
            "application/vnd.jupyter.widget-view+json": {
              "version_major": 2,
              "version_minor": 0,
              "model_id": "1fd431d334a34eacbc18a3156ddff06e"
            }
          },
          "metadata": {}
        },
        {
          "output_type": "display_data",
          "data": {
            "text/plain": [
              "Generating train examples...:   0%|          | 0/23262 [00:00<?, ? examples/s]"
            ],
            "application/vnd.jupyter.widget-view+json": {
              "version_major": 2,
              "version_minor": 0,
              "model_id": "f538e409387c4a2bac7bd7ff7df27c6e"
            }
          },
          "metadata": {}
        },
        {
          "output_type": "stream",
          "name": "stderr",
          "text": [
            "WARNING:absl:1738 images were corrupted and were skipped\n"
          ]
        },
        {
          "output_type": "display_data",
          "data": {
            "text/plain": [
              "Shuffling /root/tensorflow_datasets/cats_vs_dogs/4.0.0.incompleteWC607S/cats_vs_dogs-train.tfrecord*...:   0%|…"
            ],
            "application/vnd.jupyter.widget-view+json": {
              "version_major": 2,
              "version_minor": 0,
              "model_id": "4c2522d1d6ed4950860c284523e47b35"
            }
          },
          "metadata": {}
        },
        {
          "output_type": "stream",
          "name": "stdout",
          "text": [
            "Dataset cats_vs_dogs downloaded and prepared to /root/tensorflow_datasets/cats_vs_dogs/4.0.0. Subsequent calls will reuse this data.\n"
          ]
        }
      ]
    },
    {
      "cell_type": "code",
      "source": [
        "IMG_SIZE = 224\n",
        "BATCH_SIZE = 32\n",
        "\n",
        "def preprocess_image(image, label):\n",
        "    image = tf.image.resize(image, (IMG_SIZE, IMG_SIZE))\n",
        "    image = tf.cast(image, tf.float32) / 255.0\n",
        "    image = tf.image.random_flip_left_right(image)\n",
        "    image = tf.image.random_crop(image, size=(IMG_SIZE, IMG_SIZE, 3))\n",
        "    return image, label\n",
        "\n",
        "train_ds = train_ds.map(preprocess_image).shuffle(1000).batch(BATCH_SIZE)\n",
        "val_ds = val_ds.map(preprocess_image).batch(BATCH_SIZE)\n",
        "test_ds = test_ds.map(preprocess_image).batch(BATCH_SIZE)"
      ],
      "metadata": {
        "id": "3MrpekqTuIqw"
      },
      "id": "3MrpekqTuIqw",
      "execution_count": 11,
      "outputs": []
    },
    {
      "cell_type": "code",
      "source": [
        "from tensorflow.keras.layers import Dense, GlobalAveragePooling2D\n",
        "from tensorflow.keras.models import Model\n",
        "\n"
      ],
      "metadata": {
        "id": "zrpy7fnauNRe"
      },
      "id": "zrpy7fnauNRe",
      "execution_count": 13,
      "outputs": []
    },
    {
      "cell_type": "code",
      "source": [
        "from tensorflow.keras.applications import Xception"
      ],
      "metadata": {
        "id": "G0mqhl0NuWmx"
      },
      "id": "G0mqhl0NuWmx",
      "execution_count": 15,
      "outputs": []
    },
    {
      "cell_type": "code",
      "source": [
        "base_model = Xception(include_top=False, weights='imagenet', input_shape=(IMG_SIZE, IMG_SIZE, 3))\n",
        "\n",
        "for layer in base_model.layers:\n",
        "    layer.trainable = False\n",
        "\n",
        "x = GlobalAveragePooling2D()(base_model.output)\n",
        "x = Dense(2, activation='softmax')(x)\n",
        "\n",
        "model = Model(inputs=base_model.input, outputs=x)\n",
        "\n",
        "model.compile(optimizer='adam', loss='sparse_categorical_crossentropy', metrics=['accuracy'])\n",
        "\n",
        "history = model.fit(train_ds, epochs=5, validation_data=val_ds)"
      ],
      "metadata": {
        "colab": {
          "base_uri": "https://localhost:8080/"
        },
        "id": "6L83L5LpumOL",
        "outputId": "670233b7-c86c-4156-8b5b-9acf08ea38dd"
      },
      "id": "6L83L5LpumOL",
      "execution_count": 16,
      "outputs": [
        {
          "output_type": "stream",
          "name": "stdout",
          "text": [
            "Downloading data from https://storage.googleapis.com/tensorflow/keras-applications/xception/xception_weights_tf_dim_ordering_tf_kernels_notop.h5\n",
            "83683744/83683744 [==============================] - 0s 0us/step\n",
            "Epoch 1/5\n",
            "582/582 [==============================] - 97s 150ms/step - loss: 0.0491 - accuracy: 0.9839 - val_loss: 0.0368 - val_accuracy: 0.9884\n",
            "Epoch 2/5\n",
            "582/582 [==============================] - 92s 155ms/step - loss: 0.0315 - accuracy: 0.9891 - val_loss: 0.0439 - val_accuracy: 0.9854\n",
            "Epoch 3/5\n",
            "582/582 [==============================] - 92s 153ms/step - loss: 0.0289 - accuracy: 0.9898 - val_loss: 0.0396 - val_accuracy: 0.9862\n",
            "Epoch 4/5\n",
            "582/582 [==============================] - 91s 153ms/step - loss: 0.0231 - accuracy: 0.9921 - val_loss: 0.0422 - val_accuracy: 0.9858\n",
            "Epoch 5/5\n",
            "582/582 [==============================] - 91s 153ms/step - loss: 0.0224 - accuracy: 0.9923 - val_loss: 0.0408 - val_accuracy: 0.9880\n"
          ]
        }
      ]
    },
    {
      "cell_type": "code",
      "source": [
        "test_loss, test_acc = model.evaluate(test_ds)\n",
        "print('Test accuracy:', test_acc)"
      ],
      "metadata": {
        "colab": {
          "base_uri": "https://localhost:8080/"
        },
        "id": "zvtONOKUut2_",
        "outputId": "92a64d29-ccb1-4e92-b077-ae8db29923cb"
      },
      "id": "zvtONOKUut2_",
      "execution_count": 17,
      "outputs": [
        {
          "output_type": "stream",
          "name": "stdout",
          "text": [
            "73/73 [==============================] - 10s 129ms/step - loss: 0.0297 - accuracy: 0.9897\n",
            "Test accuracy: 0.9896818399429321\n"
          ]
        }
      ]
    },
    {
      "cell_type": "code",
      "source": [
        "# train test split\n",
        "\n",
        "(train_ds, val_ds, test_ds), info = tfds.load('cats_vs_dogs',\n",
        "                                             split=['train[:80%]', 'train[80%:90%]', 'train[90%:]'],\n",
        "                                             with_info=True,\n",
        "                                             as_supervised=True)"
      ],
      "metadata": {
        "id": "1szBCMftuzjV"
      },
      "id": "1szBCMftuzjV",
      "execution_count": 18,
      "outputs": []
    },
    {
      "cell_type": "markdown",
      "source": [
        "Build the input pipeline, including the appropriate preprocessing operations, and optionally add data augmentation."
      ],
      "metadata": {
        "id": "ohQMLIinvN8a"
      },
      "id": "ohQMLIinvN8a"
    },
    {
      "cell_type": "code",
      "source": [
        "# Define preprocessing functions\n",
        "IMG_SIZE = 224\n",
        "NUM_CLASSES = 2\n",
        "\n",
        "def preprocess_image(image, label):\n",
        "    # Resize the image to the input size of the model\n",
        "    image = tf.image.resize(image, (IMG_SIZE, IMG_SIZE))\n",
        "    # Convert the pixel values to the range [0, 1]\n",
        "    image = tf.cast(image, tf.float32) / 255.0\n",
        "    return image, label\n",
        "\n",
        "def augment_image(image, label):\n",
        "    # Randomly flip the image horizontally\n",
        "    image = tf.image.random_flip_left_right(image)\n",
        "    # Randomly adjust the brightness of the image\n",
        "    image = tf.image.random_brightness(image, max_delta=0.1)\n",
        "    return image, label"
      ],
      "metadata": {
        "id": "S3xA-w7VvGei"
      },
      "id": "S3xA-w7VvGei",
      "execution_count": 19,
      "outputs": []
    },
    {
      "cell_type": "code",
      "source": [
        "# Create the training dataset\n",
        "train_ds = train_ds.shuffle(1000)\n",
        "train_ds = train_ds.map(preprocess_image, num_parallel_calls=tf.data.AUTOTUNE)\n",
        "train_ds = train_ds.map(augment_image, num_parallel_calls=tf.data.AUTOTUNE)\n",
        "train_ds = train_ds.batch(batch_size=32)\n",
        "train_ds = train_ds.prefetch(tf.data.AUTOTUNE)"
      ],
      "metadata": {
        "id": "khEJGUcdvSV3"
      },
      "id": "khEJGUcdvSV3",
      "execution_count": 20,
      "outputs": []
    },
    {
      "cell_type": "code",
      "source": [
        "# Create the validation dataset\n",
        "val_ds = val_ds.map(preprocess_image, num_parallel_calls=tf.data.AUTOTUNE)\n",
        "val_ds = val_ds.batch(batch_size=32)\n",
        "val_ds = val_ds.prefetch(tf.data.AUTOTUNE)"
      ],
      "metadata": {
        "id": "xtziC1xLvWhx"
      },
      "id": "xtziC1xLvWhx",
      "execution_count": 21,
      "outputs": []
    },
    {
      "cell_type": "code",
      "source": [
        "# Create the test dataset\n",
        "test_ds = test_ds.map(preprocess_image, num_parallel_calls=tf.data.AUTOTUNE)\n",
        "test_ds = test_ds.batch(batch_size=32)\n",
        "test_ds = test_ds.prefetch(tf.data.AUTOTUNE)"
      ],
      "metadata": {
        "id": "nSrYdWY1vZvb"
      },
      "id": "nSrYdWY1vZvb",
      "execution_count": 22,
      "outputs": []
    },
    {
      "cell_type": "code",
      "source": [
        "import tensorflow as tf\n",
        "import tensorflow_datasets as tfds\n",
        "from tensorflow.keras.applications import VGG19"
      ],
      "metadata": {
        "id": "OZ1buxsHvdxa"
      },
      "id": "OZ1buxsHvdxa",
      "execution_count": 23,
      "outputs": []
    },
    {
      "cell_type": "code",
      "source": [
        "# Define preprocessing functions\n",
        "IMG_SIZE = 224\n",
        "NUM_CLASSES = 2\n",
        "\n",
        "def preprocess_image(image, label):\n",
        "    # Resize the image to the input size of the model\n",
        "    image = tf.image.resize(image, (IMG_SIZE, IMG_SIZE))\n",
        "    # Convert the pixel values to the range [-1, 1]\n",
        "    image = tf.cast(image, tf.float32) / 127.5 - 1.0\n",
        "    return image, label"
      ],
      "metadata": {
        "id": "WpWLfhVAvi-_"
      },
      "id": "WpWLfhVAvi-_",
      "execution_count": 24,
      "outputs": []
    },
    {
      "cell_type": "code",
      "source": [
        "# Apply preprocessing to the datasets\n",
        "train_ds = train_ds.map(preprocess_image).shuffle(1000).batch(32).prefetch(tf.data.AUTOTUNE)\n",
        "val_ds = val_ds.map(preprocess_image).batch(32).prefetch(tf.data.AUTOTUNE)\n",
        "test_ds = test_ds.map(preprocess_image).batch(32)"
      ],
      "metadata": {
        "id": "dMM37SE_vnwo"
      },
      "id": "dMM37SE_vnwo",
      "execution_count": 25,
      "outputs": []
    },
    {
      "cell_type": "code",
      "source": [
        "base_model = VGG19(input_shape=(IMG_SIZE, IMG_SIZE, 3), include_top=False, weights='imagenet')"
      ],
      "metadata": {
        "colab": {
          "base_uri": "https://localhost:8080/"
        },
        "id": "2PWkUefOvrbh",
        "outputId": "08791955-3ab1-4473-c5de-8a0a047bd577"
      },
      "id": "2PWkUefOvrbh",
      "execution_count": 26,
      "outputs": [
        {
          "output_type": "stream",
          "name": "stdout",
          "text": [
            "Downloading data from https://storage.googleapis.com/tensorflow/keras-applications/vgg19/vgg19_weights_tf_dim_ordering_tf_kernels_notop.h5\n",
            "80134624/80134624 [==============================] - 0s 0us/step\n"
          ]
        }
      ]
    },
    {
      "cell_type": "code",
      "source": [
        "# Freeze the base model's layers\n",
        "for layer in base_model.layers:\n",
        "    layer.trainable = False"
      ],
      "metadata": {
        "id": "e0K0LEsJvvgI"
      },
      "id": "e0K0LEsJvvgI",
      "execution_count": 27,
      "outputs": []
    },
    {
      "cell_type": "code",
      "source": [
        "# Add a new classification layer on top of the base model\n",
        "global_average_layer = tf.keras.layers.GlobalAveragePooling2D()(base_model.output)\n",
        "output_layer = tf.keras.layers.Dense(NUM_CLASSES, activation='softmax')(global_average_layer)"
      ],
      "metadata": {
        "id": "YLNLD7lpv0wI"
      },
      "id": "YLNLD7lpv0wI",
      "execution_count": 28,
      "outputs": []
    },
    {
      "cell_type": "code",
      "source": [
        "# Create the fine-tuned model\n",
        "model = tf.keras.models.Model(inputs=base_model.input, outputs=output_layer)"
      ],
      "metadata": {
        "id": "dbGsh6krv3eb"
      },
      "id": "dbGsh6krv3eb",
      "execution_count": 29,
      "outputs": []
    },
    {
      "cell_type": "code",
      "source": [
        "# Compile the model\n",
        "model.compile(optimizer=tf.keras.optimizers.Adam(), loss='sparse_categorical_crossentropy', metrics=['accuracy'])"
      ],
      "metadata": {
        "id": "aCIbrM0ov5xW"
      },
      "id": "aCIbrM0ov5xW",
      "execution_count": 30,
      "outputs": []
    },
    {
      "cell_type": "code",
      "source": [],
      "metadata": {
        "id": "FDBxyWx8wFiA"
      },
      "id": "FDBxyWx8wFiA",
      "execution_count": null,
      "outputs": []
    }
  ],
  "metadata": {
    "kernelspec": {
      "display_name": "Python 3",
      "name": "python3"
    },
    "language_info": {
      "codemirror_mode": {
        "name": "ipython",
        "version": 3
      },
      "file_extension": ".py",
      "mimetype": "text/x-python",
      "name": "python",
      "nbconvert_exporter": "python",
      "pygments_lexer": "ipython3",
      "version": "3.8.8"
    },
    "colab": {
      "provenance": [],
      "gpuType": "T4"
    },
    "accelerator": "GPU",
    "widgets": {
      "application/vnd.jupyter.widget-state+json": {
        "f5bb0c7859a446c0a38f04995df5d8b7": {
          "model_module": "@jupyter-widgets/controls",
          "model_name": "HBoxModel",
          "model_module_version": "1.5.0",
          "state": {
            "_dom_classes": [],
            "_model_module": "@jupyter-widgets/controls",
            "_model_module_version": "1.5.0",
            "_model_name": "HBoxModel",
            "_view_count": null,
            "_view_module": "@jupyter-widgets/controls",
            "_view_module_version": "1.5.0",
            "_view_name": "HBoxView",
            "box_style": "",
            "children": [
              "IPY_MODEL_40cb6ec934df422b831a5cc2a2537e7c",
              "IPY_MODEL_cb3589262b7944f08f3662fb4a7b1992",
              "IPY_MODEL_10251fb196884e12a99cd9ea1238588d"
            ],
            "layout": "IPY_MODEL_83be3354e06944ca9b240fb1ef22e96e"
          }
        },
        "40cb6ec934df422b831a5cc2a2537e7c": {
          "model_module": "@jupyter-widgets/controls",
          "model_name": "HTMLModel",
          "model_module_version": "1.5.0",
          "state": {
            "_dom_classes": [],
            "_model_module": "@jupyter-widgets/controls",
            "_model_module_version": "1.5.0",
            "_model_name": "HTMLModel",
            "_view_count": null,
            "_view_module": "@jupyter-widgets/controls",
            "_view_module_version": "1.5.0",
            "_view_name": "HTMLView",
            "description": "",
            "description_tooltip": null,
            "layout": "IPY_MODEL_ce9e50118302492b90eb30f4205841c9",
            "placeholder": "​",
            "style": "IPY_MODEL_482d09a6cb2a4198a291addbe3db4d1e",
            "value": "Dl Completed...: 100%"
          }
        },
        "cb3589262b7944f08f3662fb4a7b1992": {
          "model_module": "@jupyter-widgets/controls",
          "model_name": "FloatProgressModel",
          "model_module_version": "1.5.0",
          "state": {
            "_dom_classes": [],
            "_model_module": "@jupyter-widgets/controls",
            "_model_module_version": "1.5.0",
            "_model_name": "FloatProgressModel",
            "_view_count": null,
            "_view_module": "@jupyter-widgets/controls",
            "_view_module_version": "1.5.0",
            "_view_name": "ProgressView",
            "bar_style": "success",
            "description": "",
            "description_tooltip": null,
            "layout": "IPY_MODEL_e4d9cbdca18847099ef899c110219d8a",
            "max": 1,
            "min": 0,
            "orientation": "horizontal",
            "style": "IPY_MODEL_883c544e1bd04cc581f4221b7baa74ef",
            "value": 1
          }
        },
        "10251fb196884e12a99cd9ea1238588d": {
          "model_module": "@jupyter-widgets/controls",
          "model_name": "HTMLModel",
          "model_module_version": "1.5.0",
          "state": {
            "_dom_classes": [],
            "_model_module": "@jupyter-widgets/controls",
            "_model_module_version": "1.5.0",
            "_model_name": "HTMLModel",
            "_view_count": null,
            "_view_module": "@jupyter-widgets/controls",
            "_view_module_version": "1.5.0",
            "_view_name": "HTMLView",
            "description": "",
            "description_tooltip": null,
            "layout": "IPY_MODEL_f23a0a9a57c248dfba7c511c3b455f5c",
            "placeholder": "​",
            "style": "IPY_MODEL_fecfc20131a94964a207dbcb793a9ed3",
            "value": " 1/1 [00:20&lt;00:00, 20.16s/ url]"
          }
        },
        "83be3354e06944ca9b240fb1ef22e96e": {
          "model_module": "@jupyter-widgets/base",
          "model_name": "LayoutModel",
          "model_module_version": "1.2.0",
          "state": {
            "_model_module": "@jupyter-widgets/base",
            "_model_module_version": "1.2.0",
            "_model_name": "LayoutModel",
            "_view_count": null,
            "_view_module": "@jupyter-widgets/base",
            "_view_module_version": "1.2.0",
            "_view_name": "LayoutView",
            "align_content": null,
            "align_items": null,
            "align_self": null,
            "border": null,
            "bottom": null,
            "display": null,
            "flex": null,
            "flex_flow": null,
            "grid_area": null,
            "grid_auto_columns": null,
            "grid_auto_flow": null,
            "grid_auto_rows": null,
            "grid_column": null,
            "grid_gap": null,
            "grid_row": null,
            "grid_template_areas": null,
            "grid_template_columns": null,
            "grid_template_rows": null,
            "height": null,
            "justify_content": null,
            "justify_items": null,
            "left": null,
            "margin": null,
            "max_height": null,
            "max_width": null,
            "min_height": null,
            "min_width": null,
            "object_fit": null,
            "object_position": null,
            "order": null,
            "overflow": null,
            "overflow_x": null,
            "overflow_y": null,
            "padding": null,
            "right": null,
            "top": null,
            "visibility": null,
            "width": null
          }
        },
        "ce9e50118302492b90eb30f4205841c9": {
          "model_module": "@jupyter-widgets/base",
          "model_name": "LayoutModel",
          "model_module_version": "1.2.0",
          "state": {
            "_model_module": "@jupyter-widgets/base",
            "_model_module_version": "1.2.0",
            "_model_name": "LayoutModel",
            "_view_count": null,
            "_view_module": "@jupyter-widgets/base",
            "_view_module_version": "1.2.0",
            "_view_name": "LayoutView",
            "align_content": null,
            "align_items": null,
            "align_self": null,
            "border": null,
            "bottom": null,
            "display": null,
            "flex": null,
            "flex_flow": null,
            "grid_area": null,
            "grid_auto_columns": null,
            "grid_auto_flow": null,
            "grid_auto_rows": null,
            "grid_column": null,
            "grid_gap": null,
            "grid_row": null,
            "grid_template_areas": null,
            "grid_template_columns": null,
            "grid_template_rows": null,
            "height": null,
            "justify_content": null,
            "justify_items": null,
            "left": null,
            "margin": null,
            "max_height": null,
            "max_width": null,
            "min_height": null,
            "min_width": null,
            "object_fit": null,
            "object_position": null,
            "order": null,
            "overflow": null,
            "overflow_x": null,
            "overflow_y": null,
            "padding": null,
            "right": null,
            "top": null,
            "visibility": null,
            "width": null
          }
        },
        "482d09a6cb2a4198a291addbe3db4d1e": {
          "model_module": "@jupyter-widgets/controls",
          "model_name": "DescriptionStyleModel",
          "model_module_version": "1.5.0",
          "state": {
            "_model_module": "@jupyter-widgets/controls",
            "_model_module_version": "1.5.0",
            "_model_name": "DescriptionStyleModel",
            "_view_count": null,
            "_view_module": "@jupyter-widgets/base",
            "_view_module_version": "1.2.0",
            "_view_name": "StyleView",
            "description_width": ""
          }
        },
        "e4d9cbdca18847099ef899c110219d8a": {
          "model_module": "@jupyter-widgets/base",
          "model_name": "LayoutModel",
          "model_module_version": "1.2.0",
          "state": {
            "_model_module": "@jupyter-widgets/base",
            "_model_module_version": "1.2.0",
            "_model_name": "LayoutModel",
            "_view_count": null,
            "_view_module": "@jupyter-widgets/base",
            "_view_module_version": "1.2.0",
            "_view_name": "LayoutView",
            "align_content": null,
            "align_items": null,
            "align_self": null,
            "border": null,
            "bottom": null,
            "display": null,
            "flex": null,
            "flex_flow": null,
            "grid_area": null,
            "grid_auto_columns": null,
            "grid_auto_flow": null,
            "grid_auto_rows": null,
            "grid_column": null,
            "grid_gap": null,
            "grid_row": null,
            "grid_template_areas": null,
            "grid_template_columns": null,
            "grid_template_rows": null,
            "height": null,
            "justify_content": null,
            "justify_items": null,
            "left": null,
            "margin": null,
            "max_height": null,
            "max_width": null,
            "min_height": null,
            "min_width": null,
            "object_fit": null,
            "object_position": null,
            "order": null,
            "overflow": null,
            "overflow_x": null,
            "overflow_y": null,
            "padding": null,
            "right": null,
            "top": null,
            "visibility": null,
            "width": "20px"
          }
        },
        "883c544e1bd04cc581f4221b7baa74ef": {
          "model_module": "@jupyter-widgets/controls",
          "model_name": "ProgressStyleModel",
          "model_module_version": "1.5.0",
          "state": {
            "_model_module": "@jupyter-widgets/controls",
            "_model_module_version": "1.5.0",
            "_model_name": "ProgressStyleModel",
            "_view_count": null,
            "_view_module": "@jupyter-widgets/base",
            "_view_module_version": "1.2.0",
            "_view_name": "StyleView",
            "bar_color": null,
            "description_width": ""
          }
        },
        "f23a0a9a57c248dfba7c511c3b455f5c": {
          "model_module": "@jupyter-widgets/base",
          "model_name": "LayoutModel",
          "model_module_version": "1.2.0",
          "state": {
            "_model_module": "@jupyter-widgets/base",
            "_model_module_version": "1.2.0",
            "_model_name": "LayoutModel",
            "_view_count": null,
            "_view_module": "@jupyter-widgets/base",
            "_view_module_version": "1.2.0",
            "_view_name": "LayoutView",
            "align_content": null,
            "align_items": null,
            "align_self": null,
            "border": null,
            "bottom": null,
            "display": null,
            "flex": null,
            "flex_flow": null,
            "grid_area": null,
            "grid_auto_columns": null,
            "grid_auto_flow": null,
            "grid_auto_rows": null,
            "grid_column": null,
            "grid_gap": null,
            "grid_row": null,
            "grid_template_areas": null,
            "grid_template_columns": null,
            "grid_template_rows": null,
            "height": null,
            "justify_content": null,
            "justify_items": null,
            "left": null,
            "margin": null,
            "max_height": null,
            "max_width": null,
            "min_height": null,
            "min_width": null,
            "object_fit": null,
            "object_position": null,
            "order": null,
            "overflow": null,
            "overflow_x": null,
            "overflow_y": null,
            "padding": null,
            "right": null,
            "top": null,
            "visibility": null,
            "width": null
          }
        },
        "fecfc20131a94964a207dbcb793a9ed3": {
          "model_module": "@jupyter-widgets/controls",
          "model_name": "DescriptionStyleModel",
          "model_module_version": "1.5.0",
          "state": {
            "_model_module": "@jupyter-widgets/controls",
            "_model_module_version": "1.5.0",
            "_model_name": "DescriptionStyleModel",
            "_view_count": null,
            "_view_module": "@jupyter-widgets/base",
            "_view_module_version": "1.2.0",
            "_view_name": "StyleView",
            "description_width": ""
          }
        },
        "d0acf67960274ca798da319ee5c26973": {
          "model_module": "@jupyter-widgets/controls",
          "model_name": "HBoxModel",
          "model_module_version": "1.5.0",
          "state": {
            "_dom_classes": [],
            "_model_module": "@jupyter-widgets/controls",
            "_model_module_version": "1.5.0",
            "_model_name": "HBoxModel",
            "_view_count": null,
            "_view_module": "@jupyter-widgets/controls",
            "_view_module_version": "1.5.0",
            "_view_name": "HBoxView",
            "box_style": "",
            "children": [
              "IPY_MODEL_eef2693d30044f8d84f7f30a58932663",
              "IPY_MODEL_78afa680d6f849d59d738ca856711a72",
              "IPY_MODEL_cd72fffa39a7443c9ec5bb13211cd2f4"
            ],
            "layout": "IPY_MODEL_7519ffd0dff941578afdac078ba11004"
          }
        },
        "eef2693d30044f8d84f7f30a58932663": {
          "model_module": "@jupyter-widgets/controls",
          "model_name": "HTMLModel",
          "model_module_version": "1.5.0",
          "state": {
            "_dom_classes": [],
            "_model_module": "@jupyter-widgets/controls",
            "_model_module_version": "1.5.0",
            "_model_name": "HTMLModel",
            "_view_count": null,
            "_view_module": "@jupyter-widgets/controls",
            "_view_module_version": "1.5.0",
            "_view_name": "HTMLView",
            "description": "",
            "description_tooltip": null,
            "layout": "IPY_MODEL_b1b7a8eb75b84f829bd164d63e1a8565",
            "placeholder": "​",
            "style": "IPY_MODEL_61d6373f0c2548b69e8e95aa70b74216",
            "value": "Dl Size...: 100%"
          }
        },
        "78afa680d6f849d59d738ca856711a72": {
          "model_module": "@jupyter-widgets/controls",
          "model_name": "FloatProgressModel",
          "model_module_version": "1.5.0",
          "state": {
            "_dom_classes": [],
            "_model_module": "@jupyter-widgets/controls",
            "_model_module_version": "1.5.0",
            "_model_name": "FloatProgressModel",
            "_view_count": null,
            "_view_module": "@jupyter-widgets/controls",
            "_view_module_version": "1.5.0",
            "_view_name": "ProgressView",
            "bar_style": "success",
            "description": "",
            "description_tooltip": null,
            "layout": "IPY_MODEL_3c24ce4d0ce84d8f83c2208626a21f29",
            "max": 1,
            "min": 0,
            "orientation": "horizontal",
            "style": "IPY_MODEL_51c9610e923a483785b0e60da7e9c6fb",
            "value": 1
          }
        },
        "cd72fffa39a7443c9ec5bb13211cd2f4": {
          "model_module": "@jupyter-widgets/controls",
          "model_name": "HTMLModel",
          "model_module_version": "1.5.0",
          "state": {
            "_dom_classes": [],
            "_model_module": "@jupyter-widgets/controls",
            "_model_module_version": "1.5.0",
            "_model_name": "HTMLModel",
            "_view_count": null,
            "_view_module": "@jupyter-widgets/controls",
            "_view_module_version": "1.5.0",
            "_view_name": "HTMLView",
            "description": "",
            "description_tooltip": null,
            "layout": "IPY_MODEL_41e4b88ab0ee435495dbc23bcdb2d78a",
            "placeholder": "​",
            "style": "IPY_MODEL_8ae53182da4a4d5c95823138d1d3bb1d",
            "value": " 786/786 [00:20&lt;00:00, 27.62 MiB/s]"
          }
        },
        "7519ffd0dff941578afdac078ba11004": {
          "model_module": "@jupyter-widgets/base",
          "model_name": "LayoutModel",
          "model_module_version": "1.2.0",
          "state": {
            "_model_module": "@jupyter-widgets/base",
            "_model_module_version": "1.2.0",
            "_model_name": "LayoutModel",
            "_view_count": null,
            "_view_module": "@jupyter-widgets/base",
            "_view_module_version": "1.2.0",
            "_view_name": "LayoutView",
            "align_content": null,
            "align_items": null,
            "align_self": null,
            "border": null,
            "bottom": null,
            "display": null,
            "flex": null,
            "flex_flow": null,
            "grid_area": null,
            "grid_auto_columns": null,
            "grid_auto_flow": null,
            "grid_auto_rows": null,
            "grid_column": null,
            "grid_gap": null,
            "grid_row": null,
            "grid_template_areas": null,
            "grid_template_columns": null,
            "grid_template_rows": null,
            "height": null,
            "justify_content": null,
            "justify_items": null,
            "left": null,
            "margin": null,
            "max_height": null,
            "max_width": null,
            "min_height": null,
            "min_width": null,
            "object_fit": null,
            "object_position": null,
            "order": null,
            "overflow": null,
            "overflow_x": null,
            "overflow_y": null,
            "padding": null,
            "right": null,
            "top": null,
            "visibility": null,
            "width": null
          }
        },
        "b1b7a8eb75b84f829bd164d63e1a8565": {
          "model_module": "@jupyter-widgets/base",
          "model_name": "LayoutModel",
          "model_module_version": "1.2.0",
          "state": {
            "_model_module": "@jupyter-widgets/base",
            "_model_module_version": "1.2.0",
            "_model_name": "LayoutModel",
            "_view_count": null,
            "_view_module": "@jupyter-widgets/base",
            "_view_module_version": "1.2.0",
            "_view_name": "LayoutView",
            "align_content": null,
            "align_items": null,
            "align_self": null,
            "border": null,
            "bottom": null,
            "display": null,
            "flex": null,
            "flex_flow": null,
            "grid_area": null,
            "grid_auto_columns": null,
            "grid_auto_flow": null,
            "grid_auto_rows": null,
            "grid_column": null,
            "grid_gap": null,
            "grid_row": null,
            "grid_template_areas": null,
            "grid_template_columns": null,
            "grid_template_rows": null,
            "height": null,
            "justify_content": null,
            "justify_items": null,
            "left": null,
            "margin": null,
            "max_height": null,
            "max_width": null,
            "min_height": null,
            "min_width": null,
            "object_fit": null,
            "object_position": null,
            "order": null,
            "overflow": null,
            "overflow_x": null,
            "overflow_y": null,
            "padding": null,
            "right": null,
            "top": null,
            "visibility": null,
            "width": null
          }
        },
        "61d6373f0c2548b69e8e95aa70b74216": {
          "model_module": "@jupyter-widgets/controls",
          "model_name": "DescriptionStyleModel",
          "model_module_version": "1.5.0",
          "state": {
            "_model_module": "@jupyter-widgets/controls",
            "_model_module_version": "1.5.0",
            "_model_name": "DescriptionStyleModel",
            "_view_count": null,
            "_view_module": "@jupyter-widgets/base",
            "_view_module_version": "1.2.0",
            "_view_name": "StyleView",
            "description_width": ""
          }
        },
        "3c24ce4d0ce84d8f83c2208626a21f29": {
          "model_module": "@jupyter-widgets/base",
          "model_name": "LayoutModel",
          "model_module_version": "1.2.0",
          "state": {
            "_model_module": "@jupyter-widgets/base",
            "_model_module_version": "1.2.0",
            "_model_name": "LayoutModel",
            "_view_count": null,
            "_view_module": "@jupyter-widgets/base",
            "_view_module_version": "1.2.0",
            "_view_name": "LayoutView",
            "align_content": null,
            "align_items": null,
            "align_self": null,
            "border": null,
            "bottom": null,
            "display": null,
            "flex": null,
            "flex_flow": null,
            "grid_area": null,
            "grid_auto_columns": null,
            "grid_auto_flow": null,
            "grid_auto_rows": null,
            "grid_column": null,
            "grid_gap": null,
            "grid_row": null,
            "grid_template_areas": null,
            "grid_template_columns": null,
            "grid_template_rows": null,
            "height": null,
            "justify_content": null,
            "justify_items": null,
            "left": null,
            "margin": null,
            "max_height": null,
            "max_width": null,
            "min_height": null,
            "min_width": null,
            "object_fit": null,
            "object_position": null,
            "order": null,
            "overflow": null,
            "overflow_x": null,
            "overflow_y": null,
            "padding": null,
            "right": null,
            "top": null,
            "visibility": null,
            "width": "20px"
          }
        },
        "51c9610e923a483785b0e60da7e9c6fb": {
          "model_module": "@jupyter-widgets/controls",
          "model_name": "ProgressStyleModel",
          "model_module_version": "1.5.0",
          "state": {
            "_model_module": "@jupyter-widgets/controls",
            "_model_module_version": "1.5.0",
            "_model_name": "ProgressStyleModel",
            "_view_count": null,
            "_view_module": "@jupyter-widgets/base",
            "_view_module_version": "1.2.0",
            "_view_name": "StyleView",
            "bar_color": null,
            "description_width": ""
          }
        },
        "41e4b88ab0ee435495dbc23bcdb2d78a": {
          "model_module": "@jupyter-widgets/base",
          "model_name": "LayoutModel",
          "model_module_version": "1.2.0",
          "state": {
            "_model_module": "@jupyter-widgets/base",
            "_model_module_version": "1.2.0",
            "_model_name": "LayoutModel",
            "_view_count": null,
            "_view_module": "@jupyter-widgets/base",
            "_view_module_version": "1.2.0",
            "_view_name": "LayoutView",
            "align_content": null,
            "align_items": null,
            "align_self": null,
            "border": null,
            "bottom": null,
            "display": null,
            "flex": null,
            "flex_flow": null,
            "grid_area": null,
            "grid_auto_columns": null,
            "grid_auto_flow": null,
            "grid_auto_rows": null,
            "grid_column": null,
            "grid_gap": null,
            "grid_row": null,
            "grid_template_areas": null,
            "grid_template_columns": null,
            "grid_template_rows": null,
            "height": null,
            "justify_content": null,
            "justify_items": null,
            "left": null,
            "margin": null,
            "max_height": null,
            "max_width": null,
            "min_height": null,
            "min_width": null,
            "object_fit": null,
            "object_position": null,
            "order": null,
            "overflow": null,
            "overflow_x": null,
            "overflow_y": null,
            "padding": null,
            "right": null,
            "top": null,
            "visibility": null,
            "width": null
          }
        },
        "8ae53182da4a4d5c95823138d1d3bb1d": {
          "model_module": "@jupyter-widgets/controls",
          "model_name": "DescriptionStyleModel",
          "model_module_version": "1.5.0",
          "state": {
            "_model_module": "@jupyter-widgets/controls",
            "_model_module_version": "1.5.0",
            "_model_name": "DescriptionStyleModel",
            "_view_count": null,
            "_view_module": "@jupyter-widgets/base",
            "_view_module_version": "1.2.0",
            "_view_name": "StyleView",
            "description_width": ""
          }
        },
        "1fd431d334a34eacbc18a3156ddff06e": {
          "model_module": "@jupyter-widgets/controls",
          "model_name": "HBoxModel",
          "model_module_version": "1.5.0",
          "state": {
            "_dom_classes": [],
            "_model_module": "@jupyter-widgets/controls",
            "_model_module_version": "1.5.0",
            "_model_name": "HBoxModel",
            "_view_count": null,
            "_view_module": "@jupyter-widgets/controls",
            "_view_module_version": "1.5.0",
            "_view_name": "HBoxView",
            "box_style": "",
            "children": [
              "IPY_MODEL_8fc080139e0b44cd9bf87a722fe6f9e5",
              "IPY_MODEL_7c02db26981f4cf2a44b9b6709020c72",
              "IPY_MODEL_a03f9fc582094dd5854c94a9eb047c72"
            ],
            "layout": "IPY_MODEL_e8fe72ad49ec4fe0be2e17b39e8e64db"
          }
        },
        "8fc080139e0b44cd9bf87a722fe6f9e5": {
          "model_module": "@jupyter-widgets/controls",
          "model_name": "HTMLModel",
          "model_module_version": "1.5.0",
          "state": {
            "_dom_classes": [],
            "_model_module": "@jupyter-widgets/controls",
            "_model_module_version": "1.5.0",
            "_model_name": "HTMLModel",
            "_view_count": null,
            "_view_module": "@jupyter-widgets/controls",
            "_view_module_version": "1.5.0",
            "_view_name": "HTMLView",
            "description": "",
            "description_tooltip": null,
            "layout": "IPY_MODEL_11798127f2ce48b589251fbe5eced3e4",
            "placeholder": "​",
            "style": "IPY_MODEL_aba4a69d901d4bf0bba0236a154f6fb1",
            "value": "Generating splits...: 100%"
          }
        },
        "7c02db26981f4cf2a44b9b6709020c72": {
          "model_module": "@jupyter-widgets/controls",
          "model_name": "FloatProgressModel",
          "model_module_version": "1.5.0",
          "state": {
            "_dom_classes": [],
            "_model_module": "@jupyter-widgets/controls",
            "_model_module_version": "1.5.0",
            "_model_name": "FloatProgressModel",
            "_view_count": null,
            "_view_module": "@jupyter-widgets/controls",
            "_view_module_version": "1.5.0",
            "_view_name": "ProgressView",
            "bar_style": "",
            "description": "",
            "description_tooltip": null,
            "layout": "IPY_MODEL_8a78a866598842959032e1e2a39856f4",
            "max": 1,
            "min": 0,
            "orientation": "horizontal",
            "style": "IPY_MODEL_08bdfb814d6344ba8db5cd2a3dd39de9",
            "value": 1
          }
        },
        "a03f9fc582094dd5854c94a9eb047c72": {
          "model_module": "@jupyter-widgets/controls",
          "model_name": "HTMLModel",
          "model_module_version": "1.5.0",
          "state": {
            "_dom_classes": [],
            "_model_module": "@jupyter-widgets/controls",
            "_model_module_version": "1.5.0",
            "_model_name": "HTMLModel",
            "_view_count": null,
            "_view_module": "@jupyter-widgets/controls",
            "_view_module_version": "1.5.0",
            "_view_name": "HTMLView",
            "description": "",
            "description_tooltip": null,
            "layout": "IPY_MODEL_89ca9c74831742f69837cf211eac3691",
            "placeholder": "​",
            "style": "IPY_MODEL_29e9827ad3e241d18c4e651be5008776",
            "value": " 1/1 [00:15&lt;00:00, 15.91s/ splits]"
          }
        },
        "e8fe72ad49ec4fe0be2e17b39e8e64db": {
          "model_module": "@jupyter-widgets/base",
          "model_name": "LayoutModel",
          "model_module_version": "1.2.0",
          "state": {
            "_model_module": "@jupyter-widgets/base",
            "_model_module_version": "1.2.0",
            "_model_name": "LayoutModel",
            "_view_count": null,
            "_view_module": "@jupyter-widgets/base",
            "_view_module_version": "1.2.0",
            "_view_name": "LayoutView",
            "align_content": null,
            "align_items": null,
            "align_self": null,
            "border": null,
            "bottom": null,
            "display": null,
            "flex": null,
            "flex_flow": null,
            "grid_area": null,
            "grid_auto_columns": null,
            "grid_auto_flow": null,
            "grid_auto_rows": null,
            "grid_column": null,
            "grid_gap": null,
            "grid_row": null,
            "grid_template_areas": null,
            "grid_template_columns": null,
            "grid_template_rows": null,
            "height": null,
            "justify_content": null,
            "justify_items": null,
            "left": null,
            "margin": null,
            "max_height": null,
            "max_width": null,
            "min_height": null,
            "min_width": null,
            "object_fit": null,
            "object_position": null,
            "order": null,
            "overflow": null,
            "overflow_x": null,
            "overflow_y": null,
            "padding": null,
            "right": null,
            "top": null,
            "visibility": "hidden",
            "width": null
          }
        },
        "11798127f2ce48b589251fbe5eced3e4": {
          "model_module": "@jupyter-widgets/base",
          "model_name": "LayoutModel",
          "model_module_version": "1.2.0",
          "state": {
            "_model_module": "@jupyter-widgets/base",
            "_model_module_version": "1.2.0",
            "_model_name": "LayoutModel",
            "_view_count": null,
            "_view_module": "@jupyter-widgets/base",
            "_view_module_version": "1.2.0",
            "_view_name": "LayoutView",
            "align_content": null,
            "align_items": null,
            "align_self": null,
            "border": null,
            "bottom": null,
            "display": null,
            "flex": null,
            "flex_flow": null,
            "grid_area": null,
            "grid_auto_columns": null,
            "grid_auto_flow": null,
            "grid_auto_rows": null,
            "grid_column": null,
            "grid_gap": null,
            "grid_row": null,
            "grid_template_areas": null,
            "grid_template_columns": null,
            "grid_template_rows": null,
            "height": null,
            "justify_content": null,
            "justify_items": null,
            "left": null,
            "margin": null,
            "max_height": null,
            "max_width": null,
            "min_height": null,
            "min_width": null,
            "object_fit": null,
            "object_position": null,
            "order": null,
            "overflow": null,
            "overflow_x": null,
            "overflow_y": null,
            "padding": null,
            "right": null,
            "top": null,
            "visibility": null,
            "width": null
          }
        },
        "aba4a69d901d4bf0bba0236a154f6fb1": {
          "model_module": "@jupyter-widgets/controls",
          "model_name": "DescriptionStyleModel",
          "model_module_version": "1.5.0",
          "state": {
            "_model_module": "@jupyter-widgets/controls",
            "_model_module_version": "1.5.0",
            "_model_name": "DescriptionStyleModel",
            "_view_count": null,
            "_view_module": "@jupyter-widgets/base",
            "_view_module_version": "1.2.0",
            "_view_name": "StyleView",
            "description_width": ""
          }
        },
        "8a78a866598842959032e1e2a39856f4": {
          "model_module": "@jupyter-widgets/base",
          "model_name": "LayoutModel",
          "model_module_version": "1.2.0",
          "state": {
            "_model_module": "@jupyter-widgets/base",
            "_model_module_version": "1.2.0",
            "_model_name": "LayoutModel",
            "_view_count": null,
            "_view_module": "@jupyter-widgets/base",
            "_view_module_version": "1.2.0",
            "_view_name": "LayoutView",
            "align_content": null,
            "align_items": null,
            "align_self": null,
            "border": null,
            "bottom": null,
            "display": null,
            "flex": null,
            "flex_flow": null,
            "grid_area": null,
            "grid_auto_columns": null,
            "grid_auto_flow": null,
            "grid_auto_rows": null,
            "grid_column": null,
            "grid_gap": null,
            "grid_row": null,
            "grid_template_areas": null,
            "grid_template_columns": null,
            "grid_template_rows": null,
            "height": null,
            "justify_content": null,
            "justify_items": null,
            "left": null,
            "margin": null,
            "max_height": null,
            "max_width": null,
            "min_height": null,
            "min_width": null,
            "object_fit": null,
            "object_position": null,
            "order": null,
            "overflow": null,
            "overflow_x": null,
            "overflow_y": null,
            "padding": null,
            "right": null,
            "top": null,
            "visibility": null,
            "width": null
          }
        },
        "08bdfb814d6344ba8db5cd2a3dd39de9": {
          "model_module": "@jupyter-widgets/controls",
          "model_name": "ProgressStyleModel",
          "model_module_version": "1.5.0",
          "state": {
            "_model_module": "@jupyter-widgets/controls",
            "_model_module_version": "1.5.0",
            "_model_name": "ProgressStyleModel",
            "_view_count": null,
            "_view_module": "@jupyter-widgets/base",
            "_view_module_version": "1.2.0",
            "_view_name": "StyleView",
            "bar_color": null,
            "description_width": ""
          }
        },
        "89ca9c74831742f69837cf211eac3691": {
          "model_module": "@jupyter-widgets/base",
          "model_name": "LayoutModel",
          "model_module_version": "1.2.0",
          "state": {
            "_model_module": "@jupyter-widgets/base",
            "_model_module_version": "1.2.0",
            "_model_name": "LayoutModel",
            "_view_count": null,
            "_view_module": "@jupyter-widgets/base",
            "_view_module_version": "1.2.0",
            "_view_name": "LayoutView",
            "align_content": null,
            "align_items": null,
            "align_self": null,
            "border": null,
            "bottom": null,
            "display": null,
            "flex": null,
            "flex_flow": null,
            "grid_area": null,
            "grid_auto_columns": null,
            "grid_auto_flow": null,
            "grid_auto_rows": null,
            "grid_column": null,
            "grid_gap": null,
            "grid_row": null,
            "grid_template_areas": null,
            "grid_template_columns": null,
            "grid_template_rows": null,
            "height": null,
            "justify_content": null,
            "justify_items": null,
            "left": null,
            "margin": null,
            "max_height": null,
            "max_width": null,
            "min_height": null,
            "min_width": null,
            "object_fit": null,
            "object_position": null,
            "order": null,
            "overflow": null,
            "overflow_x": null,
            "overflow_y": null,
            "padding": null,
            "right": null,
            "top": null,
            "visibility": null,
            "width": null
          }
        },
        "29e9827ad3e241d18c4e651be5008776": {
          "model_module": "@jupyter-widgets/controls",
          "model_name": "DescriptionStyleModel",
          "model_module_version": "1.5.0",
          "state": {
            "_model_module": "@jupyter-widgets/controls",
            "_model_module_version": "1.5.0",
            "_model_name": "DescriptionStyleModel",
            "_view_count": null,
            "_view_module": "@jupyter-widgets/base",
            "_view_module_version": "1.2.0",
            "_view_name": "StyleView",
            "description_width": ""
          }
        },
        "f538e409387c4a2bac7bd7ff7df27c6e": {
          "model_module": "@jupyter-widgets/controls",
          "model_name": "HBoxModel",
          "model_module_version": "1.5.0",
          "state": {
            "_dom_classes": [],
            "_model_module": "@jupyter-widgets/controls",
            "_model_module_version": "1.5.0",
            "_model_name": "HBoxModel",
            "_view_count": null,
            "_view_module": "@jupyter-widgets/controls",
            "_view_module_version": "1.5.0",
            "_view_name": "HBoxView",
            "box_style": "",
            "children": [
              "IPY_MODEL_11327b985a5542d9bcecfe33e2f62061",
              "IPY_MODEL_e7e32650a3c2472db1e33944c73cf488",
              "IPY_MODEL_105b2490286843aaaf9935dafcf870ca"
            ],
            "layout": "IPY_MODEL_49ce9b13338b44968ceaa27d6db18c3e"
          }
        },
        "11327b985a5542d9bcecfe33e2f62061": {
          "model_module": "@jupyter-widgets/controls",
          "model_name": "HTMLModel",
          "model_module_version": "1.5.0",
          "state": {
            "_dom_classes": [],
            "_model_module": "@jupyter-widgets/controls",
            "_model_module_version": "1.5.0",
            "_model_name": "HTMLModel",
            "_view_count": null,
            "_view_module": "@jupyter-widgets/controls",
            "_view_module_version": "1.5.0",
            "_view_name": "HTMLView",
            "description": "",
            "description_tooltip": null,
            "layout": "IPY_MODEL_fed9dd10e48449f59e38d2ca81341c8f",
            "placeholder": "​",
            "style": "IPY_MODEL_c2f2077418fb465cae9d0b62918ed7f9",
            "value": "Generating train examples...:  99%"
          }
        },
        "e7e32650a3c2472db1e33944c73cf488": {
          "model_module": "@jupyter-widgets/controls",
          "model_name": "FloatProgressModel",
          "model_module_version": "1.5.0",
          "state": {
            "_dom_classes": [],
            "_model_module": "@jupyter-widgets/controls",
            "_model_module_version": "1.5.0",
            "_model_name": "FloatProgressModel",
            "_view_count": null,
            "_view_module": "@jupyter-widgets/controls",
            "_view_module_version": "1.5.0",
            "_view_name": "ProgressView",
            "bar_style": "",
            "description": "",
            "description_tooltip": null,
            "layout": "IPY_MODEL_7bc22bb505574d71a6f574715178a9ef",
            "max": 23262,
            "min": 0,
            "orientation": "horizontal",
            "style": "IPY_MODEL_d5dd99d6a6cc4d2ea749eeb22de503c8",
            "value": 23262
          }
        },
        "105b2490286843aaaf9935dafcf870ca": {
          "model_module": "@jupyter-widgets/controls",
          "model_name": "HTMLModel",
          "model_module_version": "1.5.0",
          "state": {
            "_dom_classes": [],
            "_model_module": "@jupyter-widgets/controls",
            "_model_module_version": "1.5.0",
            "_model_name": "HTMLModel",
            "_view_count": null,
            "_view_module": "@jupyter-widgets/controls",
            "_view_module_version": "1.5.0",
            "_view_name": "HTMLView",
            "description": "",
            "description_tooltip": null,
            "layout": "IPY_MODEL_b2b94ea3a7834b5e822d718f005be514",
            "placeholder": "​",
            "style": "IPY_MODEL_e568b5f7957b425e80ddff4123f6df9d",
            "value": " 23110/23262 [00:13&lt;00:00, 1848.95 examples/s]"
          }
        },
        "49ce9b13338b44968ceaa27d6db18c3e": {
          "model_module": "@jupyter-widgets/base",
          "model_name": "LayoutModel",
          "model_module_version": "1.2.0",
          "state": {
            "_model_module": "@jupyter-widgets/base",
            "_model_module_version": "1.2.0",
            "_model_name": "LayoutModel",
            "_view_count": null,
            "_view_module": "@jupyter-widgets/base",
            "_view_module_version": "1.2.0",
            "_view_name": "LayoutView",
            "align_content": null,
            "align_items": null,
            "align_self": null,
            "border": null,
            "bottom": null,
            "display": null,
            "flex": null,
            "flex_flow": null,
            "grid_area": null,
            "grid_auto_columns": null,
            "grid_auto_flow": null,
            "grid_auto_rows": null,
            "grid_column": null,
            "grid_gap": null,
            "grid_row": null,
            "grid_template_areas": null,
            "grid_template_columns": null,
            "grid_template_rows": null,
            "height": null,
            "justify_content": null,
            "justify_items": null,
            "left": null,
            "margin": null,
            "max_height": null,
            "max_width": null,
            "min_height": null,
            "min_width": null,
            "object_fit": null,
            "object_position": null,
            "order": null,
            "overflow": null,
            "overflow_x": null,
            "overflow_y": null,
            "padding": null,
            "right": null,
            "top": null,
            "visibility": "hidden",
            "width": null
          }
        },
        "fed9dd10e48449f59e38d2ca81341c8f": {
          "model_module": "@jupyter-widgets/base",
          "model_name": "LayoutModel",
          "model_module_version": "1.2.0",
          "state": {
            "_model_module": "@jupyter-widgets/base",
            "_model_module_version": "1.2.0",
            "_model_name": "LayoutModel",
            "_view_count": null,
            "_view_module": "@jupyter-widgets/base",
            "_view_module_version": "1.2.0",
            "_view_name": "LayoutView",
            "align_content": null,
            "align_items": null,
            "align_self": null,
            "border": null,
            "bottom": null,
            "display": null,
            "flex": null,
            "flex_flow": null,
            "grid_area": null,
            "grid_auto_columns": null,
            "grid_auto_flow": null,
            "grid_auto_rows": null,
            "grid_column": null,
            "grid_gap": null,
            "grid_row": null,
            "grid_template_areas": null,
            "grid_template_columns": null,
            "grid_template_rows": null,
            "height": null,
            "justify_content": null,
            "justify_items": null,
            "left": null,
            "margin": null,
            "max_height": null,
            "max_width": null,
            "min_height": null,
            "min_width": null,
            "object_fit": null,
            "object_position": null,
            "order": null,
            "overflow": null,
            "overflow_x": null,
            "overflow_y": null,
            "padding": null,
            "right": null,
            "top": null,
            "visibility": null,
            "width": null
          }
        },
        "c2f2077418fb465cae9d0b62918ed7f9": {
          "model_module": "@jupyter-widgets/controls",
          "model_name": "DescriptionStyleModel",
          "model_module_version": "1.5.0",
          "state": {
            "_model_module": "@jupyter-widgets/controls",
            "_model_module_version": "1.5.0",
            "_model_name": "DescriptionStyleModel",
            "_view_count": null,
            "_view_module": "@jupyter-widgets/base",
            "_view_module_version": "1.2.0",
            "_view_name": "StyleView",
            "description_width": ""
          }
        },
        "7bc22bb505574d71a6f574715178a9ef": {
          "model_module": "@jupyter-widgets/base",
          "model_name": "LayoutModel",
          "model_module_version": "1.2.0",
          "state": {
            "_model_module": "@jupyter-widgets/base",
            "_model_module_version": "1.2.0",
            "_model_name": "LayoutModel",
            "_view_count": null,
            "_view_module": "@jupyter-widgets/base",
            "_view_module_version": "1.2.0",
            "_view_name": "LayoutView",
            "align_content": null,
            "align_items": null,
            "align_self": null,
            "border": null,
            "bottom": null,
            "display": null,
            "flex": null,
            "flex_flow": null,
            "grid_area": null,
            "grid_auto_columns": null,
            "grid_auto_flow": null,
            "grid_auto_rows": null,
            "grid_column": null,
            "grid_gap": null,
            "grid_row": null,
            "grid_template_areas": null,
            "grid_template_columns": null,
            "grid_template_rows": null,
            "height": null,
            "justify_content": null,
            "justify_items": null,
            "left": null,
            "margin": null,
            "max_height": null,
            "max_width": null,
            "min_height": null,
            "min_width": null,
            "object_fit": null,
            "object_position": null,
            "order": null,
            "overflow": null,
            "overflow_x": null,
            "overflow_y": null,
            "padding": null,
            "right": null,
            "top": null,
            "visibility": null,
            "width": null
          }
        },
        "d5dd99d6a6cc4d2ea749eeb22de503c8": {
          "model_module": "@jupyter-widgets/controls",
          "model_name": "ProgressStyleModel",
          "model_module_version": "1.5.0",
          "state": {
            "_model_module": "@jupyter-widgets/controls",
            "_model_module_version": "1.5.0",
            "_model_name": "ProgressStyleModel",
            "_view_count": null,
            "_view_module": "@jupyter-widgets/base",
            "_view_module_version": "1.2.0",
            "_view_name": "StyleView",
            "bar_color": null,
            "description_width": ""
          }
        },
        "b2b94ea3a7834b5e822d718f005be514": {
          "model_module": "@jupyter-widgets/base",
          "model_name": "LayoutModel",
          "model_module_version": "1.2.0",
          "state": {
            "_model_module": "@jupyter-widgets/base",
            "_model_module_version": "1.2.0",
            "_model_name": "LayoutModel",
            "_view_count": null,
            "_view_module": "@jupyter-widgets/base",
            "_view_module_version": "1.2.0",
            "_view_name": "LayoutView",
            "align_content": null,
            "align_items": null,
            "align_self": null,
            "border": null,
            "bottom": null,
            "display": null,
            "flex": null,
            "flex_flow": null,
            "grid_area": null,
            "grid_auto_columns": null,
            "grid_auto_flow": null,
            "grid_auto_rows": null,
            "grid_column": null,
            "grid_gap": null,
            "grid_row": null,
            "grid_template_areas": null,
            "grid_template_columns": null,
            "grid_template_rows": null,
            "height": null,
            "justify_content": null,
            "justify_items": null,
            "left": null,
            "margin": null,
            "max_height": null,
            "max_width": null,
            "min_height": null,
            "min_width": null,
            "object_fit": null,
            "object_position": null,
            "order": null,
            "overflow": null,
            "overflow_x": null,
            "overflow_y": null,
            "padding": null,
            "right": null,
            "top": null,
            "visibility": null,
            "width": null
          }
        },
        "e568b5f7957b425e80ddff4123f6df9d": {
          "model_module": "@jupyter-widgets/controls",
          "model_name": "DescriptionStyleModel",
          "model_module_version": "1.5.0",
          "state": {
            "_model_module": "@jupyter-widgets/controls",
            "_model_module_version": "1.5.0",
            "_model_name": "DescriptionStyleModel",
            "_view_count": null,
            "_view_module": "@jupyter-widgets/base",
            "_view_module_version": "1.2.0",
            "_view_name": "StyleView",
            "description_width": ""
          }
        },
        "4c2522d1d6ed4950860c284523e47b35": {
          "model_module": "@jupyter-widgets/controls",
          "model_name": "HBoxModel",
          "model_module_version": "1.5.0",
          "state": {
            "_dom_classes": [],
            "_model_module": "@jupyter-widgets/controls",
            "_model_module_version": "1.5.0",
            "_model_name": "HBoxModel",
            "_view_count": null,
            "_view_module": "@jupyter-widgets/controls",
            "_view_module_version": "1.5.0",
            "_view_name": "HBoxView",
            "box_style": "",
            "children": [
              "IPY_MODEL_de79cb8bb5774d17af0cfebce9ee95c3",
              "IPY_MODEL_b5b9ae51c36040e4ba99ff52e840c06f",
              "IPY_MODEL_2d1cff7e0e7c4c35a44f8cd8d1923d20"
            ],
            "layout": "IPY_MODEL_da81591cb817490c8758f7b3c9c8bc3b"
          }
        },
        "de79cb8bb5774d17af0cfebce9ee95c3": {
          "model_module": "@jupyter-widgets/controls",
          "model_name": "HTMLModel",
          "model_module_version": "1.5.0",
          "state": {
            "_dom_classes": [],
            "_model_module": "@jupyter-widgets/controls",
            "_model_module_version": "1.5.0",
            "_model_name": "HTMLModel",
            "_view_count": null,
            "_view_module": "@jupyter-widgets/controls",
            "_view_module_version": "1.5.0",
            "_view_name": "HTMLView",
            "description": "",
            "description_tooltip": null,
            "layout": "IPY_MODEL_daaaf3b5f13e4971b47bd8ffbef1d3aa",
            "placeholder": "​",
            "style": "IPY_MODEL_1876098de4ae40c895c06d3276a7fb21",
            "value": "Shuffling /root/tensorflow_datasets/cats_vs_dogs/4.0.0.incompleteWC607S/cats_vs_dogs-train.tfrecord*...:  98%"
          }
        },
        "b5b9ae51c36040e4ba99ff52e840c06f": {
          "model_module": "@jupyter-widgets/controls",
          "model_name": "FloatProgressModel",
          "model_module_version": "1.5.0",
          "state": {
            "_dom_classes": [],
            "_model_module": "@jupyter-widgets/controls",
            "_model_module_version": "1.5.0",
            "_model_name": "FloatProgressModel",
            "_view_count": null,
            "_view_module": "@jupyter-widgets/controls",
            "_view_module_version": "1.5.0",
            "_view_name": "ProgressView",
            "bar_style": "",
            "description": "",
            "description_tooltip": null,
            "layout": "IPY_MODEL_cb6d3d432a834305a2e1c7184e0e1901",
            "max": 23262,
            "min": 0,
            "orientation": "horizontal",
            "style": "IPY_MODEL_f1ce6a8e922b436a954607bf08d0ed39",
            "value": 23262
          }
        },
        "2d1cff7e0e7c4c35a44f8cd8d1923d20": {
          "model_module": "@jupyter-widgets/controls",
          "model_name": "HTMLModel",
          "model_module_version": "1.5.0",
          "state": {
            "_dom_classes": [],
            "_model_module": "@jupyter-widgets/controls",
            "_model_module_version": "1.5.0",
            "_model_name": "HTMLModel",
            "_view_count": null,
            "_view_module": "@jupyter-widgets/controls",
            "_view_module_version": "1.5.0",
            "_view_name": "HTMLView",
            "description": "",
            "description_tooltip": null,
            "layout": "IPY_MODEL_d8f214e39e2f4dcd8a2561d15fea0e98",
            "placeholder": "​",
            "style": "IPY_MODEL_b060117ccb384a6e953f4ae96126d368",
            "value": " 22884/23262 [00:02&lt;00:00, 8272.23 examples/s]"
          }
        },
        "da81591cb817490c8758f7b3c9c8bc3b": {
          "model_module": "@jupyter-widgets/base",
          "model_name": "LayoutModel",
          "model_module_version": "1.2.0",
          "state": {
            "_model_module": "@jupyter-widgets/base",
            "_model_module_version": "1.2.0",
            "_model_name": "LayoutModel",
            "_view_count": null,
            "_view_module": "@jupyter-widgets/base",
            "_view_module_version": "1.2.0",
            "_view_name": "LayoutView",
            "align_content": null,
            "align_items": null,
            "align_self": null,
            "border": null,
            "bottom": null,
            "display": null,
            "flex": null,
            "flex_flow": null,
            "grid_area": null,
            "grid_auto_columns": null,
            "grid_auto_flow": null,
            "grid_auto_rows": null,
            "grid_column": null,
            "grid_gap": null,
            "grid_row": null,
            "grid_template_areas": null,
            "grid_template_columns": null,
            "grid_template_rows": null,
            "height": null,
            "justify_content": null,
            "justify_items": null,
            "left": null,
            "margin": null,
            "max_height": null,
            "max_width": null,
            "min_height": null,
            "min_width": null,
            "object_fit": null,
            "object_position": null,
            "order": null,
            "overflow": null,
            "overflow_x": null,
            "overflow_y": null,
            "padding": null,
            "right": null,
            "top": null,
            "visibility": "hidden",
            "width": null
          }
        },
        "daaaf3b5f13e4971b47bd8ffbef1d3aa": {
          "model_module": "@jupyter-widgets/base",
          "model_name": "LayoutModel",
          "model_module_version": "1.2.0",
          "state": {
            "_model_module": "@jupyter-widgets/base",
            "_model_module_version": "1.2.0",
            "_model_name": "LayoutModel",
            "_view_count": null,
            "_view_module": "@jupyter-widgets/base",
            "_view_module_version": "1.2.0",
            "_view_name": "LayoutView",
            "align_content": null,
            "align_items": null,
            "align_self": null,
            "border": null,
            "bottom": null,
            "display": null,
            "flex": null,
            "flex_flow": null,
            "grid_area": null,
            "grid_auto_columns": null,
            "grid_auto_flow": null,
            "grid_auto_rows": null,
            "grid_column": null,
            "grid_gap": null,
            "grid_row": null,
            "grid_template_areas": null,
            "grid_template_columns": null,
            "grid_template_rows": null,
            "height": null,
            "justify_content": null,
            "justify_items": null,
            "left": null,
            "margin": null,
            "max_height": null,
            "max_width": null,
            "min_height": null,
            "min_width": null,
            "object_fit": null,
            "object_position": null,
            "order": null,
            "overflow": null,
            "overflow_x": null,
            "overflow_y": null,
            "padding": null,
            "right": null,
            "top": null,
            "visibility": null,
            "width": null
          }
        },
        "1876098de4ae40c895c06d3276a7fb21": {
          "model_module": "@jupyter-widgets/controls",
          "model_name": "DescriptionStyleModel",
          "model_module_version": "1.5.0",
          "state": {
            "_model_module": "@jupyter-widgets/controls",
            "_model_module_version": "1.5.0",
            "_model_name": "DescriptionStyleModel",
            "_view_count": null,
            "_view_module": "@jupyter-widgets/base",
            "_view_module_version": "1.2.0",
            "_view_name": "StyleView",
            "description_width": ""
          }
        },
        "cb6d3d432a834305a2e1c7184e0e1901": {
          "model_module": "@jupyter-widgets/base",
          "model_name": "LayoutModel",
          "model_module_version": "1.2.0",
          "state": {
            "_model_module": "@jupyter-widgets/base",
            "_model_module_version": "1.2.0",
            "_model_name": "LayoutModel",
            "_view_count": null,
            "_view_module": "@jupyter-widgets/base",
            "_view_module_version": "1.2.0",
            "_view_name": "LayoutView",
            "align_content": null,
            "align_items": null,
            "align_self": null,
            "border": null,
            "bottom": null,
            "display": null,
            "flex": null,
            "flex_flow": null,
            "grid_area": null,
            "grid_auto_columns": null,
            "grid_auto_flow": null,
            "grid_auto_rows": null,
            "grid_column": null,
            "grid_gap": null,
            "grid_row": null,
            "grid_template_areas": null,
            "grid_template_columns": null,
            "grid_template_rows": null,
            "height": null,
            "justify_content": null,
            "justify_items": null,
            "left": null,
            "margin": null,
            "max_height": null,
            "max_width": null,
            "min_height": null,
            "min_width": null,
            "object_fit": null,
            "object_position": null,
            "order": null,
            "overflow": null,
            "overflow_x": null,
            "overflow_y": null,
            "padding": null,
            "right": null,
            "top": null,
            "visibility": null,
            "width": null
          }
        },
        "f1ce6a8e922b436a954607bf08d0ed39": {
          "model_module": "@jupyter-widgets/controls",
          "model_name": "ProgressStyleModel",
          "model_module_version": "1.5.0",
          "state": {
            "_model_module": "@jupyter-widgets/controls",
            "_model_module_version": "1.5.0",
            "_model_name": "ProgressStyleModel",
            "_view_count": null,
            "_view_module": "@jupyter-widgets/base",
            "_view_module_version": "1.2.0",
            "_view_name": "StyleView",
            "bar_color": null,
            "description_width": ""
          }
        },
        "d8f214e39e2f4dcd8a2561d15fea0e98": {
          "model_module": "@jupyter-widgets/base",
          "model_name": "LayoutModel",
          "model_module_version": "1.2.0",
          "state": {
            "_model_module": "@jupyter-widgets/base",
            "_model_module_version": "1.2.0",
            "_model_name": "LayoutModel",
            "_view_count": null,
            "_view_module": "@jupyter-widgets/base",
            "_view_module_version": "1.2.0",
            "_view_name": "LayoutView",
            "align_content": null,
            "align_items": null,
            "align_self": null,
            "border": null,
            "bottom": null,
            "display": null,
            "flex": null,
            "flex_flow": null,
            "grid_area": null,
            "grid_auto_columns": null,
            "grid_auto_flow": null,
            "grid_auto_rows": null,
            "grid_column": null,
            "grid_gap": null,
            "grid_row": null,
            "grid_template_areas": null,
            "grid_template_columns": null,
            "grid_template_rows": null,
            "height": null,
            "justify_content": null,
            "justify_items": null,
            "left": null,
            "margin": null,
            "max_height": null,
            "max_width": null,
            "min_height": null,
            "min_width": null,
            "object_fit": null,
            "object_position": null,
            "order": null,
            "overflow": null,
            "overflow_x": null,
            "overflow_y": null,
            "padding": null,
            "right": null,
            "top": null,
            "visibility": null,
            "width": null
          }
        },
        "b060117ccb384a6e953f4ae96126d368": {
          "model_module": "@jupyter-widgets/controls",
          "model_name": "DescriptionStyleModel",
          "model_module_version": "1.5.0",
          "state": {
            "_model_module": "@jupyter-widgets/controls",
            "_model_module_version": "1.5.0",
            "_model_name": "DescriptionStyleModel",
            "_view_count": null,
            "_view_module": "@jupyter-widgets/base",
            "_view_module_version": "1.2.0",
            "_view_name": "StyleView",
            "description_width": ""
          }
        }
      }
    }
  },
  "nbformat": 4,
  "nbformat_minor": 5
}