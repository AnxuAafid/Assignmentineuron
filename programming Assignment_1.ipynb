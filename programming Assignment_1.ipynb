{
 "cells": [
  {
   "cell_type": "markdown",
   "id": "a4e7c7ee",
   "metadata": {},
   "source": [
    "# 1. Write a Python program to print 'Hello Python'?"
   ]
  },
  {
   "cell_type": "code",
   "execution_count": 1,
   "id": "7d9e99e8",
   "metadata": {},
   "outputs": [
    {
     "name": "stdout",
     "output_type": "stream",
     "text": [
      "Hello Python\n"
     ]
    }
   ],
   "source": [
    "print(\"Hello Python\")"
   ]
  },
  {
   "cell_type": "code",
   "execution_count": 7,
   "id": "e319cf4f",
   "metadata": {},
   "outputs": [
    {
     "name": "stdout",
     "output_type": "stream",
     "text": [
      "Hello Python\n",
      "Hello Python\n"
     ]
    }
   ],
   "source": [
    "def prntpy():\n",
    "    return \"Hello Python\"\n",
    "print(prntpy())\n",
    "a = prntpy()\n",
    "print(a)"
   ]
  },
  {
   "cell_type": "markdown",
   "id": "a5414ccb",
   "metadata": {},
   "source": [
    "# 2. Write a Python program to do arithmetical operations addition and division.?"
   ]
  },
  {
   "cell_type": "code",
   "execution_count": 10,
   "id": "d010e227",
   "metadata": {},
   "outputs": [
    {
     "name": "stdout",
     "output_type": "stream",
     "text": [
      "2\n",
      "3\n",
      "The addition of two numbers is :  5\n",
      "The division of two numbers is :  0.6666666666666666\n"
     ]
    }
   ],
   "source": [
    "num1 = int(input())\n",
    "num2 = int(input())\n",
    "print('The addition of two numbers is : ', num1+num2)\n",
    "print('The division of two numbers is : ', num1/num2)"
   ]
  },
  {
   "cell_type": "code",
   "execution_count": 11,
   "id": "b4a3b857",
   "metadata": {},
   "outputs": [],
   "source": [
    "class Ap:\n",
    "    def __init__(self, num1,num2):\n",
    "        self.num1 = num1\n",
    "        self.num2 = num2\n",
    "    def addition(self):\n",
    "        print('addtion output is ', self.num1+self.num2)\n",
    "    def division(self):\n",
    "        print('division is ', self.num1/self.num2)\n",
    "obj = Ap(2,3)"
   ]
  },
  {
   "cell_type": "code",
   "execution_count": 14,
   "id": "95938150",
   "metadata": {},
   "outputs": [
    {
     "name": "stdout",
     "output_type": "stream",
     "text": [
      "addtion output is  5\n",
      "division is  0.6666666666666666\n"
     ]
    },
    {
     "data": {
      "text/plain": [
       "(None, None)"
      ]
     },
     "execution_count": 14,
     "metadata": {},
     "output_type": "execute_result"
    }
   ],
   "source": [
    "obj.addition(), obj.division()"
   ]
  },
  {
   "cell_type": "code",
   "execution_count": 21,
   "id": "dbce090a",
   "metadata": {},
   "outputs": [
    {
     "name": "stdout",
     "output_type": "stream",
     "text": [
      "enter the first num: 2\n",
      "enter the sec num: 3\n",
      "addtion output is  5\n",
      "division is  0.6666666666666666\n"
     ]
    }
   ],
   "source": [
    "class Ap:\n",
    "    def __init__(self, num1,num2):\n",
    "        self.num1 = num1\n",
    "        self.num2 = num2\n",
    "        self.display()\n",
    "    def addition(self):\n",
    "        print('addtion output is ', self.num1+self.num2)\n",
    "    def division(self):\n",
    "        try:\n",
    "            print('division is ', self.num1/self.num2)\n",
    "        except Exception as e:\n",
    "            print('exception raised as ',e ,\"please check your input data\")\n",
    "    def display(self):\n",
    "        self.addition()\n",
    "        self.division()\n",
    "a = int(input(\"enter the first num: \"))\n",
    "b = int(input(\"enter the sec num: \"))\n",
    "\n",
    "obj = Ap(a,b)\n",
    " "
   ]
  },
  {
   "cell_type": "markdown",
   "id": "be6e148b",
   "metadata": {},
   "source": [
    "# 3. Write a Python program to find the area of a triangle?"
   ]
  },
  {
   "cell_type": "code",
   "execution_count": 23,
   "id": "1fab7374",
   "metadata": {},
   "outputs": [
    {
     "name": "stdout",
     "output_type": "stream",
     "text": [
      "Enter the base of triangle1\n",
      "Enter the height of the triangle 2\n",
      "1.0\n"
     ]
    }
   ],
   "source": [
    "def area(b,h):\n",
    "    return 0.5*b*h\n",
    "base = int(input('Enter the base of triangle'))\n",
    "height = int(input('Enter the height of the triangle '))\n",
    "print(area(base,height))"
   ]
  },
  {
   "cell_type": "markdown",
   "id": "785de280",
   "metadata": {},
   "source": [
    "# 4. Write a Python program to swap two variables?"
   ]
  },
  {
   "cell_type": "code",
   "execution_count": 26,
   "id": "a5dedcf0",
   "metadata": {},
   "outputs": [
    {
     "name": "stdout",
     "output_type": "stream",
     "text": [
      "3\n",
      "5\n",
      "new val of first num is  5\n",
      "new val of sec num is  3\n"
     ]
    }
   ],
   "source": [
    "a = int(input())\n",
    "b = int(input())\n",
    "a,b = b,a\n",
    "print('new val of first num is ',a)\n",
    "print('new val of sec num is ',b)"
   ]
  },
  {
   "cell_type": "markdown",
   "id": "096c9c22",
   "metadata": {},
   "source": [
    "# 5. Write a Python program to generate a random number?"
   ]
  },
  {
   "cell_type": "code",
   "execution_count": 29,
   "id": "323b339b",
   "metadata": {},
   "outputs": [
    {
     "name": "stdout",
     "output_type": "stream",
     "text": [
      "6\n",
      "0.39009650787489747\n"
     ]
    }
   ],
   "source": [
    "import random\n",
    "print(random.randint(0,10))\n",
    "print(random.random())"
   ]
  },
  {
   "cell_type": "code",
   "execution_count": null,
   "id": "24a4c18d",
   "metadata": {},
   "outputs": [],
   "source": []
  }
 ],
 "metadata": {
  "kernelspec": {
   "display_name": "Python 3",
   "language": "python",
   "name": "python3"
  },
  "language_info": {
   "codemirror_mode": {
    "name": "ipython",
    "version": 3
   },
   "file_extension": ".py",
   "mimetype": "text/x-python",
   "name": "python",
   "nbconvert_exporter": "python",
   "pygments_lexer": "ipython3",
   "version": "3.8.8"
  }
 },
 "nbformat": 4,
 "nbformat_minor": 5
}
